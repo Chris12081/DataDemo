{
 "cells": [
  {
   "cell_type": "markdown",
   "metadata": {},
   "source": [
    "# 10 MINUTES TO PANDAS"
   ]
  },
  {
   "cell_type": "code",
   "execution_count": 1,
   "metadata": {
    "collapsed": true
   },
   "outputs": [],
   "source": [
    "# title  : 10 MINUTES TO PANDAS\n",
    "# date   : 2017.10.26\n",
    "# file   : 10m_pandas.ipynb\n",
    "# author : Ming-Chang Lee\n",
    "# email  : alan9956@gmail.com\n",
    "# RWEPA  : http://rwepa.blogspot.tw/\n",
    "# source : https://pandas.pydata.org/pandas-docs/stable/getting_started/10min.html"
   ]
  },
  {
   "cell_type": "code",
   "execution_count": 3,
   "metadata": {
    "collapsed": true
   },
   "outputs": [],
   "source": [
    "import pandas as pd"
   ]
  },
  {
   "cell_type": "code",
   "execution_count": 4,
   "metadata": {
    "collapsed": true
   },
   "outputs": [],
   "source": [
    "import numpy as np"
   ]
  },
  {
   "cell_type": "code",
   "execution_count": 5,
   "metadata": {
    "collapsed": true
   },
   "outputs": [],
   "source": [
    "import matplotlib.pyplot as plt"
   ]
  },
  {
   "cell_type": "markdown",
   "metadata": {},
   "source": [
    "# 5.1 Object Creation 建立物件"
   ]
  },
  {
   "cell_type": "code",
   "execution_count": 6,
   "metadata": {
    "collapsed": true
   },
   "outputs": [],
   "source": [
    "# Creating a Series by passing a list of values, letting pandas create a default integer index\n",
    "# 建立序列(Series)"
   ]
  },
  {
   "cell_type": "code",
   "execution_count": 7,
   "metadata": {},
   "outputs": [
    {
     "data": {
      "text/plain": [
       "0    1.0\n",
       "1    3.0\n",
       "2    5.0\n",
       "3    NaN\n",
       "4    6.0\n",
       "5    8.0\n",
       "dtype: float64"
      ]
     },
     "execution_count": 7,
     "metadata": {},
     "output_type": "execute_result"
    }
   ],
   "source": [
    "s = pd.Series([1,3,5,np.nan,6,8])\n",
    "s"
   ]
  },
  {
   "cell_type": "code",
   "execution_count": 8,
   "metadata": {},
   "outputs": [
    {
     "data": {
      "text/plain": [
       "pandas.core.series.Series"
      ]
     },
     "execution_count": 8,
     "metadata": {},
     "output_type": "execute_result"
    }
   ],
   "source": [
    "type(s)"
   ]
  },
  {
   "cell_type": "code",
   "execution_count": 9,
   "metadata": {
    "collapsed": true
   },
   "outputs": [],
   "source": [
    "# Creating a DataFrame by passing a numpy array, with a datetime index and labeled columns\n",
    "# 建立資料框 DataFrame"
   ]
  },
  {
   "cell_type": "code",
   "execution_count": 10,
   "metadata": {
    "slideshow": {
     "slide_type": "slide"
    }
   },
   "outputs": [
    {
     "data": {
      "text/plain": [
       "DatetimeIndex(['2013-01-01', '2013-01-02', '2013-01-03', '2013-01-04',\n",
       "               '2013-01-05', '2013-01-06'],\n",
       "              dtype='datetime64[ns]', freq='D')"
      ]
     },
     "execution_count": 10,
     "metadata": {},
     "output_type": "execute_result"
    }
   ],
   "source": [
    "dates = pd.date_range('20130101', periods=6)\n",
    "dates"
   ]
  },
  {
   "cell_type": "code",
   "execution_count": 11,
   "metadata": {},
   "outputs": [
    {
     "data": {
      "text/plain": [
       "pandas.core.indexes.datetimes.DatetimeIndex"
      ]
     },
     "execution_count": 11,
     "metadata": {},
     "output_type": "execute_result"
    }
   ],
   "source": [
    "type(dates)"
   ]
  },
  {
   "cell_type": "code",
   "execution_count": 12,
   "metadata": {
    "collapsed": true
   },
   "outputs": [],
   "source": [
    "df = pd.DataFrame(np.random.randn(6,4), index=dates, columns=list('ABCD'))"
   ]
  },
  {
   "cell_type": "code",
   "execution_count": 13,
   "metadata": {},
   "outputs": [
    {
     "data": {
      "text/html": [
       "<div>\n",
       "<style>\n",
       "    .dataframe thead tr:only-child th {\n",
       "        text-align: right;\n",
       "    }\n",
       "\n",
       "    .dataframe thead th {\n",
       "        text-align: left;\n",
       "    }\n",
       "\n",
       "    .dataframe tbody tr th {\n",
       "        vertical-align: top;\n",
       "    }\n",
       "</style>\n",
       "<table border=\"1\" class=\"dataframe\">\n",
       "  <thead>\n",
       "    <tr style=\"text-align: right;\">\n",
       "      <th></th>\n",
       "      <th>A</th>\n",
       "      <th>B</th>\n",
       "      <th>C</th>\n",
       "      <th>D</th>\n",
       "    </tr>\n",
       "  </thead>\n",
       "  <tbody>\n",
       "    <tr>\n",
       "      <th>2013-01-01</th>\n",
       "      <td>1.231669</td>\n",
       "      <td>-1.111587</td>\n",
       "      <td>-1.408793</td>\n",
       "      <td>-2.526336</td>\n",
       "    </tr>\n",
       "    <tr>\n",
       "      <th>2013-01-02</th>\n",
       "      <td>-1.118538</td>\n",
       "      <td>0.614776</td>\n",
       "      <td>0.441831</td>\n",
       "      <td>-0.071401</td>\n",
       "    </tr>\n",
       "    <tr>\n",
       "      <th>2013-01-03</th>\n",
       "      <td>-1.355569</td>\n",
       "      <td>-1.740360</td>\n",
       "      <td>-0.095000</td>\n",
       "      <td>-0.549087</td>\n",
       "    </tr>\n",
       "    <tr>\n",
       "      <th>2013-01-04</th>\n",
       "      <td>-0.237156</td>\n",
       "      <td>0.735989</td>\n",
       "      <td>1.756625</td>\n",
       "      <td>1.340893</td>\n",
       "    </tr>\n",
       "    <tr>\n",
       "      <th>2013-01-05</th>\n",
       "      <td>0.053299</td>\n",
       "      <td>1.101957</td>\n",
       "      <td>-0.920676</td>\n",
       "      <td>-0.221553</td>\n",
       "    </tr>\n",
       "    <tr>\n",
       "      <th>2013-01-06</th>\n",
       "      <td>-0.699395</td>\n",
       "      <td>0.532872</td>\n",
       "      <td>1.549432</td>\n",
       "      <td>-0.983767</td>\n",
       "    </tr>\n",
       "  </tbody>\n",
       "</table>\n",
       "</div>"
      ],
      "text/plain": [
       "                   A         B         C         D\n",
       "2013-01-01  1.231669 -1.111587 -1.408793 -2.526336\n",
       "2013-01-02 -1.118538  0.614776  0.441831 -0.071401\n",
       "2013-01-03 -1.355569 -1.740360 -0.095000 -0.549087\n",
       "2013-01-04 -0.237156  0.735989  1.756625  1.340893\n",
       "2013-01-05  0.053299  1.101957 -0.920676 -0.221553\n",
       "2013-01-06 -0.699395  0.532872  1.549432 -0.983767"
      ]
     },
     "execution_count": 13,
     "metadata": {},
     "output_type": "execute_result"
    }
   ],
   "source": [
    "df"
   ]
  },
  {
   "cell_type": "code",
   "execution_count": 14,
   "metadata": {
    "collapsed": true
   },
   "outputs": [],
   "source": [
    "# Creating a DataFrame by passing a dict of objects that can be converted to series-like.\n",
    "# 建立資料框 DataFrame"
   ]
  },
  {
   "cell_type": "code",
   "execution_count": 15,
   "metadata": {
    "collapsed": true
   },
   "outputs": [],
   "source": [
    "df2 = pd.DataFrame({ 'A' : 1.,\n",
    "    'B' : pd.Timestamp('20130102'),\n",
    "    'C' : pd.Series(1,index=list(range(4)),dtype='float32'),\n",
    "    'D' : np.array([3] * 4,dtype='int32'),\n",
    "    'E' : pd.Categorical([\"test\",\"train\",\"test\",\"train\"]),\n",
    "    'F' : 'foo' })"
   ]
  },
  {
   "cell_type": "code",
   "execution_count": 16,
   "metadata": {},
   "outputs": [
    {
     "data": {
      "text/html": [
       "<div>\n",
       "<style>\n",
       "    .dataframe thead tr:only-child th {\n",
       "        text-align: right;\n",
       "    }\n",
       "\n",
       "    .dataframe thead th {\n",
       "        text-align: left;\n",
       "    }\n",
       "\n",
       "    .dataframe tbody tr th {\n",
       "        vertical-align: top;\n",
       "    }\n",
       "</style>\n",
       "<table border=\"1\" class=\"dataframe\">\n",
       "  <thead>\n",
       "    <tr style=\"text-align: right;\">\n",
       "      <th></th>\n",
       "      <th>A</th>\n",
       "      <th>B</th>\n",
       "      <th>C</th>\n",
       "      <th>D</th>\n",
       "      <th>E</th>\n",
       "      <th>F</th>\n",
       "    </tr>\n",
       "  </thead>\n",
       "  <tbody>\n",
       "    <tr>\n",
       "      <th>0</th>\n",
       "      <td>1.0</td>\n",
       "      <td>2013-01-02</td>\n",
       "      <td>1.0</td>\n",
       "      <td>3</td>\n",
       "      <td>test</td>\n",
       "      <td>foo</td>\n",
       "    </tr>\n",
       "    <tr>\n",
       "      <th>1</th>\n",
       "      <td>1.0</td>\n",
       "      <td>2013-01-02</td>\n",
       "      <td>1.0</td>\n",
       "      <td>3</td>\n",
       "      <td>train</td>\n",
       "      <td>foo</td>\n",
       "    </tr>\n",
       "    <tr>\n",
       "      <th>2</th>\n",
       "      <td>1.0</td>\n",
       "      <td>2013-01-02</td>\n",
       "      <td>1.0</td>\n",
       "      <td>3</td>\n",
       "      <td>test</td>\n",
       "      <td>foo</td>\n",
       "    </tr>\n",
       "    <tr>\n",
       "      <th>3</th>\n",
       "      <td>1.0</td>\n",
       "      <td>2013-01-02</td>\n",
       "      <td>1.0</td>\n",
       "      <td>3</td>\n",
       "      <td>train</td>\n",
       "      <td>foo</td>\n",
       "    </tr>\n",
       "  </tbody>\n",
       "</table>\n",
       "</div>"
      ],
      "text/plain": [
       "     A          B    C  D      E    F\n",
       "0  1.0 2013-01-02  1.0  3   test  foo\n",
       "1  1.0 2013-01-02  1.0  3  train  foo\n",
       "2  1.0 2013-01-02  1.0  3   test  foo\n",
       "3  1.0 2013-01-02  1.0  3  train  foo"
      ]
     },
     "execution_count": 16,
     "metadata": {},
     "output_type": "execute_result"
    }
   ],
   "source": [
    "df2"
   ]
  },
  {
   "cell_type": "raw",
   "metadata": {},
   "source": [
    "# dtypes: 表示資料型態"
   ]
  },
  {
   "cell_type": "code",
   "execution_count": 17,
   "metadata": {},
   "outputs": [
    {
     "data": {
      "text/plain": [
       "A           float64\n",
       "B    datetime64[ns]\n",
       "C           float32\n",
       "D             int32\n",
       "E          category\n",
       "F            object\n",
       "dtype: object"
      ]
     },
     "execution_count": 17,
     "metadata": {},
     "output_type": "execute_result"
    }
   ],
   "source": [
    "df2.dtypes "
   ]
  },
  {
   "cell_type": "code",
   "execution_count": 18,
   "metadata": {
    "collapsed": true
   },
   "outputs": [],
   "source": [
    "# df2. 按 [Tab] 按鈕"
   ]
  },
  {
   "cell_type": "markdown",
   "metadata": {
    "collapsed": true
   },
   "source": [
    "# 5.2 Viewing Data 資料檢視"
   ]
  },
  {
   "cell_type": "code",
   "execution_count": 19,
   "metadata": {},
   "outputs": [
    {
     "data": {
      "text/html": [
       "<div>\n",
       "<style>\n",
       "    .dataframe thead tr:only-child th {\n",
       "        text-align: right;\n",
       "    }\n",
       "\n",
       "    .dataframe thead th {\n",
       "        text-align: left;\n",
       "    }\n",
       "\n",
       "    .dataframe tbody tr th {\n",
       "        vertical-align: top;\n",
       "    }\n",
       "</style>\n",
       "<table border=\"1\" class=\"dataframe\">\n",
       "  <thead>\n",
       "    <tr style=\"text-align: right;\">\n",
       "      <th></th>\n",
       "      <th>A</th>\n",
       "      <th>B</th>\n",
       "      <th>C</th>\n",
       "      <th>D</th>\n",
       "    </tr>\n",
       "  </thead>\n",
       "  <tbody>\n",
       "    <tr>\n",
       "      <th>2013-01-01</th>\n",
       "      <td>1.231669</td>\n",
       "      <td>-1.111587</td>\n",
       "      <td>-1.408793</td>\n",
       "      <td>-2.526336</td>\n",
       "    </tr>\n",
       "    <tr>\n",
       "      <th>2013-01-02</th>\n",
       "      <td>-1.118538</td>\n",
       "      <td>0.614776</td>\n",
       "      <td>0.441831</td>\n",
       "      <td>-0.071401</td>\n",
       "    </tr>\n",
       "    <tr>\n",
       "      <th>2013-01-03</th>\n",
       "      <td>-1.355569</td>\n",
       "      <td>-1.740360</td>\n",
       "      <td>-0.095000</td>\n",
       "      <td>-0.549087</td>\n",
       "    </tr>\n",
       "    <tr>\n",
       "      <th>2013-01-04</th>\n",
       "      <td>-0.237156</td>\n",
       "      <td>0.735989</td>\n",
       "      <td>1.756625</td>\n",
       "      <td>1.340893</td>\n",
       "    </tr>\n",
       "    <tr>\n",
       "      <th>2013-01-05</th>\n",
       "      <td>0.053299</td>\n",
       "      <td>1.101957</td>\n",
       "      <td>-0.920676</td>\n",
       "      <td>-0.221553</td>\n",
       "    </tr>\n",
       "    <tr>\n",
       "      <th>2013-01-06</th>\n",
       "      <td>-0.699395</td>\n",
       "      <td>0.532872</td>\n",
       "      <td>1.549432</td>\n",
       "      <td>-0.983767</td>\n",
       "    </tr>\n",
       "  </tbody>\n",
       "</table>\n",
       "</div>"
      ],
      "text/plain": [
       "                   A         B         C         D\n",
       "2013-01-01  1.231669 -1.111587 -1.408793 -2.526336\n",
       "2013-01-02 -1.118538  0.614776  0.441831 -0.071401\n",
       "2013-01-03 -1.355569 -1.740360 -0.095000 -0.549087\n",
       "2013-01-04 -0.237156  0.735989  1.756625  1.340893\n",
       "2013-01-05  0.053299  1.101957 -0.920676 -0.221553\n",
       "2013-01-06 -0.699395  0.532872  1.549432 -0.983767"
      ]
     },
     "execution_count": 19,
     "metadata": {},
     "output_type": "execute_result"
    }
   ],
   "source": [
    "df"
   ]
  },
  {
   "cell_type": "code",
   "execution_count": 20,
   "metadata": {
    "collapsed": true
   },
   "outputs": [],
   "source": [
    "# See the top & bottom rows of the frame\n",
    "# 檢視前幾筆資料, 後幾筆資料"
   ]
  },
  {
   "cell_type": "code",
   "execution_count": 21,
   "metadata": {},
   "outputs": [
    {
     "data": {
      "text/html": [
       "<div>\n",
       "<style>\n",
       "    .dataframe thead tr:only-child th {\n",
       "        text-align: right;\n",
       "    }\n",
       "\n",
       "    .dataframe thead th {\n",
       "        text-align: left;\n",
       "    }\n",
       "\n",
       "    .dataframe tbody tr th {\n",
       "        vertical-align: top;\n",
       "    }\n",
       "</style>\n",
       "<table border=\"1\" class=\"dataframe\">\n",
       "  <thead>\n",
       "    <tr style=\"text-align: right;\">\n",
       "      <th></th>\n",
       "      <th>A</th>\n",
       "      <th>B</th>\n",
       "      <th>C</th>\n",
       "      <th>D</th>\n",
       "    </tr>\n",
       "  </thead>\n",
       "  <tbody>\n",
       "    <tr>\n",
       "      <th>2013-01-01</th>\n",
       "      <td>1.231669</td>\n",
       "      <td>-1.111587</td>\n",
       "      <td>-1.408793</td>\n",
       "      <td>-2.526336</td>\n",
       "    </tr>\n",
       "    <tr>\n",
       "      <th>2013-01-02</th>\n",
       "      <td>-1.118538</td>\n",
       "      <td>0.614776</td>\n",
       "      <td>0.441831</td>\n",
       "      <td>-0.071401</td>\n",
       "    </tr>\n",
       "    <tr>\n",
       "      <th>2013-01-03</th>\n",
       "      <td>-1.355569</td>\n",
       "      <td>-1.740360</td>\n",
       "      <td>-0.095000</td>\n",
       "      <td>-0.549087</td>\n",
       "    </tr>\n",
       "    <tr>\n",
       "      <th>2013-01-04</th>\n",
       "      <td>-0.237156</td>\n",
       "      <td>0.735989</td>\n",
       "      <td>1.756625</td>\n",
       "      <td>1.340893</td>\n",
       "    </tr>\n",
       "    <tr>\n",
       "      <th>2013-01-05</th>\n",
       "      <td>0.053299</td>\n",
       "      <td>1.101957</td>\n",
       "      <td>-0.920676</td>\n",
       "      <td>-0.221553</td>\n",
       "    </tr>\n",
       "  </tbody>\n",
       "</table>\n",
       "</div>"
      ],
      "text/plain": [
       "                   A         B         C         D\n",
       "2013-01-01  1.231669 -1.111587 -1.408793 -2.526336\n",
       "2013-01-02 -1.118538  0.614776  0.441831 -0.071401\n",
       "2013-01-03 -1.355569 -1.740360 -0.095000 -0.549087\n",
       "2013-01-04 -0.237156  0.735989  1.756625  1.340893\n",
       "2013-01-05  0.053299  1.101957 -0.920676 -0.221553"
      ]
     },
     "execution_count": 21,
     "metadata": {},
     "output_type": "execute_result"
    }
   ],
   "source": [
    "df.head() # 顯示前5筆資料"
   ]
  },
  {
   "cell_type": "code",
   "execution_count": 22,
   "metadata": {},
   "outputs": [
    {
     "data": {
      "text/html": [
       "<div>\n",
       "<style>\n",
       "    .dataframe thead tr:only-child th {\n",
       "        text-align: right;\n",
       "    }\n",
       "\n",
       "    .dataframe thead th {\n",
       "        text-align: left;\n",
       "    }\n",
       "\n",
       "    .dataframe tbody tr th {\n",
       "        vertical-align: top;\n",
       "    }\n",
       "</style>\n",
       "<table border=\"1\" class=\"dataframe\">\n",
       "  <thead>\n",
       "    <tr style=\"text-align: right;\">\n",
       "      <th></th>\n",
       "      <th>A</th>\n",
       "      <th>B</th>\n",
       "      <th>C</th>\n",
       "      <th>D</th>\n",
       "    </tr>\n",
       "  </thead>\n",
       "  <tbody>\n",
       "    <tr>\n",
       "      <th>2013-01-04</th>\n",
       "      <td>-0.237156</td>\n",
       "      <td>0.735989</td>\n",
       "      <td>1.756625</td>\n",
       "      <td>1.340893</td>\n",
       "    </tr>\n",
       "    <tr>\n",
       "      <th>2013-01-05</th>\n",
       "      <td>0.053299</td>\n",
       "      <td>1.101957</td>\n",
       "      <td>-0.920676</td>\n",
       "      <td>-0.221553</td>\n",
       "    </tr>\n",
       "    <tr>\n",
       "      <th>2013-01-06</th>\n",
       "      <td>-0.699395</td>\n",
       "      <td>0.532872</td>\n",
       "      <td>1.549432</td>\n",
       "      <td>-0.983767</td>\n",
       "    </tr>\n",
       "  </tbody>\n",
       "</table>\n",
       "</div>"
      ],
      "text/plain": [
       "                   A         B         C         D\n",
       "2013-01-04 -0.237156  0.735989  1.756625  1.340893\n",
       "2013-01-05  0.053299  1.101957 -0.920676 -0.221553\n",
       "2013-01-06 -0.699395  0.532872  1.549432 -0.983767"
      ]
     },
     "execution_count": 22,
     "metadata": {},
     "output_type": "execute_result"
    }
   ],
   "source": [
    "df.tail(3)"
   ]
  },
  {
   "cell_type": "code",
   "execution_count": 23,
   "metadata": {
    "collapsed": true
   },
   "outputs": [],
   "source": [
    "# Display the index, columns, and the underlying numpy data\n",
    "# 顯示索引(index), 欄名稱(columns), 資料值"
   ]
  },
  {
   "cell_type": "code",
   "execution_count": 24,
   "metadata": {},
   "outputs": [
    {
     "data": {
      "text/plain": [
       "DatetimeIndex(['2013-01-01', '2013-01-02', '2013-01-03', '2013-01-04',\n",
       "               '2013-01-05', '2013-01-06'],\n",
       "              dtype='datetime64[ns]', freq='D')"
      ]
     },
     "execution_count": 24,
     "metadata": {},
     "output_type": "execute_result"
    }
   ],
   "source": [
    "df.index"
   ]
  },
  {
   "cell_type": "code",
   "execution_count": 25,
   "metadata": {},
   "outputs": [
    {
     "data": {
      "text/plain": [
       "Index(['A', 'B', 'C', 'D'], dtype='object')"
      ]
     },
     "execution_count": 25,
     "metadata": {},
     "output_type": "execute_result"
    }
   ],
   "source": [
    "df.columns"
   ]
  },
  {
   "cell_type": "code",
   "execution_count": 26,
   "metadata": {},
   "outputs": [
    {
     "data": {
      "text/plain": [
       "array([[ 1.23166911, -1.11158749, -1.40879261, -2.52633636],\n",
       "       [-1.11853777,  0.61477564,  0.44183092, -0.07140053],\n",
       "       [-1.35556865, -1.7403599 , -0.09500041, -0.5490869 ],\n",
       "       [-0.23715605,  0.73598944,  1.75662462,  1.34089282],\n",
       "       [ 0.05329908,  1.10195738, -0.92067557, -0.22155294],\n",
       "       [-0.69939481,  0.53287214,  1.54943166, -0.9837667 ]])"
      ]
     },
     "execution_count": 26,
     "metadata": {},
     "output_type": "execute_result"
    }
   ],
   "source": [
    "df.values"
   ]
  },
  {
   "cell_type": "code",
   "execution_count": 27,
   "metadata": {},
   "outputs": [
    {
     "data": {
      "text/html": [
       "<div>\n",
       "<style>\n",
       "    .dataframe thead tr:only-child th {\n",
       "        text-align: right;\n",
       "    }\n",
       "\n",
       "    .dataframe thead th {\n",
       "        text-align: left;\n",
       "    }\n",
       "\n",
       "    .dataframe tbody tr th {\n",
       "        vertical-align: top;\n",
       "    }\n",
       "</style>\n",
       "<table border=\"1\" class=\"dataframe\">\n",
       "  <thead>\n",
       "    <tr style=\"text-align: right;\">\n",
       "      <th></th>\n",
       "      <th>A</th>\n",
       "      <th>B</th>\n",
       "      <th>C</th>\n",
       "      <th>D</th>\n",
       "    </tr>\n",
       "  </thead>\n",
       "  <tbody>\n",
       "    <tr>\n",
       "      <th>count</th>\n",
       "      <td>6.000000</td>\n",
       "      <td>6.000000</td>\n",
       "      <td>6.000000</td>\n",
       "      <td>6.000000</td>\n",
       "    </tr>\n",
       "    <tr>\n",
       "      <th>mean</th>\n",
       "      <td>-0.354282</td>\n",
       "      <td>0.022275</td>\n",
       "      <td>0.220570</td>\n",
       "      <td>-0.501875</td>\n",
       "    </tr>\n",
       "    <tr>\n",
       "      <th>std</th>\n",
       "      <td>0.938173</td>\n",
       "      <td>1.155802</td>\n",
       "      <td>1.283054</td>\n",
       "      <td>1.264324</td>\n",
       "    </tr>\n",
       "    <tr>\n",
       "      <th>min</th>\n",
       "      <td>-1.355569</td>\n",
       "      <td>-1.740360</td>\n",
       "      <td>-1.408793</td>\n",
       "      <td>-2.526336</td>\n",
       "    </tr>\n",
       "    <tr>\n",
       "      <th>25%</th>\n",
       "      <td>-1.013752</td>\n",
       "      <td>-0.700473</td>\n",
       "      <td>-0.714257</td>\n",
       "      <td>-0.875097</td>\n",
       "    </tr>\n",
       "    <tr>\n",
       "      <th>50%</th>\n",
       "      <td>-0.468275</td>\n",
       "      <td>0.573824</td>\n",
       "      <td>0.173415</td>\n",
       "      <td>-0.385320</td>\n",
       "    </tr>\n",
       "    <tr>\n",
       "      <th>75%</th>\n",
       "      <td>-0.019315</td>\n",
       "      <td>0.705686</td>\n",
       "      <td>1.272531</td>\n",
       "      <td>-0.108939</td>\n",
       "    </tr>\n",
       "    <tr>\n",
       "      <th>max</th>\n",
       "      <td>1.231669</td>\n",
       "      <td>1.101957</td>\n",
       "      <td>1.756625</td>\n",
       "      <td>1.340893</td>\n",
       "    </tr>\n",
       "  </tbody>\n",
       "</table>\n",
       "</div>"
      ],
      "text/plain": [
       "              A         B         C         D\n",
       "count  6.000000  6.000000  6.000000  6.000000\n",
       "mean  -0.354282  0.022275  0.220570 -0.501875\n",
       "std    0.938173  1.155802  1.283054  1.264324\n",
       "min   -1.355569 -1.740360 -1.408793 -2.526336\n",
       "25%   -1.013752 -0.700473 -0.714257 -0.875097\n",
       "50%   -0.468275  0.573824  0.173415 -0.385320\n",
       "75%   -0.019315  0.705686  1.272531 -0.108939\n",
       "max    1.231669  1.101957  1.756625  1.340893"
      ]
     },
     "execution_count": 27,
     "metadata": {},
     "output_type": "execute_result"
    }
   ],
   "source": [
    "# 統計摘要 statistic summary\n",
    "df.describe()"
   ]
  },
  {
   "cell_type": "code",
   "execution_count": 28,
   "metadata": {
    "collapsed": true
   },
   "outputs": [],
   "source": [
    "# count 個數\n",
    "# mean 平均值\n",
    "# std  標準差 standard deviation, 一般希望愈小愈好\n",
    "# min  最小值\n",
    "# 25%  25百分位數\n",
    "# 50%  50百分位數, 中位數 median\n",
    "# 75%  75百分位數 (quantile)\n",
    "# max  最大值"
   ]
  },
  {
   "cell_type": "code",
   "execution_count": 29,
   "metadata": {
    "collapsed": true
   },
   "outputs": [],
   "source": [
    "# 將原本長資料 Long data, 轉換為寬資料 Wide data\n",
    "# 資料轉置\n",
    "# | 1 2 3 4|\n",
    "# | 5 6 7 8|\n",
    "# 轉換為\n",
    "# | 1 5|\n",
    "# | 2 6|\n",
    "# | 3 7|\n",
    "# | 4 8|"
   ]
  },
  {
   "cell_type": "code",
   "execution_count": 30,
   "metadata": {},
   "outputs": [
    {
     "data": {
      "text/html": [
       "<div>\n",
       "<style>\n",
       "    .dataframe thead tr:only-child th {\n",
       "        text-align: right;\n",
       "    }\n",
       "\n",
       "    .dataframe thead th {\n",
       "        text-align: left;\n",
       "    }\n",
       "\n",
       "    .dataframe tbody tr th {\n",
       "        vertical-align: top;\n",
       "    }\n",
       "</style>\n",
       "<table border=\"1\" class=\"dataframe\">\n",
       "  <thead>\n",
       "    <tr style=\"text-align: right;\">\n",
       "      <th></th>\n",
       "      <th>2013-01-01 00:00:00</th>\n",
       "      <th>2013-01-02 00:00:00</th>\n",
       "      <th>2013-01-03 00:00:00</th>\n",
       "      <th>2013-01-04 00:00:00</th>\n",
       "      <th>2013-01-05 00:00:00</th>\n",
       "      <th>2013-01-06 00:00:00</th>\n",
       "    </tr>\n",
       "  </thead>\n",
       "  <tbody>\n",
       "    <tr>\n",
       "      <th>A</th>\n",
       "      <td>1.231669</td>\n",
       "      <td>-1.118538</td>\n",
       "      <td>-1.355569</td>\n",
       "      <td>-0.237156</td>\n",
       "      <td>0.053299</td>\n",
       "      <td>-0.699395</td>\n",
       "    </tr>\n",
       "    <tr>\n",
       "      <th>B</th>\n",
       "      <td>-1.111587</td>\n",
       "      <td>0.614776</td>\n",
       "      <td>-1.740360</td>\n",
       "      <td>0.735989</td>\n",
       "      <td>1.101957</td>\n",
       "      <td>0.532872</td>\n",
       "    </tr>\n",
       "    <tr>\n",
       "      <th>C</th>\n",
       "      <td>-1.408793</td>\n",
       "      <td>0.441831</td>\n",
       "      <td>-0.095000</td>\n",
       "      <td>1.756625</td>\n",
       "      <td>-0.920676</td>\n",
       "      <td>1.549432</td>\n",
       "    </tr>\n",
       "    <tr>\n",
       "      <th>D</th>\n",
       "      <td>-2.526336</td>\n",
       "      <td>-0.071401</td>\n",
       "      <td>-0.549087</td>\n",
       "      <td>1.340893</td>\n",
       "      <td>-0.221553</td>\n",
       "      <td>-0.983767</td>\n",
       "    </tr>\n",
       "  </tbody>\n",
       "</table>\n",
       "</div>"
      ],
      "text/plain": [
       "   2013-01-01  2013-01-02  2013-01-03  2013-01-04  2013-01-05  2013-01-06\n",
       "A    1.231669   -1.118538   -1.355569   -0.237156    0.053299   -0.699395\n",
       "B   -1.111587    0.614776   -1.740360    0.735989    1.101957    0.532872\n",
       "C   -1.408793    0.441831   -0.095000    1.756625   -0.920676    1.549432\n",
       "D   -2.526336   -0.071401   -0.549087    1.340893   -0.221553   -0.983767"
      ]
     },
     "execution_count": 30,
     "metadata": {},
     "output_type": "execute_result"
    }
   ],
   "source": [
    "df.T"
   ]
  },
  {
   "cell_type": "code",
   "execution_count": 31,
   "metadata": {
    "collapsed": true
   },
   "outputs": [],
   "source": [
    "# axis為排序的軸，0表示 rows index(列指標)，1表示columns index(行指標)，\n",
    "# 當對數據列進行排序時，axis必須設置為0."
   ]
  },
  {
   "cell_type": "code",
   "execution_count": 32,
   "metadata": {
    "collapsed": true
   },
   "outputs": [],
   "source": [
    "# df.sort([\"A\"]) 新版不支援sort, 改用 sort_values 或 sort_index"
   ]
  },
  {
   "cell_type": "code",
   "execution_count": 33,
   "metadata": {},
   "outputs": [
    {
     "data": {
      "text/html": [
       "<div>\n",
       "<style>\n",
       "    .dataframe thead tr:only-child th {\n",
       "        text-align: right;\n",
       "    }\n",
       "\n",
       "    .dataframe thead th {\n",
       "        text-align: left;\n",
       "    }\n",
       "\n",
       "    .dataframe tbody tr th {\n",
       "        vertical-align: top;\n",
       "    }\n",
       "</style>\n",
       "<table border=\"1\" class=\"dataframe\">\n",
       "  <thead>\n",
       "    <tr style=\"text-align: right;\">\n",
       "      <th></th>\n",
       "      <th>D</th>\n",
       "      <th>C</th>\n",
       "      <th>B</th>\n",
       "      <th>A</th>\n",
       "    </tr>\n",
       "  </thead>\n",
       "  <tbody>\n",
       "    <tr>\n",
       "      <th>2013-01-01</th>\n",
       "      <td>-2.526336</td>\n",
       "      <td>-1.408793</td>\n",
       "      <td>-1.111587</td>\n",
       "      <td>1.231669</td>\n",
       "    </tr>\n",
       "    <tr>\n",
       "      <th>2013-01-02</th>\n",
       "      <td>-0.071401</td>\n",
       "      <td>0.441831</td>\n",
       "      <td>0.614776</td>\n",
       "      <td>-1.118538</td>\n",
       "    </tr>\n",
       "    <tr>\n",
       "      <th>2013-01-03</th>\n",
       "      <td>-0.549087</td>\n",
       "      <td>-0.095000</td>\n",
       "      <td>-1.740360</td>\n",
       "      <td>-1.355569</td>\n",
       "    </tr>\n",
       "    <tr>\n",
       "      <th>2013-01-04</th>\n",
       "      <td>1.340893</td>\n",
       "      <td>1.756625</td>\n",
       "      <td>0.735989</td>\n",
       "      <td>-0.237156</td>\n",
       "    </tr>\n",
       "    <tr>\n",
       "      <th>2013-01-05</th>\n",
       "      <td>-0.221553</td>\n",
       "      <td>-0.920676</td>\n",
       "      <td>1.101957</td>\n",
       "      <td>0.053299</td>\n",
       "    </tr>\n",
       "    <tr>\n",
       "      <th>2013-01-06</th>\n",
       "      <td>-0.983767</td>\n",
       "      <td>1.549432</td>\n",
       "      <td>0.532872</td>\n",
       "      <td>-0.699395</td>\n",
       "    </tr>\n",
       "  </tbody>\n",
       "</table>\n",
       "</div>"
      ],
      "text/plain": [
       "                   D         C         B         A\n",
       "2013-01-01 -2.526336 -1.408793 -1.111587  1.231669\n",
       "2013-01-02 -0.071401  0.441831  0.614776 -1.118538\n",
       "2013-01-03 -0.549087 -0.095000 -1.740360 -1.355569\n",
       "2013-01-04  1.340893  1.756625  0.735989 -0.237156\n",
       "2013-01-05 -0.221553 -0.920676  1.101957  0.053299\n",
       "2013-01-06 -0.983767  1.549432  0.532872 -0.699395"
      ]
     },
     "execution_count": 33,
     "metadata": {},
     "output_type": "execute_result"
    }
   ],
   "source": [
    "df.sort_index(axis=1, ascending=False) # ascending =FALSE 遞增是FALSE, 遞減是TRUE"
   ]
  },
  {
   "cell_type": "code",
   "execution_count": 34,
   "metadata": {
    "collapsed": true
   },
   "outputs": [],
   "source": [
    "# 依照B欄大小, 由小至大排序"
   ]
  },
  {
   "cell_type": "code",
   "execution_count": 35,
   "metadata": {},
   "outputs": [
    {
     "data": {
      "text/html": [
       "<div>\n",
       "<style>\n",
       "    .dataframe thead tr:only-child th {\n",
       "        text-align: right;\n",
       "    }\n",
       "\n",
       "    .dataframe thead th {\n",
       "        text-align: left;\n",
       "    }\n",
       "\n",
       "    .dataframe tbody tr th {\n",
       "        vertical-align: top;\n",
       "    }\n",
       "</style>\n",
       "<table border=\"1\" class=\"dataframe\">\n",
       "  <thead>\n",
       "    <tr style=\"text-align: right;\">\n",
       "      <th></th>\n",
       "      <th>A</th>\n",
       "      <th>B</th>\n",
       "      <th>C</th>\n",
       "      <th>D</th>\n",
       "    </tr>\n",
       "  </thead>\n",
       "  <tbody>\n",
       "    <tr>\n",
       "      <th>2013-01-03</th>\n",
       "      <td>-1.355569</td>\n",
       "      <td>-1.740360</td>\n",
       "      <td>-0.095000</td>\n",
       "      <td>-0.549087</td>\n",
       "    </tr>\n",
       "    <tr>\n",
       "      <th>2013-01-01</th>\n",
       "      <td>1.231669</td>\n",
       "      <td>-1.111587</td>\n",
       "      <td>-1.408793</td>\n",
       "      <td>-2.526336</td>\n",
       "    </tr>\n",
       "    <tr>\n",
       "      <th>2013-01-06</th>\n",
       "      <td>-0.699395</td>\n",
       "      <td>0.532872</td>\n",
       "      <td>1.549432</td>\n",
       "      <td>-0.983767</td>\n",
       "    </tr>\n",
       "    <tr>\n",
       "      <th>2013-01-02</th>\n",
       "      <td>-1.118538</td>\n",
       "      <td>0.614776</td>\n",
       "      <td>0.441831</td>\n",
       "      <td>-0.071401</td>\n",
       "    </tr>\n",
       "    <tr>\n",
       "      <th>2013-01-04</th>\n",
       "      <td>-0.237156</td>\n",
       "      <td>0.735989</td>\n",
       "      <td>1.756625</td>\n",
       "      <td>1.340893</td>\n",
       "    </tr>\n",
       "    <tr>\n",
       "      <th>2013-01-05</th>\n",
       "      <td>0.053299</td>\n",
       "      <td>1.101957</td>\n",
       "      <td>-0.920676</td>\n",
       "      <td>-0.221553</td>\n",
       "    </tr>\n",
       "  </tbody>\n",
       "</table>\n",
       "</div>"
      ],
      "text/plain": [
       "                   A         B         C         D\n",
       "2013-01-03 -1.355569 -1.740360 -0.095000 -0.549087\n",
       "2013-01-01  1.231669 -1.111587 -1.408793 -2.526336\n",
       "2013-01-06 -0.699395  0.532872  1.549432 -0.983767\n",
       "2013-01-02 -1.118538  0.614776  0.441831 -0.071401\n",
       "2013-01-04 -0.237156  0.735989  1.756625  1.340893\n",
       "2013-01-05  0.053299  1.101957 -0.920676 -0.221553"
      ]
     },
     "execution_count": 35,
     "metadata": {},
     "output_type": "execute_result"
    }
   ],
   "source": [
    "df.sort_values(by='B')"
   ]
  },
  {
   "cell_type": "markdown",
   "metadata": {
    "collapsed": true
   },
   "source": [
    "# 5.3 Selection 資料選取 .at, .iat, .loc, .iloc, .ix"
   ]
  },
  {
   "cell_type": "code",
   "execution_count": 36,
   "metadata": {
    "collapsed": true
   },
   "outputs": [],
   "source": [
    "# 5.3.1 Getting 選取行,列"
   ]
  },
  {
   "cell_type": "code",
   "execution_count": 37,
   "metadata": {},
   "outputs": [
    {
     "data": {
      "text/plain": [
       "2013-01-01    1.231669\n",
       "2013-01-02   -1.118538\n",
       "2013-01-03   -1.355569\n",
       "2013-01-04   -0.237156\n",
       "2013-01-05    0.053299\n",
       "2013-01-06   -0.699395\n",
       "Freq: D, Name: A, dtype: float64"
      ]
     },
     "execution_count": 37,
     "metadata": {},
     "output_type": "execute_result"
    }
   ],
   "source": [
    "# 選取行\n",
    "df['A']"
   ]
  },
  {
   "cell_type": "code",
   "execution_count": 38,
   "metadata": {},
   "outputs": [
    {
     "data": {
      "text/plain": [
       "2013-01-01    1.231669\n",
       "2013-01-02   -1.118538\n",
       "2013-01-03   -1.355569\n",
       "2013-01-04   -0.237156\n",
       "2013-01-05    0.053299\n",
       "2013-01-06   -0.699395\n",
       "Freq: D, Name: A, dtype: float64"
      ]
     },
     "execution_count": 38,
     "metadata": {},
     "output_type": "execute_result"
    }
   ],
   "source": [
    "df.A # 與 df['A'] 相同"
   ]
  },
  {
   "cell_type": "code",
   "execution_count": 39,
   "metadata": {
    "collapsed": true
   },
   "outputs": [],
   "source": [
    "# 選取列"
   ]
  },
  {
   "cell_type": "code",
   "execution_count": 40,
   "metadata": {},
   "outputs": [
    {
     "data": {
      "text/html": [
       "<div>\n",
       "<style>\n",
       "    .dataframe thead tr:only-child th {\n",
       "        text-align: right;\n",
       "    }\n",
       "\n",
       "    .dataframe thead th {\n",
       "        text-align: left;\n",
       "    }\n",
       "\n",
       "    .dataframe tbody tr th {\n",
       "        vertical-align: top;\n",
       "    }\n",
       "</style>\n",
       "<table border=\"1\" class=\"dataframe\">\n",
       "  <thead>\n",
       "    <tr style=\"text-align: right;\">\n",
       "      <th></th>\n",
       "      <th>A</th>\n",
       "      <th>B</th>\n",
       "      <th>C</th>\n",
       "      <th>D</th>\n",
       "    </tr>\n",
       "  </thead>\n",
       "  <tbody>\n",
       "    <tr>\n",
       "      <th>2013-01-01</th>\n",
       "      <td>1.231669</td>\n",
       "      <td>-1.111587</td>\n",
       "      <td>-1.408793</td>\n",
       "      <td>-2.526336</td>\n",
       "    </tr>\n",
       "    <tr>\n",
       "      <th>2013-01-02</th>\n",
       "      <td>-1.118538</td>\n",
       "      <td>0.614776</td>\n",
       "      <td>0.441831</td>\n",
       "      <td>-0.071401</td>\n",
       "    </tr>\n",
       "    <tr>\n",
       "      <th>2013-01-03</th>\n",
       "      <td>-1.355569</td>\n",
       "      <td>-1.740360</td>\n",
       "      <td>-0.095000</td>\n",
       "      <td>-0.549087</td>\n",
       "    </tr>\n",
       "    <tr>\n",
       "      <th>2013-01-04</th>\n",
       "      <td>-0.237156</td>\n",
       "      <td>0.735989</td>\n",
       "      <td>1.756625</td>\n",
       "      <td>1.340893</td>\n",
       "    </tr>\n",
       "  </tbody>\n",
       "</table>\n",
       "</div>"
      ],
      "text/plain": [
       "                   A         B         C         D\n",
       "2013-01-01  1.231669 -1.111587 -1.408793 -2.526336\n",
       "2013-01-02 -1.118538  0.614776  0.441831 -0.071401\n",
       "2013-01-03 -1.355569 -1.740360 -0.095000 -0.549087\n",
       "2013-01-04 -0.237156  0.735989  1.756625  1.340893"
      ]
     },
     "execution_count": 40,
     "metadata": {},
     "output_type": "execute_result"
    }
   ],
   "source": [
    "df[0:4]"
   ]
  },
  {
   "cell_type": "code",
   "execution_count": 41,
   "metadata": {},
   "outputs": [
    {
     "data": {
      "text/html": [
       "<div>\n",
       "<style>\n",
       "    .dataframe thead tr:only-child th {\n",
       "        text-align: right;\n",
       "    }\n",
       "\n",
       "    .dataframe thead th {\n",
       "        text-align: left;\n",
       "    }\n",
       "\n",
       "    .dataframe tbody tr th {\n",
       "        vertical-align: top;\n",
       "    }\n",
       "</style>\n",
       "<table border=\"1\" class=\"dataframe\">\n",
       "  <thead>\n",
       "    <tr style=\"text-align: right;\">\n",
       "      <th></th>\n",
       "      <th>A</th>\n",
       "      <th>B</th>\n",
       "      <th>C</th>\n",
       "      <th>D</th>\n",
       "    </tr>\n",
       "  </thead>\n",
       "  <tbody>\n",
       "    <tr>\n",
       "      <th>2013-01-02</th>\n",
       "      <td>-1.118538</td>\n",
       "      <td>0.614776</td>\n",
       "      <td>0.441831</td>\n",
       "      <td>-0.071401</td>\n",
       "    </tr>\n",
       "    <tr>\n",
       "      <th>2013-01-03</th>\n",
       "      <td>-1.355569</td>\n",
       "      <td>-1.740360</td>\n",
       "      <td>-0.095000</td>\n",
       "      <td>-0.549087</td>\n",
       "    </tr>\n",
       "    <tr>\n",
       "      <th>2013-01-04</th>\n",
       "      <td>-0.237156</td>\n",
       "      <td>0.735989</td>\n",
       "      <td>1.756625</td>\n",
       "      <td>1.340893</td>\n",
       "    </tr>\n",
       "  </tbody>\n",
       "</table>\n",
       "</div>"
      ],
      "text/plain": [
       "                   A         B         C         D\n",
       "2013-01-02 -1.118538  0.614776  0.441831 -0.071401\n",
       "2013-01-03 -1.355569 -1.740360 -0.095000 -0.549087\n",
       "2013-01-04 -0.237156  0.735989  1.756625  1.340893"
      ]
     },
     "execution_count": 41,
     "metadata": {},
     "output_type": "execute_result"
    }
   ],
   "source": [
    "df['2013-01-02':'2013-01-04']"
   ]
  },
  {
   "cell_type": "code",
   "execution_count": 42,
   "metadata": {},
   "outputs": [
    {
     "data": {
      "text/html": [
       "<div>\n",
       "<style>\n",
       "    .dataframe thead tr:only-child th {\n",
       "        text-align: right;\n",
       "    }\n",
       "\n",
       "    .dataframe thead th {\n",
       "        text-align: left;\n",
       "    }\n",
       "\n",
       "    .dataframe tbody tr th {\n",
       "        vertical-align: top;\n",
       "    }\n",
       "</style>\n",
       "<table border=\"1\" class=\"dataframe\">\n",
       "  <thead>\n",
       "    <tr style=\"text-align: right;\">\n",
       "      <th></th>\n",
       "      <th>A</th>\n",
       "      <th>B</th>\n",
       "      <th>C</th>\n",
       "      <th>D</th>\n",
       "    </tr>\n",
       "  </thead>\n",
       "  <tbody>\n",
       "    <tr>\n",
       "      <th>2013-01-01</th>\n",
       "      <td>1.231669</td>\n",
       "      <td>-1.111587</td>\n",
       "      <td>-1.408793</td>\n",
       "      <td>-2.526336</td>\n",
       "    </tr>\n",
       "    <tr>\n",
       "      <th>2013-01-02</th>\n",
       "      <td>-1.118538</td>\n",
       "      <td>0.614776</td>\n",
       "      <td>0.441831</td>\n",
       "      <td>-0.071401</td>\n",
       "    </tr>\n",
       "    <tr>\n",
       "      <th>2013-01-03</th>\n",
       "      <td>-1.355569</td>\n",
       "      <td>-1.740360</td>\n",
       "      <td>-0.095000</td>\n",
       "      <td>-0.549087</td>\n",
       "    </tr>\n",
       "    <tr>\n",
       "      <th>2013-01-04</th>\n",
       "      <td>-0.237156</td>\n",
       "      <td>0.735989</td>\n",
       "      <td>1.756625</td>\n",
       "      <td>1.340893</td>\n",
       "    </tr>\n",
       "    <tr>\n",
       "      <th>2013-01-05</th>\n",
       "      <td>0.053299</td>\n",
       "      <td>1.101957</td>\n",
       "      <td>-0.920676</td>\n",
       "      <td>-0.221553</td>\n",
       "    </tr>\n",
       "    <tr>\n",
       "      <th>2013-01-06</th>\n",
       "      <td>-0.699395</td>\n",
       "      <td>0.532872</td>\n",
       "      <td>1.549432</td>\n",
       "      <td>-0.983767</td>\n",
       "    </tr>\n",
       "  </tbody>\n",
       "</table>\n",
       "</div>"
      ],
      "text/plain": [
       "                   A         B         C         D\n",
       "2013-01-01  1.231669 -1.111587 -1.408793 -2.526336\n",
       "2013-01-02 -1.118538  0.614776  0.441831 -0.071401\n",
       "2013-01-03 -1.355569 -1.740360 -0.095000 -0.549087\n",
       "2013-01-04 -0.237156  0.735989  1.756625  1.340893\n",
       "2013-01-05  0.053299  1.101957 -0.920676 -0.221553\n",
       "2013-01-06 -0.699395  0.532872  1.549432 -0.983767"
      ]
     },
     "execution_count": 42,
     "metadata": {},
     "output_type": "execute_result"
    }
   ],
   "source": [
    "# 5.3.2 Selection by Label 選取標籤\n",
    "df"
   ]
  },
  {
   "cell_type": "code",
   "execution_count": 43,
   "metadata": {},
   "outputs": [
    {
     "data": {
      "text/plain": [
       "A    1.231669\n",
       "B   -1.111587\n",
       "C   -1.408793\n",
       "D   -2.526336\n",
       "Name: 2013-01-01 00:00:00, dtype: float64"
      ]
     },
     "execution_count": 43,
     "metadata": {},
     "output_type": "execute_result"
    }
   ],
   "source": [
    "df.loc[dates[0]]"
   ]
  },
  {
   "cell_type": "code",
   "execution_count": 44,
   "metadata": {
    "collapsed": true
   },
   "outputs": [],
   "source": [
    "# Selecting on a multi-axis by label 選取多軸(列,行)"
   ]
  },
  {
   "cell_type": "code",
   "execution_count": 45,
   "metadata": {},
   "outputs": [
    {
     "data": {
      "text/html": [
       "<div>\n",
       "<style>\n",
       "    .dataframe thead tr:only-child th {\n",
       "        text-align: right;\n",
       "    }\n",
       "\n",
       "    .dataframe thead th {\n",
       "        text-align: left;\n",
       "    }\n",
       "\n",
       "    .dataframe tbody tr th {\n",
       "        vertical-align: top;\n",
       "    }\n",
       "</style>\n",
       "<table border=\"1\" class=\"dataframe\">\n",
       "  <thead>\n",
       "    <tr style=\"text-align: right;\">\n",
       "      <th></th>\n",
       "      <th>A</th>\n",
       "      <th>B</th>\n",
       "    </tr>\n",
       "  </thead>\n",
       "  <tbody>\n",
       "    <tr>\n",
       "      <th>2013-01-01</th>\n",
       "      <td>1.231669</td>\n",
       "      <td>-1.111587</td>\n",
       "    </tr>\n",
       "    <tr>\n",
       "      <th>2013-01-02</th>\n",
       "      <td>-1.118538</td>\n",
       "      <td>0.614776</td>\n",
       "    </tr>\n",
       "    <tr>\n",
       "      <th>2013-01-03</th>\n",
       "      <td>-1.355569</td>\n",
       "      <td>-1.740360</td>\n",
       "    </tr>\n",
       "    <tr>\n",
       "      <th>2013-01-04</th>\n",
       "      <td>-0.237156</td>\n",
       "      <td>0.735989</td>\n",
       "    </tr>\n",
       "    <tr>\n",
       "      <th>2013-01-05</th>\n",
       "      <td>0.053299</td>\n",
       "      <td>1.101957</td>\n",
       "    </tr>\n",
       "    <tr>\n",
       "      <th>2013-01-06</th>\n",
       "      <td>-0.699395</td>\n",
       "      <td>0.532872</td>\n",
       "    </tr>\n",
       "  </tbody>\n",
       "</table>\n",
       "</div>"
      ],
      "text/plain": [
       "                   A         B\n",
       "2013-01-01  1.231669 -1.111587\n",
       "2013-01-02 -1.118538  0.614776\n",
       "2013-01-03 -1.355569 -1.740360\n",
       "2013-01-04 -0.237156  0.735989\n",
       "2013-01-05  0.053299  1.101957\n",
       "2013-01-06 -0.699395  0.532872"
      ]
     },
     "execution_count": 45,
     "metadata": {},
     "output_type": "execute_result"
    }
   ],
   "source": [
    "df.loc[:, ['A','B']]"
   ]
  },
  {
   "cell_type": "code",
   "execution_count": 46,
   "metadata": {},
   "outputs": [
    {
     "data": {
      "text/html": [
       "<div>\n",
       "<style>\n",
       "    .dataframe thead tr:only-child th {\n",
       "        text-align: right;\n",
       "    }\n",
       "\n",
       "    .dataframe thead th {\n",
       "        text-align: left;\n",
       "    }\n",
       "\n",
       "    .dataframe tbody tr th {\n",
       "        vertical-align: top;\n",
       "    }\n",
       "</style>\n",
       "<table border=\"1\" class=\"dataframe\">\n",
       "  <thead>\n",
       "    <tr style=\"text-align: right;\">\n",
       "      <th></th>\n",
       "      <th>A</th>\n",
       "      <th>B</th>\n",
       "    </tr>\n",
       "  </thead>\n",
       "  <tbody>\n",
       "    <tr>\n",
       "      <th>2013-01-02</th>\n",
       "      <td>-1.118538</td>\n",
       "      <td>0.614776</td>\n",
       "    </tr>\n",
       "    <tr>\n",
       "      <th>2013-01-03</th>\n",
       "      <td>-1.355569</td>\n",
       "      <td>-1.740360</td>\n",
       "    </tr>\n",
       "    <tr>\n",
       "      <th>2013-01-04</th>\n",
       "      <td>-0.237156</td>\n",
       "      <td>0.735989</td>\n",
       "    </tr>\n",
       "  </tbody>\n",
       "</table>\n",
       "</div>"
      ],
      "text/plain": [
       "                   A         B\n",
       "2013-01-02 -1.118538  0.614776\n",
       "2013-01-03 -1.355569 -1.740360\n",
       "2013-01-04 -0.237156  0.735989"
      ]
     },
     "execution_count": 46,
     "metadata": {},
     "output_type": "execute_result"
    }
   ],
   "source": [
    "df.loc['20130102':'20130104',['A','B']]"
   ]
  },
  {
   "cell_type": "code",
   "execution_count": 47,
   "metadata": {},
   "outputs": [
    {
     "data": {
      "text/plain": [
       "A   -1.118538\n",
       "B    0.614776\n",
       "Name: 2013-01-02 00:00:00, dtype: float64"
      ]
     },
     "execution_count": 47,
     "metadata": {},
     "output_type": "execute_result"
    }
   ],
   "source": [
    "df.loc['20130102',['A','B']] # 回傳值已降為1維"
   ]
  },
  {
   "cell_type": "code",
   "execution_count": 48,
   "metadata": {},
   "outputs": [
    {
     "data": {
      "text/plain": [
       "1.23166910984596"
      ]
     },
     "execution_count": 48,
     "metadata": {},
     "output_type": "execute_result"
    }
   ],
   "source": [
    "df.loc[dates[0],'A']"
   ]
  },
  {
   "cell_type": "code",
   "execution_count": 49,
   "metadata": {},
   "outputs": [
    {
     "data": {
      "text/plain": [
       "1.23166910984596"
      ]
     },
     "execution_count": 49,
     "metadata": {},
     "output_type": "execute_result"
    }
   ],
   "source": [
    "df.at[dates[0],'A'] # .at 與 .loc 如果相同"
   ]
  },
  {
   "cell_type": "code",
   "execution_count": 50,
   "metadata": {
    "collapsed": true
   },
   "outputs": [],
   "source": [
    "# 5.3.3 Selection by Position 依位置選取資料"
   ]
  },
  {
   "cell_type": "code",
   "execution_count": 51,
   "metadata": {},
   "outputs": [
    {
     "data": {
      "text/plain": [
       "A   -0.237156\n",
       "B    0.735989\n",
       "C    1.756625\n",
       "D    1.340893\n",
       "Name: 2013-01-04 00:00:00, dtype: float64"
      ]
     },
     "execution_count": 51,
     "metadata": {},
     "output_type": "execute_result"
    }
   ],
   "source": [
    "df.iloc[3]"
   ]
  },
  {
   "cell_type": "code",
   "execution_count": 52,
   "metadata": {},
   "outputs": [
    {
     "data": {
      "text/html": [
       "<div>\n",
       "<style>\n",
       "    .dataframe thead tr:only-child th {\n",
       "        text-align: right;\n",
       "    }\n",
       "\n",
       "    .dataframe thead th {\n",
       "        text-align: left;\n",
       "    }\n",
       "\n",
       "    .dataframe tbody tr th {\n",
       "        vertical-align: top;\n",
       "    }\n",
       "</style>\n",
       "<table border=\"1\" class=\"dataframe\">\n",
       "  <thead>\n",
       "    <tr style=\"text-align: right;\">\n",
       "      <th></th>\n",
       "      <th>A</th>\n",
       "      <th>B</th>\n",
       "    </tr>\n",
       "  </thead>\n",
       "  <tbody>\n",
       "    <tr>\n",
       "      <th>2013-01-04</th>\n",
       "      <td>-0.237156</td>\n",
       "      <td>0.735989</td>\n",
       "    </tr>\n",
       "    <tr>\n",
       "      <th>2013-01-05</th>\n",
       "      <td>0.053299</td>\n",
       "      <td>1.101957</td>\n",
       "    </tr>\n",
       "  </tbody>\n",
       "</table>\n",
       "</div>"
      ],
      "text/plain": [
       "                   A         B\n",
       "2013-01-04 -0.237156  0.735989\n",
       "2013-01-05  0.053299  1.101957"
      ]
     },
     "execution_count": 52,
     "metadata": {},
     "output_type": "execute_result"
    }
   ],
   "source": [
    "df.iloc[3:5,0:2] # [第3列:第4列, 第0行:第1行] 結束位置須減1"
   ]
  },
  {
   "cell_type": "code",
   "execution_count": 53,
   "metadata": {},
   "outputs": [
    {
     "data": {
      "text/html": [
       "<div>\n",
       "<style>\n",
       "    .dataframe thead tr:only-child th {\n",
       "        text-align: right;\n",
       "    }\n",
       "\n",
       "    .dataframe thead th {\n",
       "        text-align: left;\n",
       "    }\n",
       "\n",
       "    .dataframe tbody tr th {\n",
       "        vertical-align: top;\n",
       "    }\n",
       "</style>\n",
       "<table border=\"1\" class=\"dataframe\">\n",
       "  <thead>\n",
       "    <tr style=\"text-align: right;\">\n",
       "      <th></th>\n",
       "      <th>A</th>\n",
       "      <th>C</th>\n",
       "    </tr>\n",
       "  </thead>\n",
       "  <tbody>\n",
       "    <tr>\n",
       "      <th>2013-01-02</th>\n",
       "      <td>-1.118538</td>\n",
       "      <td>0.441831</td>\n",
       "    </tr>\n",
       "    <tr>\n",
       "      <th>2013-01-03</th>\n",
       "      <td>-1.355569</td>\n",
       "      <td>-0.095000</td>\n",
       "    </tr>\n",
       "    <tr>\n",
       "      <th>2013-01-05</th>\n",
       "      <td>0.053299</td>\n",
       "      <td>-0.920676</td>\n",
       "    </tr>\n",
       "  </tbody>\n",
       "</table>\n",
       "</div>"
      ],
      "text/plain": [
       "                   A         C\n",
       "2013-01-02 -1.118538  0.441831\n",
       "2013-01-03 -1.355569 -0.095000\n",
       "2013-01-05  0.053299 -0.920676"
      ]
     },
     "execution_count": 53,
     "metadata": {},
     "output_type": "execute_result"
    }
   ],
   "source": [
    "df.iloc[[1,2,4],[0,2]] # , 表示不連續範圍"
   ]
  },
  {
   "cell_type": "code",
   "execution_count": 54,
   "metadata": {},
   "outputs": [
    {
     "data": {
      "text/html": [
       "<div>\n",
       "<style>\n",
       "    .dataframe thead tr:only-child th {\n",
       "        text-align: right;\n",
       "    }\n",
       "\n",
       "    .dataframe thead th {\n",
       "        text-align: left;\n",
       "    }\n",
       "\n",
       "    .dataframe tbody tr th {\n",
       "        vertical-align: top;\n",
       "    }\n",
       "</style>\n",
       "<table border=\"1\" class=\"dataframe\">\n",
       "  <thead>\n",
       "    <tr style=\"text-align: right;\">\n",
       "      <th></th>\n",
       "      <th>A</th>\n",
       "      <th>B</th>\n",
       "      <th>C</th>\n",
       "      <th>D</th>\n",
       "    </tr>\n",
       "  </thead>\n",
       "  <tbody>\n",
       "    <tr>\n",
       "      <th>2013-01-02</th>\n",
       "      <td>-1.118538</td>\n",
       "      <td>0.614776</td>\n",
       "      <td>0.441831</td>\n",
       "      <td>-0.071401</td>\n",
       "    </tr>\n",
       "    <tr>\n",
       "      <th>2013-01-03</th>\n",
       "      <td>-1.355569</td>\n",
       "      <td>-1.740360</td>\n",
       "      <td>-0.095000</td>\n",
       "      <td>-0.549087</td>\n",
       "    </tr>\n",
       "  </tbody>\n",
       "</table>\n",
       "</div>"
      ],
      "text/plain": [
       "                   A         B         C         D\n",
       "2013-01-02 -1.118538  0.614776  0.441831 -0.071401\n",
       "2013-01-03 -1.355569 -1.740360 -0.095000 -0.549087"
      ]
     },
     "execution_count": 54,
     "metadata": {},
     "output_type": "execute_result"
    }
   ],
   "source": [
    "df.iloc[1:3,:]"
   ]
  },
  {
   "cell_type": "code",
   "execution_count": 55,
   "metadata": {},
   "outputs": [
    {
     "data": {
      "text/html": [
       "<div>\n",
       "<style>\n",
       "    .dataframe thead tr:only-child th {\n",
       "        text-align: right;\n",
       "    }\n",
       "\n",
       "    .dataframe thead th {\n",
       "        text-align: left;\n",
       "    }\n",
       "\n",
       "    .dataframe tbody tr th {\n",
       "        vertical-align: top;\n",
       "    }\n",
       "</style>\n",
       "<table border=\"1\" class=\"dataframe\">\n",
       "  <thead>\n",
       "    <tr style=\"text-align: right;\">\n",
       "      <th></th>\n",
       "      <th>B</th>\n",
       "      <th>C</th>\n",
       "    </tr>\n",
       "  </thead>\n",
       "  <tbody>\n",
       "    <tr>\n",
       "      <th>2013-01-01</th>\n",
       "      <td>-1.111587</td>\n",
       "      <td>-1.408793</td>\n",
       "    </tr>\n",
       "    <tr>\n",
       "      <th>2013-01-02</th>\n",
       "      <td>0.614776</td>\n",
       "      <td>0.441831</td>\n",
       "    </tr>\n",
       "    <tr>\n",
       "      <th>2013-01-03</th>\n",
       "      <td>-1.740360</td>\n",
       "      <td>-0.095000</td>\n",
       "    </tr>\n",
       "    <tr>\n",
       "      <th>2013-01-04</th>\n",
       "      <td>0.735989</td>\n",
       "      <td>1.756625</td>\n",
       "    </tr>\n",
       "    <tr>\n",
       "      <th>2013-01-05</th>\n",
       "      <td>1.101957</td>\n",
       "      <td>-0.920676</td>\n",
       "    </tr>\n",
       "    <tr>\n",
       "      <th>2013-01-06</th>\n",
       "      <td>0.532872</td>\n",
       "      <td>1.549432</td>\n",
       "    </tr>\n",
       "  </tbody>\n",
       "</table>\n",
       "</div>"
      ],
      "text/plain": [
       "                   B         C\n",
       "2013-01-01 -1.111587 -1.408793\n",
       "2013-01-02  0.614776  0.441831\n",
       "2013-01-03 -1.740360 -0.095000\n",
       "2013-01-04  0.735989  1.756625\n",
       "2013-01-05  1.101957 -0.920676\n",
       "2013-01-06  0.532872  1.549432"
      ]
     },
     "execution_count": 55,
     "metadata": {},
     "output_type": "execute_result"
    }
   ],
   "source": [
    "df.iloc[:,1:3]"
   ]
  },
  {
   "cell_type": "code",
   "execution_count": 56,
   "metadata": {},
   "outputs": [
    {
     "data": {
      "text/plain": [
       "0.6147756432955781"
      ]
     },
     "execution_count": 56,
     "metadata": {},
     "output_type": "execute_result"
    }
   ],
   "source": [
    "df.iloc[1,1]"
   ]
  },
  {
   "cell_type": "code",
   "execution_count": 57,
   "metadata": {},
   "outputs": [
    {
     "data": {
      "text/plain": [
       "0.6147756432955781"
      ]
     },
     "execution_count": 57,
     "metadata": {},
     "output_type": "execute_result"
    }
   ],
   "source": [
    "df.iat[1,1]"
   ]
  },
  {
   "cell_type": "code",
   "execution_count": 58,
   "metadata": {
    "collapsed": true
   },
   "outputs": [],
   "source": [
    "# 5.3.4 Boolean Indexing 邏輯值(條件式)資料選取"
   ]
  },
  {
   "cell_type": "code",
   "execution_count": 59,
   "metadata": {},
   "outputs": [
    {
     "data": {
      "text/html": [
       "<div>\n",
       "<style>\n",
       "    .dataframe thead tr:only-child th {\n",
       "        text-align: right;\n",
       "    }\n",
       "\n",
       "    .dataframe thead th {\n",
       "        text-align: left;\n",
       "    }\n",
       "\n",
       "    .dataframe tbody tr th {\n",
       "        vertical-align: top;\n",
       "    }\n",
       "</style>\n",
       "<table border=\"1\" class=\"dataframe\">\n",
       "  <thead>\n",
       "    <tr style=\"text-align: right;\">\n",
       "      <th></th>\n",
       "      <th>A</th>\n",
       "      <th>B</th>\n",
       "      <th>C</th>\n",
       "      <th>D</th>\n",
       "    </tr>\n",
       "  </thead>\n",
       "  <tbody>\n",
       "    <tr>\n",
       "      <th>2013-01-01</th>\n",
       "      <td>1.231669</td>\n",
       "      <td>-1.111587</td>\n",
       "      <td>-1.408793</td>\n",
       "      <td>-2.526336</td>\n",
       "    </tr>\n",
       "    <tr>\n",
       "      <th>2013-01-05</th>\n",
       "      <td>0.053299</td>\n",
       "      <td>1.101957</td>\n",
       "      <td>-0.920676</td>\n",
       "      <td>-0.221553</td>\n",
       "    </tr>\n",
       "  </tbody>\n",
       "</table>\n",
       "</div>"
      ],
      "text/plain": [
       "                   A         B         C         D\n",
       "2013-01-01  1.231669 -1.111587 -1.408793 -2.526336\n",
       "2013-01-05  0.053299  1.101957 -0.920676 -0.221553"
      ]
     },
     "execution_count": 59,
     "metadata": {},
     "output_type": "execute_result"
    }
   ],
   "source": [
    "df[df.A > 0]"
   ]
  },
  {
   "cell_type": "code",
   "execution_count": 60,
   "metadata": {},
   "outputs": [
    {
     "data": {
      "text/html": [
       "<div>\n",
       "<style>\n",
       "    .dataframe thead tr:only-child th {\n",
       "        text-align: right;\n",
       "    }\n",
       "\n",
       "    .dataframe thead th {\n",
       "        text-align: left;\n",
       "    }\n",
       "\n",
       "    .dataframe tbody tr th {\n",
       "        vertical-align: top;\n",
       "    }\n",
       "</style>\n",
       "<table border=\"1\" class=\"dataframe\">\n",
       "  <thead>\n",
       "    <tr style=\"text-align: right;\">\n",
       "      <th></th>\n",
       "      <th>A</th>\n",
       "      <th>B</th>\n",
       "      <th>C</th>\n",
       "      <th>D</th>\n",
       "    </tr>\n",
       "  </thead>\n",
       "  <tbody>\n",
       "    <tr>\n",
       "      <th>2013-01-01</th>\n",
       "      <td>1.231669</td>\n",
       "      <td>NaN</td>\n",
       "      <td>NaN</td>\n",
       "      <td>NaN</td>\n",
       "    </tr>\n",
       "    <tr>\n",
       "      <th>2013-01-02</th>\n",
       "      <td>NaN</td>\n",
       "      <td>0.614776</td>\n",
       "      <td>0.441831</td>\n",
       "      <td>NaN</td>\n",
       "    </tr>\n",
       "    <tr>\n",
       "      <th>2013-01-03</th>\n",
       "      <td>NaN</td>\n",
       "      <td>NaN</td>\n",
       "      <td>NaN</td>\n",
       "      <td>NaN</td>\n",
       "    </tr>\n",
       "    <tr>\n",
       "      <th>2013-01-04</th>\n",
       "      <td>NaN</td>\n",
       "      <td>0.735989</td>\n",
       "      <td>1.756625</td>\n",
       "      <td>1.340893</td>\n",
       "    </tr>\n",
       "    <tr>\n",
       "      <th>2013-01-05</th>\n",
       "      <td>0.053299</td>\n",
       "      <td>1.101957</td>\n",
       "      <td>NaN</td>\n",
       "      <td>NaN</td>\n",
       "    </tr>\n",
       "    <tr>\n",
       "      <th>2013-01-06</th>\n",
       "      <td>NaN</td>\n",
       "      <td>0.532872</td>\n",
       "      <td>1.549432</td>\n",
       "      <td>NaN</td>\n",
       "    </tr>\n",
       "  </tbody>\n",
       "</table>\n",
       "</div>"
      ],
      "text/plain": [
       "                   A         B         C         D\n",
       "2013-01-01  1.231669       NaN       NaN       NaN\n",
       "2013-01-02       NaN  0.614776  0.441831       NaN\n",
       "2013-01-03       NaN       NaN       NaN       NaN\n",
       "2013-01-04       NaN  0.735989  1.756625  1.340893\n",
       "2013-01-05  0.053299  1.101957       NaN       NaN\n",
       "2013-01-06       NaN  0.532872  1.549432       NaN"
      ]
     },
     "execution_count": 60,
     "metadata": {},
     "output_type": "execute_result"
    }
   ],
   "source": [
    "df[df > 0]"
   ]
  },
  {
   "cell_type": "code",
   "execution_count": 61,
   "metadata": {},
   "outputs": [
    {
     "data": {
      "text/html": [
       "<div>\n",
       "<style>\n",
       "    .dataframe thead tr:only-child th {\n",
       "        text-align: right;\n",
       "    }\n",
       "\n",
       "    .dataframe thead th {\n",
       "        text-align: left;\n",
       "    }\n",
       "\n",
       "    .dataframe tbody tr th {\n",
       "        vertical-align: top;\n",
       "    }\n",
       "</style>\n",
       "<table border=\"1\" class=\"dataframe\">\n",
       "  <thead>\n",
       "    <tr style=\"text-align: right;\">\n",
       "      <th></th>\n",
       "      <th>A</th>\n",
       "      <th>B</th>\n",
       "      <th>C</th>\n",
       "      <th>D</th>\n",
       "    </tr>\n",
       "  </thead>\n",
       "  <tbody>\n",
       "    <tr>\n",
       "      <th>2013-01-02</th>\n",
       "      <td>-1.118538</td>\n",
       "      <td>0.614776</td>\n",
       "      <td>0.441831</td>\n",
       "      <td>-0.071401</td>\n",
       "    </tr>\n",
       "    <tr>\n",
       "      <th>2013-01-06</th>\n",
       "      <td>-0.699395</td>\n",
       "      <td>0.532872</td>\n",
       "      <td>1.549432</td>\n",
       "      <td>-0.983767</td>\n",
       "    </tr>\n",
       "  </tbody>\n",
       "</table>\n",
       "</div>"
      ],
      "text/plain": [
       "                   A         B         C         D\n",
       "2013-01-02 -1.118538  0.614776  0.441831 -0.071401\n",
       "2013-01-06 -0.699395  0.532872  1.549432 -0.983767"
      ]
     },
     "execution_count": 61,
     "metadata": {},
     "output_type": "execute_result"
    }
   ],
   "source": [
    "# 使用 .isin\n",
    "df[df.index.isin(['2013-01-02', '2013-01-06'])]"
   ]
  },
  {
   "cell_type": "code",
   "execution_count": 62,
   "metadata": {},
   "outputs": [
    {
     "data": {
      "text/plain": [
       "2013-01-01    1.231669\n",
       "2013-01-02   -1.118538\n",
       "2013-01-03   -1.355569\n",
       "2013-01-04   -0.237156\n",
       "2013-01-05    0.053299\n",
       "2013-01-06   -0.699395\n",
       "Freq: D, Name: A, dtype: float64"
      ]
     },
     "execution_count": 62,
     "metadata": {},
     "output_type": "execute_result"
    }
   ],
   "source": [
    "df.A"
   ]
  },
  {
   "cell_type": "code",
   "execution_count": 63,
   "metadata": {},
   "outputs": [
    {
     "data": {
      "text/html": [
       "<div>\n",
       "<style>\n",
       "    .dataframe thead tr:only-child th {\n",
       "        text-align: right;\n",
       "    }\n",
       "\n",
       "    .dataframe thead th {\n",
       "        text-align: left;\n",
       "    }\n",
       "\n",
       "    .dataframe tbody tr th {\n",
       "        vertical-align: top;\n",
       "    }\n",
       "</style>\n",
       "<table border=\"1\" class=\"dataframe\">\n",
       "  <thead>\n",
       "    <tr style=\"text-align: right;\">\n",
       "      <th></th>\n",
       "      <th>A</th>\n",
       "      <th>B</th>\n",
       "      <th>C</th>\n",
       "      <th>D</th>\n",
       "      <th>E</th>\n",
       "    </tr>\n",
       "  </thead>\n",
       "  <tbody>\n",
       "    <tr>\n",
       "      <th>2013-01-01</th>\n",
       "      <td>1.231669</td>\n",
       "      <td>-1.111587</td>\n",
       "      <td>-1.408793</td>\n",
       "      <td>-2.526336</td>\n",
       "      <td>one</td>\n",
       "    </tr>\n",
       "    <tr>\n",
       "      <th>2013-01-02</th>\n",
       "      <td>-1.118538</td>\n",
       "      <td>0.614776</td>\n",
       "      <td>0.441831</td>\n",
       "      <td>-0.071401</td>\n",
       "      <td>one</td>\n",
       "    </tr>\n",
       "    <tr>\n",
       "      <th>2013-01-03</th>\n",
       "      <td>-1.355569</td>\n",
       "      <td>-1.740360</td>\n",
       "      <td>-0.095000</td>\n",
       "      <td>-0.549087</td>\n",
       "      <td>two</td>\n",
       "    </tr>\n",
       "    <tr>\n",
       "      <th>2013-01-04</th>\n",
       "      <td>-0.237156</td>\n",
       "      <td>0.735989</td>\n",
       "      <td>1.756625</td>\n",
       "      <td>1.340893</td>\n",
       "      <td>three</td>\n",
       "    </tr>\n",
       "    <tr>\n",
       "      <th>2013-01-05</th>\n",
       "      <td>0.053299</td>\n",
       "      <td>1.101957</td>\n",
       "      <td>-0.920676</td>\n",
       "      <td>-0.221553</td>\n",
       "      <td>four</td>\n",
       "    </tr>\n",
       "    <tr>\n",
       "      <th>2013-01-06</th>\n",
       "      <td>-0.699395</td>\n",
       "      <td>0.532872</td>\n",
       "      <td>1.549432</td>\n",
       "      <td>-0.983767</td>\n",
       "      <td>three</td>\n",
       "    </tr>\n",
       "  </tbody>\n",
       "</table>\n",
       "</div>"
      ],
      "text/plain": [
       "                   A         B         C         D      E\n",
       "2013-01-01  1.231669 -1.111587 -1.408793 -2.526336    one\n",
       "2013-01-02 -1.118538  0.614776  0.441831 -0.071401    one\n",
       "2013-01-03 -1.355569 -1.740360 -0.095000 -0.549087    two\n",
       "2013-01-04 -0.237156  0.735989  1.756625  1.340893  three\n",
       "2013-01-05  0.053299  1.101957 -0.920676 -0.221553   four\n",
       "2013-01-06 -0.699395  0.532872  1.549432 -0.983767  three"
      ]
     },
     "execution_count": 63,
     "metadata": {},
     "output_type": "execute_result"
    }
   ],
   "source": [
    "df2 = df.copy()\n",
    "df2['E'] = ['one', 'one','two','three','four','three']\n",
    "df2"
   ]
  },
  {
   "cell_type": "code",
   "execution_count": 64,
   "metadata": {},
   "outputs": [
    {
     "data": {
      "text/html": [
       "<div>\n",
       "<style>\n",
       "    .dataframe thead tr:only-child th {\n",
       "        text-align: right;\n",
       "    }\n",
       "\n",
       "    .dataframe thead th {\n",
       "        text-align: left;\n",
       "    }\n",
       "\n",
       "    .dataframe tbody tr th {\n",
       "        vertical-align: top;\n",
       "    }\n",
       "</style>\n",
       "<table border=\"1\" class=\"dataframe\">\n",
       "  <thead>\n",
       "    <tr style=\"text-align: right;\">\n",
       "      <th></th>\n",
       "      <th>A</th>\n",
       "      <th>B</th>\n",
       "      <th>C</th>\n",
       "      <th>D</th>\n",
       "      <th>E</th>\n",
       "    </tr>\n",
       "  </thead>\n",
       "  <tbody>\n",
       "    <tr>\n",
       "      <th>2013-01-03</th>\n",
       "      <td>-1.355569</td>\n",
       "      <td>-1.740360</td>\n",
       "      <td>-0.095000</td>\n",
       "      <td>-0.549087</td>\n",
       "      <td>two</td>\n",
       "    </tr>\n",
       "    <tr>\n",
       "      <th>2013-01-05</th>\n",
       "      <td>0.053299</td>\n",
       "      <td>1.101957</td>\n",
       "      <td>-0.920676</td>\n",
       "      <td>-0.221553</td>\n",
       "      <td>four</td>\n",
       "    </tr>\n",
       "  </tbody>\n",
       "</table>\n",
       "</div>"
      ],
      "text/plain": [
       "                   A         B         C         D     E\n",
       "2013-01-03 -1.355569 -1.740360 -0.095000 -0.549087   two\n",
       "2013-01-05  0.053299  1.101957 -0.920676 -0.221553  four"
      ]
     },
     "execution_count": 64,
     "metadata": {},
     "output_type": "execute_result"
    }
   ],
   "source": [
    "df2[df2['E'].isin(['two','four'])]"
   ]
  },
  {
   "cell_type": "code",
   "execution_count": 65,
   "metadata": {
    "collapsed": true
   },
   "outputs": [],
   "source": [
    "# 5.3.5 Setting 設定值"
   ]
  },
  {
   "cell_type": "code",
   "execution_count": 66,
   "metadata": {},
   "outputs": [
    {
     "data": {
      "text/plain": [
       "2013-01-02    1\n",
       "2013-01-03    2\n",
       "2013-01-04    3\n",
       "2013-01-05    4\n",
       "2013-01-06    5\n",
       "2013-01-07    6\n",
       "Freq: D, dtype: int64"
      ]
     },
     "execution_count": 66,
     "metadata": {},
     "output_type": "execute_result"
    }
   ],
   "source": [
    "s1 = pd.Series([1,2,3,4,5,6], index=pd.date_range('20130102', periods=6))\n",
    "s1"
   ]
  },
  {
   "cell_type": "code",
   "execution_count": 67,
   "metadata": {},
   "outputs": [
    {
     "data": {
      "text/html": [
       "<div>\n",
       "<style>\n",
       "    .dataframe thead tr:only-child th {\n",
       "        text-align: right;\n",
       "    }\n",
       "\n",
       "    .dataframe thead th {\n",
       "        text-align: left;\n",
       "    }\n",
       "\n",
       "    .dataframe tbody tr th {\n",
       "        vertical-align: top;\n",
       "    }\n",
       "</style>\n",
       "<table border=\"1\" class=\"dataframe\">\n",
       "  <thead>\n",
       "    <tr style=\"text-align: right;\">\n",
       "      <th></th>\n",
       "      <th>A</th>\n",
       "      <th>B</th>\n",
       "      <th>C</th>\n",
       "      <th>D</th>\n",
       "    </tr>\n",
       "  </thead>\n",
       "  <tbody>\n",
       "    <tr>\n",
       "      <th>2013-01-01</th>\n",
       "      <td>0.000000</td>\n",
       "      <td>-1.111587</td>\n",
       "      <td>-1.408793</td>\n",
       "      <td>-2.526336</td>\n",
       "    </tr>\n",
       "    <tr>\n",
       "      <th>2013-01-02</th>\n",
       "      <td>-1.118538</td>\n",
       "      <td>0.614776</td>\n",
       "      <td>0.441831</td>\n",
       "      <td>-0.071401</td>\n",
       "    </tr>\n",
       "    <tr>\n",
       "      <th>2013-01-03</th>\n",
       "      <td>-1.355569</td>\n",
       "      <td>-1.740360</td>\n",
       "      <td>-0.095000</td>\n",
       "      <td>-0.549087</td>\n",
       "    </tr>\n",
       "    <tr>\n",
       "      <th>2013-01-04</th>\n",
       "      <td>-0.237156</td>\n",
       "      <td>0.735989</td>\n",
       "      <td>1.756625</td>\n",
       "      <td>1.340893</td>\n",
       "    </tr>\n",
       "    <tr>\n",
       "      <th>2013-01-05</th>\n",
       "      <td>0.053299</td>\n",
       "      <td>1.101957</td>\n",
       "      <td>-0.920676</td>\n",
       "      <td>-0.221553</td>\n",
       "    </tr>\n",
       "    <tr>\n",
       "      <th>2013-01-06</th>\n",
       "      <td>-0.699395</td>\n",
       "      <td>0.532872</td>\n",
       "      <td>1.549432</td>\n",
       "      <td>-0.983767</td>\n",
       "    </tr>\n",
       "  </tbody>\n",
       "</table>\n",
       "</div>"
      ],
      "text/plain": [
       "                   A         B         C         D\n",
       "2013-01-01  0.000000 -1.111587 -1.408793 -2.526336\n",
       "2013-01-02 -1.118538  0.614776  0.441831 -0.071401\n",
       "2013-01-03 -1.355569 -1.740360 -0.095000 -0.549087\n",
       "2013-01-04 -0.237156  0.735989  1.756625  1.340893\n",
       "2013-01-05  0.053299  1.101957 -0.920676 -0.221553\n",
       "2013-01-06 -0.699395  0.532872  1.549432 -0.983767"
      ]
     },
     "execution_count": 67,
     "metadata": {},
     "output_type": "execute_result"
    }
   ],
   "source": [
    "df.at[dates[0],'A'] = 0\n",
    "df"
   ]
  },
  {
   "cell_type": "code",
   "execution_count": 68,
   "metadata": {},
   "outputs": [
    {
     "data": {
      "text/html": [
       "<div>\n",
       "<style>\n",
       "    .dataframe thead tr:only-child th {\n",
       "        text-align: right;\n",
       "    }\n",
       "\n",
       "    .dataframe thead th {\n",
       "        text-align: left;\n",
       "    }\n",
       "\n",
       "    .dataframe tbody tr th {\n",
       "        vertical-align: top;\n",
       "    }\n",
       "</style>\n",
       "<table border=\"1\" class=\"dataframe\">\n",
       "  <thead>\n",
       "    <tr style=\"text-align: right;\">\n",
       "      <th></th>\n",
       "      <th>A</th>\n",
       "      <th>B</th>\n",
       "      <th>C</th>\n",
       "      <th>D</th>\n",
       "    </tr>\n",
       "  </thead>\n",
       "  <tbody>\n",
       "    <tr>\n",
       "      <th>2013-01-01</th>\n",
       "      <td>0.000000</td>\n",
       "      <td>-1.111587</td>\n",
       "      <td>-1.408793</td>\n",
       "      <td>0.000000</td>\n",
       "    </tr>\n",
       "    <tr>\n",
       "      <th>2013-01-02</th>\n",
       "      <td>-1.118538</td>\n",
       "      <td>0.614776</td>\n",
       "      <td>0.441831</td>\n",
       "      <td>-0.071401</td>\n",
       "    </tr>\n",
       "    <tr>\n",
       "      <th>2013-01-03</th>\n",
       "      <td>-1.355569</td>\n",
       "      <td>-1.740360</td>\n",
       "      <td>-0.095000</td>\n",
       "      <td>-0.549087</td>\n",
       "    </tr>\n",
       "    <tr>\n",
       "      <th>2013-01-04</th>\n",
       "      <td>-0.237156</td>\n",
       "      <td>0.735989</td>\n",
       "      <td>1.756625</td>\n",
       "      <td>1.340893</td>\n",
       "    </tr>\n",
       "    <tr>\n",
       "      <th>2013-01-05</th>\n",
       "      <td>0.053299</td>\n",
       "      <td>1.101957</td>\n",
       "      <td>-0.920676</td>\n",
       "      <td>-0.221553</td>\n",
       "    </tr>\n",
       "    <tr>\n",
       "      <th>2013-01-06</th>\n",
       "      <td>-0.699395</td>\n",
       "      <td>0.532872</td>\n",
       "      <td>1.549432</td>\n",
       "      <td>-0.983767</td>\n",
       "    </tr>\n",
       "  </tbody>\n",
       "</table>\n",
       "</div>"
      ],
      "text/plain": [
       "                   A         B         C         D\n",
       "2013-01-01  0.000000 -1.111587 -1.408793  0.000000\n",
       "2013-01-02 -1.118538  0.614776  0.441831 -0.071401\n",
       "2013-01-03 -1.355569 -1.740360 -0.095000 -0.549087\n",
       "2013-01-04 -0.237156  0.735989  1.756625  1.340893\n",
       "2013-01-05  0.053299  1.101957 -0.920676 -0.221553\n",
       "2013-01-06 -0.699395  0.532872  1.549432 -0.983767"
      ]
     },
     "execution_count": 68,
     "metadata": {},
     "output_type": "execute_result"
    }
   ],
   "source": [
    "df.iat[0,3] = 0\n",
    "df"
   ]
  },
  {
   "cell_type": "code",
   "execution_count": 69,
   "metadata": {
    "collapsed": true
   },
   "outputs": [],
   "source": [
    "df.loc[:,'D'] = np.array([5] * len(df)) # 將D欄改成5"
   ]
  },
  {
   "cell_type": "code",
   "execution_count": 70,
   "metadata": {},
   "outputs": [
    {
     "data": {
      "text/html": [
       "<div>\n",
       "<style>\n",
       "    .dataframe thead tr:only-child th {\n",
       "        text-align: right;\n",
       "    }\n",
       "\n",
       "    .dataframe thead th {\n",
       "        text-align: left;\n",
       "    }\n",
       "\n",
       "    .dataframe tbody tr th {\n",
       "        vertical-align: top;\n",
       "    }\n",
       "</style>\n",
       "<table border=\"1\" class=\"dataframe\">\n",
       "  <thead>\n",
       "    <tr style=\"text-align: right;\">\n",
       "      <th></th>\n",
       "      <th>A</th>\n",
       "      <th>B</th>\n",
       "      <th>C</th>\n",
       "      <th>D</th>\n",
       "    </tr>\n",
       "  </thead>\n",
       "  <tbody>\n",
       "    <tr>\n",
       "      <th>2013-01-01</th>\n",
       "      <td>0.000000</td>\n",
       "      <td>-1.111587</td>\n",
       "      <td>-1.408793</td>\n",
       "      <td>5</td>\n",
       "    </tr>\n",
       "    <tr>\n",
       "      <th>2013-01-02</th>\n",
       "      <td>-1.118538</td>\n",
       "      <td>0.614776</td>\n",
       "      <td>0.441831</td>\n",
       "      <td>5</td>\n",
       "    </tr>\n",
       "    <tr>\n",
       "      <th>2013-01-03</th>\n",
       "      <td>-1.355569</td>\n",
       "      <td>-1.740360</td>\n",
       "      <td>-0.095000</td>\n",
       "      <td>5</td>\n",
       "    </tr>\n",
       "    <tr>\n",
       "      <th>2013-01-04</th>\n",
       "      <td>-0.237156</td>\n",
       "      <td>0.735989</td>\n",
       "      <td>1.756625</td>\n",
       "      <td>5</td>\n",
       "    </tr>\n",
       "    <tr>\n",
       "      <th>2013-01-05</th>\n",
       "      <td>0.053299</td>\n",
       "      <td>1.101957</td>\n",
       "      <td>-0.920676</td>\n",
       "      <td>5</td>\n",
       "    </tr>\n",
       "    <tr>\n",
       "      <th>2013-01-06</th>\n",
       "      <td>-0.699395</td>\n",
       "      <td>0.532872</td>\n",
       "      <td>1.549432</td>\n",
       "      <td>5</td>\n",
       "    </tr>\n",
       "  </tbody>\n",
       "</table>\n",
       "</div>"
      ],
      "text/plain": [
       "                   A         B         C  D\n",
       "2013-01-01  0.000000 -1.111587 -1.408793  5\n",
       "2013-01-02 -1.118538  0.614776  0.441831  5\n",
       "2013-01-03 -1.355569 -1.740360 -0.095000  5\n",
       "2013-01-04 -0.237156  0.735989  1.756625  5\n",
       "2013-01-05  0.053299  1.101957 -0.920676  5\n",
       "2013-01-06 -0.699395  0.532872  1.549432  5"
      ]
     },
     "execution_count": 70,
     "metadata": {},
     "output_type": "execute_result"
    }
   ],
   "source": [
    "df"
   ]
  },
  {
   "cell_type": "code",
   "execution_count": 71,
   "metadata": {},
   "outputs": [
    {
     "data": {
      "text/html": [
       "<div>\n",
       "<style>\n",
       "    .dataframe thead tr:only-child th {\n",
       "        text-align: right;\n",
       "    }\n",
       "\n",
       "    .dataframe thead th {\n",
       "        text-align: left;\n",
       "    }\n",
       "\n",
       "    .dataframe tbody tr th {\n",
       "        vertical-align: top;\n",
       "    }\n",
       "</style>\n",
       "<table border=\"1\" class=\"dataframe\">\n",
       "  <thead>\n",
       "    <tr style=\"text-align: right;\">\n",
       "      <th></th>\n",
       "      <th>A</th>\n",
       "      <th>B</th>\n",
       "      <th>C</th>\n",
       "      <th>D</th>\n",
       "    </tr>\n",
       "  </thead>\n",
       "  <tbody>\n",
       "    <tr>\n",
       "      <th>2013-01-01</th>\n",
       "      <td>0.000000</td>\n",
       "      <td>-1.111587</td>\n",
       "      <td>-1.408793</td>\n",
       "      <td>-5</td>\n",
       "    </tr>\n",
       "    <tr>\n",
       "      <th>2013-01-02</th>\n",
       "      <td>-1.118538</td>\n",
       "      <td>-0.614776</td>\n",
       "      <td>-0.441831</td>\n",
       "      <td>-5</td>\n",
       "    </tr>\n",
       "    <tr>\n",
       "      <th>2013-01-03</th>\n",
       "      <td>-1.355569</td>\n",
       "      <td>-1.740360</td>\n",
       "      <td>-0.095000</td>\n",
       "      <td>-5</td>\n",
       "    </tr>\n",
       "    <tr>\n",
       "      <th>2013-01-04</th>\n",
       "      <td>-0.237156</td>\n",
       "      <td>-0.735989</td>\n",
       "      <td>-1.756625</td>\n",
       "      <td>-5</td>\n",
       "    </tr>\n",
       "    <tr>\n",
       "      <th>2013-01-05</th>\n",
       "      <td>-0.053299</td>\n",
       "      <td>-1.101957</td>\n",
       "      <td>-0.920676</td>\n",
       "      <td>-5</td>\n",
       "    </tr>\n",
       "    <tr>\n",
       "      <th>2013-01-06</th>\n",
       "      <td>-0.699395</td>\n",
       "      <td>-0.532872</td>\n",
       "      <td>-1.549432</td>\n",
       "      <td>-5</td>\n",
       "    </tr>\n",
       "  </tbody>\n",
       "</table>\n",
       "</div>"
      ],
      "text/plain": [
       "                   A         B         C  D\n",
       "2013-01-01  0.000000 -1.111587 -1.408793 -5\n",
       "2013-01-02 -1.118538 -0.614776 -0.441831 -5\n",
       "2013-01-03 -1.355569 -1.740360 -0.095000 -5\n",
       "2013-01-04 -0.237156 -0.735989 -1.756625 -5\n",
       "2013-01-05 -0.053299 -1.101957 -0.920676 -5\n",
       "2013-01-06 -0.699395 -0.532872 -1.549432 -5"
      ]
     },
     "execution_count": 71,
     "metadata": {},
     "output_type": "execute_result"
    }
   ],
   "source": [
    "df2 = df.copy()\n",
    "df2[df2 > 0] = -df2\n",
    "df2"
   ]
  },
  {
   "cell_type": "markdown",
   "metadata": {},
   "source": [
    "# 5.4 Missing Data 遺漏值"
   ]
  },
  {
   "cell_type": "code",
   "execution_count": 72,
   "metadata": {},
   "outputs": [
    {
     "data": {
      "text/html": [
       "<div>\n",
       "<style>\n",
       "    .dataframe thead tr:only-child th {\n",
       "        text-align: right;\n",
       "    }\n",
       "\n",
       "    .dataframe thead th {\n",
       "        text-align: left;\n",
       "    }\n",
       "\n",
       "    .dataframe tbody tr th {\n",
       "        vertical-align: top;\n",
       "    }\n",
       "</style>\n",
       "<table border=\"1\" class=\"dataframe\">\n",
       "  <thead>\n",
       "    <tr style=\"text-align: right;\">\n",
       "      <th></th>\n",
       "      <th>A</th>\n",
       "      <th>B</th>\n",
       "      <th>C</th>\n",
       "      <th>D</th>\n",
       "      <th>E</th>\n",
       "    </tr>\n",
       "  </thead>\n",
       "  <tbody>\n",
       "    <tr>\n",
       "      <th>2013-01-01</th>\n",
       "      <td>0.000000</td>\n",
       "      <td>-1.111587</td>\n",
       "      <td>-1.408793</td>\n",
       "      <td>5</td>\n",
       "      <td>NaN</td>\n",
       "    </tr>\n",
       "    <tr>\n",
       "      <th>2013-01-02</th>\n",
       "      <td>-1.118538</td>\n",
       "      <td>0.614776</td>\n",
       "      <td>0.441831</td>\n",
       "      <td>5</td>\n",
       "      <td>NaN</td>\n",
       "    </tr>\n",
       "    <tr>\n",
       "      <th>2013-01-03</th>\n",
       "      <td>-1.355569</td>\n",
       "      <td>-1.740360</td>\n",
       "      <td>-0.095000</td>\n",
       "      <td>5</td>\n",
       "      <td>NaN</td>\n",
       "    </tr>\n",
       "    <tr>\n",
       "      <th>2013-01-04</th>\n",
       "      <td>-0.237156</td>\n",
       "      <td>0.735989</td>\n",
       "      <td>1.756625</td>\n",
       "      <td>5</td>\n",
       "      <td>NaN</td>\n",
       "    </tr>\n",
       "  </tbody>\n",
       "</table>\n",
       "</div>"
      ],
      "text/plain": [
       "                   A         B         C  D   E\n",
       "2013-01-01  0.000000 -1.111587 -1.408793  5 NaN\n",
       "2013-01-02 -1.118538  0.614776  0.441831  5 NaN\n",
       "2013-01-03 -1.355569 -1.740360 -0.095000  5 NaN\n",
       "2013-01-04 -0.237156  0.735989  1.756625  5 NaN"
      ]
     },
     "execution_count": 72,
     "metadata": {},
     "output_type": "execute_result"
    }
   ],
   "source": [
    "# [0:4] 表示index為 0,1,2,3 \n",
    "df1 = df.reindex(index=dates[0:4], columns=list(df.columns) + ['E'])\n",
    "df1"
   ]
  },
  {
   "cell_type": "code",
   "execution_count": 73,
   "metadata": {},
   "outputs": [
    {
     "data": {
      "text/html": [
       "<div>\n",
       "<style>\n",
       "    .dataframe thead tr:only-child th {\n",
       "        text-align: right;\n",
       "    }\n",
       "\n",
       "    .dataframe thead th {\n",
       "        text-align: left;\n",
       "    }\n",
       "\n",
       "    .dataframe tbody tr th {\n",
       "        vertical-align: top;\n",
       "    }\n",
       "</style>\n",
       "<table border=\"1\" class=\"dataframe\">\n",
       "  <thead>\n",
       "    <tr style=\"text-align: right;\">\n",
       "      <th></th>\n",
       "      <th>A</th>\n",
       "      <th>B</th>\n",
       "      <th>C</th>\n",
       "      <th>D</th>\n",
       "      <th>E</th>\n",
       "    </tr>\n",
       "  </thead>\n",
       "  <tbody>\n",
       "    <tr>\n",
       "      <th>2013-01-01</th>\n",
       "      <td>0.000000</td>\n",
       "      <td>-1.111587</td>\n",
       "      <td>-1.408793</td>\n",
       "      <td>5</td>\n",
       "      <td>1.0</td>\n",
       "    </tr>\n",
       "    <tr>\n",
       "      <th>2013-01-02</th>\n",
       "      <td>-1.118538</td>\n",
       "      <td>0.614776</td>\n",
       "      <td>0.441831</td>\n",
       "      <td>5</td>\n",
       "      <td>1.0</td>\n",
       "    </tr>\n",
       "    <tr>\n",
       "      <th>2013-01-03</th>\n",
       "      <td>-1.355569</td>\n",
       "      <td>-1.740360</td>\n",
       "      <td>-0.095000</td>\n",
       "      <td>5</td>\n",
       "      <td>NaN</td>\n",
       "    </tr>\n",
       "    <tr>\n",
       "      <th>2013-01-04</th>\n",
       "      <td>-0.237156</td>\n",
       "      <td>0.735989</td>\n",
       "      <td>1.756625</td>\n",
       "      <td>5</td>\n",
       "      <td>NaN</td>\n",
       "    </tr>\n",
       "  </tbody>\n",
       "</table>\n",
       "</div>"
      ],
      "text/plain": [
       "                   A         B         C  D    E\n",
       "2013-01-01  0.000000 -1.111587 -1.408793  5  1.0\n",
       "2013-01-02 -1.118538  0.614776  0.441831  5  1.0\n",
       "2013-01-03 -1.355569 -1.740360 -0.095000  5  NaN\n",
       "2013-01-04 -0.237156  0.735989  1.756625  5  NaN"
      ]
     },
     "execution_count": 73,
     "metadata": {},
     "output_type": "execute_result"
    }
   ],
   "source": [
    "df1.loc[dates[0]:dates[1],'E'] = 1\n",
    "df1"
   ]
  },
  {
   "cell_type": "code",
   "execution_count": 74,
   "metadata": {},
   "outputs": [
    {
     "data": {
      "text/html": [
       "<div>\n",
       "<style>\n",
       "    .dataframe thead tr:only-child th {\n",
       "        text-align: right;\n",
       "    }\n",
       "\n",
       "    .dataframe thead th {\n",
       "        text-align: left;\n",
       "    }\n",
       "\n",
       "    .dataframe tbody tr th {\n",
       "        vertical-align: top;\n",
       "    }\n",
       "</style>\n",
       "<table border=\"1\" class=\"dataframe\">\n",
       "  <thead>\n",
       "    <tr style=\"text-align: right;\">\n",
       "      <th></th>\n",
       "      <th>A</th>\n",
       "      <th>B</th>\n",
       "      <th>C</th>\n",
       "      <th>D</th>\n",
       "      <th>E</th>\n",
       "    </tr>\n",
       "  </thead>\n",
       "  <tbody>\n",
       "    <tr>\n",
       "      <th>2013-01-01</th>\n",
       "      <td>0.000000</td>\n",
       "      <td>-1.111587</td>\n",
       "      <td>-1.408793</td>\n",
       "      <td>5</td>\n",
       "      <td>1.0</td>\n",
       "    </tr>\n",
       "    <tr>\n",
       "      <th>2013-01-02</th>\n",
       "      <td>-1.118538</td>\n",
       "      <td>0.614776</td>\n",
       "      <td>0.441831</td>\n",
       "      <td>5</td>\n",
       "      <td>1.0</td>\n",
       "    </tr>\n",
       "  </tbody>\n",
       "</table>\n",
       "</div>"
      ],
      "text/plain": [
       "                   A         B         C  D    E\n",
       "2013-01-01  0.000000 -1.111587 -1.408793  5  1.0\n",
       "2013-01-02 -1.118538  0.614776  0.441831  5  1.0"
      ]
     },
     "execution_count": 74,
     "metadata": {},
     "output_type": "execute_result"
    }
   ],
   "source": [
    "# 刪除列中包括 NaN\n",
    "df1.dropna(how='any')"
   ]
  },
  {
   "cell_type": "code",
   "execution_count": 75,
   "metadata": {},
   "outputs": [
    {
     "data": {
      "text/html": [
       "<div>\n",
       "<style>\n",
       "    .dataframe thead tr:only-child th {\n",
       "        text-align: right;\n",
       "    }\n",
       "\n",
       "    .dataframe thead th {\n",
       "        text-align: left;\n",
       "    }\n",
       "\n",
       "    .dataframe tbody tr th {\n",
       "        vertical-align: top;\n",
       "    }\n",
       "</style>\n",
       "<table border=\"1\" class=\"dataframe\">\n",
       "  <thead>\n",
       "    <tr style=\"text-align: right;\">\n",
       "      <th></th>\n",
       "      <th>A</th>\n",
       "      <th>B</th>\n",
       "      <th>C</th>\n",
       "      <th>D</th>\n",
       "      <th>E</th>\n",
       "    </tr>\n",
       "  </thead>\n",
       "  <tbody>\n",
       "    <tr>\n",
       "      <th>2013-01-01</th>\n",
       "      <td>0.000000</td>\n",
       "      <td>-1.111587</td>\n",
       "      <td>-1.408793</td>\n",
       "      <td>5</td>\n",
       "      <td>1.0</td>\n",
       "    </tr>\n",
       "    <tr>\n",
       "      <th>2013-01-02</th>\n",
       "      <td>-1.118538</td>\n",
       "      <td>0.614776</td>\n",
       "      <td>0.441831</td>\n",
       "      <td>5</td>\n",
       "      <td>1.0</td>\n",
       "    </tr>\n",
       "    <tr>\n",
       "      <th>2013-01-03</th>\n",
       "      <td>-1.355569</td>\n",
       "      <td>-1.740360</td>\n",
       "      <td>-0.095000</td>\n",
       "      <td>5</td>\n",
       "      <td>5.0</td>\n",
       "    </tr>\n",
       "    <tr>\n",
       "      <th>2013-01-04</th>\n",
       "      <td>-0.237156</td>\n",
       "      <td>0.735989</td>\n",
       "      <td>1.756625</td>\n",
       "      <td>5</td>\n",
       "      <td>5.0</td>\n",
       "    </tr>\n",
       "  </tbody>\n",
       "</table>\n",
       "</div>"
      ],
      "text/plain": [
       "                   A         B         C  D    E\n",
       "2013-01-01  0.000000 -1.111587 -1.408793  5  1.0\n",
       "2013-01-02 -1.118538  0.614776  0.441831  5  1.0\n",
       "2013-01-03 -1.355569 -1.740360 -0.095000  5  5.0\n",
       "2013-01-04 -0.237156  0.735989  1.756625  5  5.0"
      ]
     },
     "execution_count": 75,
     "metadata": {},
     "output_type": "execute_result"
    }
   ],
   "source": [
    "# 將遺漏值填入值\n",
    "df1.fillna(value=5)"
   ]
  },
  {
   "cell_type": "code",
   "execution_count": 76,
   "metadata": {},
   "outputs": [
    {
     "data": {
      "text/html": [
       "<div>\n",
       "<style>\n",
       "    .dataframe thead tr:only-child th {\n",
       "        text-align: right;\n",
       "    }\n",
       "\n",
       "    .dataframe thead th {\n",
       "        text-align: left;\n",
       "    }\n",
       "\n",
       "    .dataframe tbody tr th {\n",
       "        vertical-align: top;\n",
       "    }\n",
       "</style>\n",
       "<table border=\"1\" class=\"dataframe\">\n",
       "  <thead>\n",
       "    <tr style=\"text-align: right;\">\n",
       "      <th></th>\n",
       "      <th>A</th>\n",
       "      <th>B</th>\n",
       "      <th>C</th>\n",
       "      <th>D</th>\n",
       "      <th>E</th>\n",
       "    </tr>\n",
       "  </thead>\n",
       "  <tbody>\n",
       "    <tr>\n",
       "      <th>2013-01-01</th>\n",
       "      <td>False</td>\n",
       "      <td>False</td>\n",
       "      <td>False</td>\n",
       "      <td>False</td>\n",
       "      <td>False</td>\n",
       "    </tr>\n",
       "    <tr>\n",
       "      <th>2013-01-02</th>\n",
       "      <td>False</td>\n",
       "      <td>False</td>\n",
       "      <td>False</td>\n",
       "      <td>False</td>\n",
       "      <td>False</td>\n",
       "    </tr>\n",
       "    <tr>\n",
       "      <th>2013-01-03</th>\n",
       "      <td>False</td>\n",
       "      <td>False</td>\n",
       "      <td>False</td>\n",
       "      <td>False</td>\n",
       "      <td>True</td>\n",
       "    </tr>\n",
       "    <tr>\n",
       "      <th>2013-01-04</th>\n",
       "      <td>False</td>\n",
       "      <td>False</td>\n",
       "      <td>False</td>\n",
       "      <td>False</td>\n",
       "      <td>True</td>\n",
       "    </tr>\n",
       "  </tbody>\n",
       "</table>\n",
       "</div>"
      ],
      "text/plain": [
       "                A      B      C      D      E\n",
       "2013-01-01  False  False  False  False  False\n",
       "2013-01-02  False  False  False  False  False\n",
       "2013-01-03  False  False  False  False   True\n",
       "2013-01-04  False  False  False  False   True"
      ]
     },
     "execution_count": 76,
     "metadata": {},
     "output_type": "execute_result"
    }
   ],
   "source": [
    "# 判斷何者為NaN\n",
    "pd.isnull(df1)"
   ]
  },
  {
   "cell_type": "markdown",
   "metadata": {},
   "source": [
    "# 5.5 Operations 資料操作"
   ]
  },
  {
   "cell_type": "code",
   "execution_count": 77,
   "metadata": {
    "collapsed": true
   },
   "outputs": [],
   "source": [
    "# 5.5.1 Stats 統計分析"
   ]
  },
  {
   "cell_type": "code",
   "execution_count": 78,
   "metadata": {},
   "outputs": [
    {
     "data": {
      "text/html": [
       "<div>\n",
       "<style>\n",
       "    .dataframe thead tr:only-child th {\n",
       "        text-align: right;\n",
       "    }\n",
       "\n",
       "    .dataframe thead th {\n",
       "        text-align: left;\n",
       "    }\n",
       "\n",
       "    .dataframe tbody tr th {\n",
       "        vertical-align: top;\n",
       "    }\n",
       "</style>\n",
       "<table border=\"1\" class=\"dataframe\">\n",
       "  <thead>\n",
       "    <tr style=\"text-align: right;\">\n",
       "      <th></th>\n",
       "      <th>A</th>\n",
       "      <th>B</th>\n",
       "      <th>C</th>\n",
       "      <th>D</th>\n",
       "    </tr>\n",
       "  </thead>\n",
       "  <tbody>\n",
       "    <tr>\n",
       "      <th>2013-01-01</th>\n",
       "      <td>0.000000</td>\n",
       "      <td>-1.111587</td>\n",
       "      <td>-1.408793</td>\n",
       "      <td>5</td>\n",
       "    </tr>\n",
       "    <tr>\n",
       "      <th>2013-01-02</th>\n",
       "      <td>-1.118538</td>\n",
       "      <td>0.614776</td>\n",
       "      <td>0.441831</td>\n",
       "      <td>5</td>\n",
       "    </tr>\n",
       "    <tr>\n",
       "      <th>2013-01-03</th>\n",
       "      <td>-1.355569</td>\n",
       "      <td>-1.740360</td>\n",
       "      <td>-0.095000</td>\n",
       "      <td>5</td>\n",
       "    </tr>\n",
       "    <tr>\n",
       "      <th>2013-01-04</th>\n",
       "      <td>-0.237156</td>\n",
       "      <td>0.735989</td>\n",
       "      <td>1.756625</td>\n",
       "      <td>5</td>\n",
       "    </tr>\n",
       "    <tr>\n",
       "      <th>2013-01-05</th>\n",
       "      <td>0.053299</td>\n",
       "      <td>1.101957</td>\n",
       "      <td>-0.920676</td>\n",
       "      <td>5</td>\n",
       "    </tr>\n",
       "    <tr>\n",
       "      <th>2013-01-06</th>\n",
       "      <td>-0.699395</td>\n",
       "      <td>0.532872</td>\n",
       "      <td>1.549432</td>\n",
       "      <td>5</td>\n",
       "    </tr>\n",
       "  </tbody>\n",
       "</table>\n",
       "</div>"
      ],
      "text/plain": [
       "                   A         B         C  D\n",
       "2013-01-01  0.000000 -1.111587 -1.408793  5\n",
       "2013-01-02 -1.118538  0.614776  0.441831  5\n",
       "2013-01-03 -1.355569 -1.740360 -0.095000  5\n",
       "2013-01-04 -0.237156  0.735989  1.756625  5\n",
       "2013-01-05  0.053299  1.101957 -0.920676  5\n",
       "2013-01-06 -0.699395  0.532872  1.549432  5"
      ]
     },
     "execution_count": 78,
     "metadata": {},
     "output_type": "execute_result"
    }
   ],
   "source": [
    "df"
   ]
  },
  {
   "cell_type": "code",
   "execution_count": 79,
   "metadata": {},
   "outputs": [
    {
     "data": {
      "text/plain": [
       "A   -0.559560\n",
       "B    0.022275\n",
       "C    0.220570\n",
       "D    5.000000\n",
       "dtype: float64"
      ]
     },
     "execution_count": 79,
     "metadata": {},
     "output_type": "execute_result"
    }
   ],
   "source": [
    "df.mean()"
   ]
  },
  {
   "cell_type": "code",
   "execution_count": 80,
   "metadata": {},
   "outputs": [
    {
     "data": {
      "text/plain": [
       "2013-01-01    0.619905\n",
       "2013-01-02    1.234517\n",
       "2013-01-03    0.452268\n",
       "2013-01-04    1.813865\n",
       "2013-01-05    1.308645\n",
       "2013-01-06    1.595727\n",
       "Freq: D, dtype: float64"
      ]
     },
     "execution_count": 80,
     "metadata": {},
     "output_type": "execute_result"
    }
   ],
   "source": [
    "# 計算每列平均\n",
    "df.mean(1)"
   ]
  },
  {
   "cell_type": "code",
   "execution_count": 81,
   "metadata": {},
   "outputs": [
    {
     "data": {
      "text/plain": [
       "A   -0.559560\n",
       "B    0.022275\n",
       "C    0.220570\n",
       "D    5.000000\n",
       "dtype: float64"
      ]
     },
     "execution_count": 81,
     "metadata": {},
     "output_type": "execute_result"
    }
   ],
   "source": [
    "# 計算每行平均\n",
    "df.mean(0)"
   ]
  },
  {
   "cell_type": "code",
   "execution_count": 82,
   "metadata": {},
   "outputs": [
    {
     "data": {
      "text/plain": [
       "2013-01-01    1.0\n",
       "2013-01-02    3.0\n",
       "2013-01-03    5.0\n",
       "2013-01-04    NaN\n",
       "2013-01-05    6.0\n",
       "2013-01-06    8.0\n",
       "Freq: D, dtype: float64"
      ]
     },
     "execution_count": 82,
     "metadata": {},
     "output_type": "execute_result"
    }
   ],
   "source": [
    "s = pd.Series([1,3,5,np.nan,6,8], index=dates)\n",
    "s"
   ]
  },
  {
   "cell_type": "code",
   "execution_count": 83,
   "metadata": {},
   "outputs": [
    {
     "data": {
      "text/plain": [
       "2013-01-01    NaN\n",
       "2013-01-02    NaN\n",
       "2013-01-03    1.0\n",
       "2013-01-04    3.0\n",
       "2013-01-05    5.0\n",
       "2013-01-06    NaN\n",
       "Freq: D, dtype: float64"
      ]
     },
     "execution_count": 83,
     "metadata": {},
     "output_type": "execute_result"
    }
   ],
   "source": [
    "# 移動2個位置\n",
    "s = pd.Series([1,3,5,np.nan,6,8], index=dates).shift(2)\n",
    "s"
   ]
  },
  {
   "cell_type": "code",
   "execution_count": 84,
   "metadata": {},
   "outputs": [
    {
     "data": {
      "text/html": [
       "<div>\n",
       "<style>\n",
       "    .dataframe thead tr:only-child th {\n",
       "        text-align: right;\n",
       "    }\n",
       "\n",
       "    .dataframe thead th {\n",
       "        text-align: left;\n",
       "    }\n",
       "\n",
       "    .dataframe tbody tr th {\n",
       "        vertical-align: top;\n",
       "    }\n",
       "</style>\n",
       "<table border=\"1\" class=\"dataframe\">\n",
       "  <thead>\n",
       "    <tr style=\"text-align: right;\">\n",
       "      <th></th>\n",
       "      <th>A</th>\n",
       "      <th>B</th>\n",
       "      <th>C</th>\n",
       "      <th>D</th>\n",
       "    </tr>\n",
       "  </thead>\n",
       "  <tbody>\n",
       "    <tr>\n",
       "      <th>2013-01-01</th>\n",
       "      <td>0.000000</td>\n",
       "      <td>-1.111587</td>\n",
       "      <td>-1.408793</td>\n",
       "      <td>5</td>\n",
       "    </tr>\n",
       "    <tr>\n",
       "      <th>2013-01-02</th>\n",
       "      <td>-1.118538</td>\n",
       "      <td>0.614776</td>\n",
       "      <td>0.441831</td>\n",
       "      <td>5</td>\n",
       "    </tr>\n",
       "    <tr>\n",
       "      <th>2013-01-03</th>\n",
       "      <td>-1.355569</td>\n",
       "      <td>-1.740360</td>\n",
       "      <td>-0.095000</td>\n",
       "      <td>5</td>\n",
       "    </tr>\n",
       "    <tr>\n",
       "      <th>2013-01-04</th>\n",
       "      <td>-0.237156</td>\n",
       "      <td>0.735989</td>\n",
       "      <td>1.756625</td>\n",
       "      <td>5</td>\n",
       "    </tr>\n",
       "    <tr>\n",
       "      <th>2013-01-05</th>\n",
       "      <td>0.053299</td>\n",
       "      <td>1.101957</td>\n",
       "      <td>-0.920676</td>\n",
       "      <td>5</td>\n",
       "    </tr>\n",
       "    <tr>\n",
       "      <th>2013-01-06</th>\n",
       "      <td>-0.699395</td>\n",
       "      <td>0.532872</td>\n",
       "      <td>1.549432</td>\n",
       "      <td>5</td>\n",
       "    </tr>\n",
       "  </tbody>\n",
       "</table>\n",
       "</div>"
      ],
      "text/plain": [
       "                   A         B         C  D\n",
       "2013-01-01  0.000000 -1.111587 -1.408793  5\n",
       "2013-01-02 -1.118538  0.614776  0.441831  5\n",
       "2013-01-03 -1.355569 -1.740360 -0.095000  5\n",
       "2013-01-04 -0.237156  0.735989  1.756625  5\n",
       "2013-01-05  0.053299  1.101957 -0.920676  5\n",
       "2013-01-06 -0.699395  0.532872  1.549432  5"
      ]
     },
     "execution_count": 84,
     "metadata": {},
     "output_type": "execute_result"
    }
   ],
   "source": [
    "df"
   ]
  },
  {
   "cell_type": "code",
   "execution_count": 85,
   "metadata": {},
   "outputs": [
    {
     "data": {
      "text/html": [
       "<div>\n",
       "<style>\n",
       "    .dataframe thead tr:only-child th {\n",
       "        text-align: right;\n",
       "    }\n",
       "\n",
       "    .dataframe thead th {\n",
       "        text-align: left;\n",
       "    }\n",
       "\n",
       "    .dataframe tbody tr th {\n",
       "        vertical-align: top;\n",
       "    }\n",
       "</style>\n",
       "<table border=\"1\" class=\"dataframe\">\n",
       "  <thead>\n",
       "    <tr style=\"text-align: right;\">\n",
       "      <th></th>\n",
       "      <th>A</th>\n",
       "      <th>B</th>\n",
       "      <th>C</th>\n",
       "      <th>D</th>\n",
       "    </tr>\n",
       "  </thead>\n",
       "  <tbody>\n",
       "    <tr>\n",
       "      <th>2013-01-01</th>\n",
       "      <td>NaN</td>\n",
       "      <td>NaN</td>\n",
       "      <td>NaN</td>\n",
       "      <td>NaN</td>\n",
       "    </tr>\n",
       "    <tr>\n",
       "      <th>2013-01-02</th>\n",
       "      <td>NaN</td>\n",
       "      <td>NaN</td>\n",
       "      <td>NaN</td>\n",
       "      <td>NaN</td>\n",
       "    </tr>\n",
       "    <tr>\n",
       "      <th>2013-01-03</th>\n",
       "      <td>-2.355569</td>\n",
       "      <td>-2.740360</td>\n",
       "      <td>-1.095000</td>\n",
       "      <td>4.0</td>\n",
       "    </tr>\n",
       "    <tr>\n",
       "      <th>2013-01-04</th>\n",
       "      <td>-3.237156</td>\n",
       "      <td>-2.264011</td>\n",
       "      <td>-1.243375</td>\n",
       "      <td>2.0</td>\n",
       "    </tr>\n",
       "    <tr>\n",
       "      <th>2013-01-05</th>\n",
       "      <td>-4.946701</td>\n",
       "      <td>-3.898043</td>\n",
       "      <td>-5.920676</td>\n",
       "      <td>0.0</td>\n",
       "    </tr>\n",
       "    <tr>\n",
       "      <th>2013-01-06</th>\n",
       "      <td>NaN</td>\n",
       "      <td>NaN</td>\n",
       "      <td>NaN</td>\n",
       "      <td>NaN</td>\n",
       "    </tr>\n",
       "  </tbody>\n",
       "</table>\n",
       "</div>"
      ],
      "text/plain": [
       "                   A         B         C    D\n",
       "2013-01-01       NaN       NaN       NaN  NaN\n",
       "2013-01-02       NaN       NaN       NaN  NaN\n",
       "2013-01-03 -2.355569 -2.740360 -1.095000  4.0\n",
       "2013-01-04 -3.237156 -2.264011 -1.243375  2.0\n",
       "2013-01-05 -4.946701 -3.898043 -5.920676  0.0\n",
       "2013-01-06       NaN       NaN       NaN  NaN"
      ]
     },
     "execution_count": 85,
     "metadata": {},
     "output_type": "execute_result"
    }
   ],
   "source": [
    "# 每行數值 減1\n",
    "df.sub(s, axis='index')\n",
    "#  0.750356  -1 = -0.249644\n",
    "# -0.335855 - 3 = -3.335855\n",
    "#  0.901004 - 5 = -4.098996"
   ]
  },
  {
   "cell_type": "code",
   "execution_count": 86,
   "metadata": {
    "collapsed": true
   },
   "outputs": [],
   "source": [
    "# 5.5.2 Apply 將資料套用至函數"
   ]
  },
  {
   "cell_type": "code",
   "execution_count": 87,
   "metadata": {},
   "outputs": [
    {
     "data": {
      "text/html": [
       "<div>\n",
       "<style>\n",
       "    .dataframe thead tr:only-child th {\n",
       "        text-align: right;\n",
       "    }\n",
       "\n",
       "    .dataframe thead th {\n",
       "        text-align: left;\n",
       "    }\n",
       "\n",
       "    .dataframe tbody tr th {\n",
       "        vertical-align: top;\n",
       "    }\n",
       "</style>\n",
       "<table border=\"1\" class=\"dataframe\">\n",
       "  <thead>\n",
       "    <tr style=\"text-align: right;\">\n",
       "      <th></th>\n",
       "      <th>A</th>\n",
       "      <th>B</th>\n",
       "      <th>C</th>\n",
       "      <th>D</th>\n",
       "    </tr>\n",
       "  </thead>\n",
       "  <tbody>\n",
       "    <tr>\n",
       "      <th>2013-01-01</th>\n",
       "      <td>0.000000</td>\n",
       "      <td>-1.111587</td>\n",
       "      <td>-1.408793</td>\n",
       "      <td>5</td>\n",
       "    </tr>\n",
       "    <tr>\n",
       "      <th>2013-01-02</th>\n",
       "      <td>-1.118538</td>\n",
       "      <td>-0.496812</td>\n",
       "      <td>-0.966962</td>\n",
       "      <td>10</td>\n",
       "    </tr>\n",
       "    <tr>\n",
       "      <th>2013-01-03</th>\n",
       "      <td>-2.474106</td>\n",
       "      <td>-2.237172</td>\n",
       "      <td>-1.061962</td>\n",
       "      <td>15</td>\n",
       "    </tr>\n",
       "    <tr>\n",
       "      <th>2013-01-04</th>\n",
       "      <td>-2.711262</td>\n",
       "      <td>-1.501182</td>\n",
       "      <td>0.694663</td>\n",
       "      <td>20</td>\n",
       "    </tr>\n",
       "    <tr>\n",
       "      <th>2013-01-05</th>\n",
       "      <td>-2.657963</td>\n",
       "      <td>-0.399225</td>\n",
       "      <td>-0.226013</td>\n",
       "      <td>25</td>\n",
       "    </tr>\n",
       "    <tr>\n",
       "      <th>2013-01-06</th>\n",
       "      <td>-3.357358</td>\n",
       "      <td>0.133647</td>\n",
       "      <td>1.323419</td>\n",
       "      <td>30</td>\n",
       "    </tr>\n",
       "  </tbody>\n",
       "</table>\n",
       "</div>"
      ],
      "text/plain": [
       "                   A         B         C   D\n",
       "2013-01-01  0.000000 -1.111587 -1.408793   5\n",
       "2013-01-02 -1.118538 -0.496812 -0.966962  10\n",
       "2013-01-03 -2.474106 -2.237172 -1.061962  15\n",
       "2013-01-04 -2.711262 -1.501182  0.694663  20\n",
       "2013-01-05 -2.657963 -0.399225 -0.226013  25\n",
       "2013-01-06 -3.357358  0.133647  1.323419  30"
      ]
     },
     "execution_count": 87,
     "metadata": {},
     "output_type": "execute_result"
    }
   ],
   "source": [
    "df.apply(np.cumsum)"
   ]
  },
  {
   "cell_type": "markdown",
   "metadata": {},
   "source": [
    "# 5.6 Merge 合併"
   ]
  },
  {
   "cell_type": "code",
   "execution_count": 88,
   "metadata": {},
   "outputs": [
    {
     "data": {
      "text/html": [
       "<div>\n",
       "<style>\n",
       "    .dataframe thead tr:only-child th {\n",
       "        text-align: right;\n",
       "    }\n",
       "\n",
       "    .dataframe thead th {\n",
       "        text-align: left;\n",
       "    }\n",
       "\n",
       "    .dataframe tbody tr th {\n",
       "        vertical-align: top;\n",
       "    }\n",
       "</style>\n",
       "<table border=\"1\" class=\"dataframe\">\n",
       "  <thead>\n",
       "    <tr style=\"text-align: right;\">\n",
       "      <th></th>\n",
       "      <th>0</th>\n",
       "      <th>1</th>\n",
       "      <th>2</th>\n",
       "      <th>3</th>\n",
       "    </tr>\n",
       "  </thead>\n",
       "  <tbody>\n",
       "    <tr>\n",
       "      <th>0</th>\n",
       "      <td>-0.215509</td>\n",
       "      <td>0.417795</td>\n",
       "      <td>0.789034</td>\n",
       "      <td>-0.043536</td>\n",
       "    </tr>\n",
       "    <tr>\n",
       "      <th>1</th>\n",
       "      <td>-0.195021</td>\n",
       "      <td>-2.021001</td>\n",
       "      <td>-0.322865</td>\n",
       "      <td>-0.284389</td>\n",
       "    </tr>\n",
       "    <tr>\n",
       "      <th>2</th>\n",
       "      <td>-1.210955</td>\n",
       "      <td>0.580911</td>\n",
       "      <td>-0.933978</td>\n",
       "      <td>1.125562</td>\n",
       "    </tr>\n",
       "    <tr>\n",
       "      <th>3</th>\n",
       "      <td>1.791491</td>\n",
       "      <td>2.567313</td>\n",
       "      <td>-1.593875</td>\n",
       "      <td>-0.100652</td>\n",
       "    </tr>\n",
       "    <tr>\n",
       "      <th>4</th>\n",
       "      <td>-0.690622</td>\n",
       "      <td>-1.441210</td>\n",
       "      <td>0.272323</td>\n",
       "      <td>-0.887890</td>\n",
       "    </tr>\n",
       "    <tr>\n",
       "      <th>5</th>\n",
       "      <td>-0.662667</td>\n",
       "      <td>0.336728</td>\n",
       "      <td>-0.046616</td>\n",
       "      <td>-0.780930</td>\n",
       "    </tr>\n",
       "    <tr>\n",
       "      <th>6</th>\n",
       "      <td>0.764532</td>\n",
       "      <td>0.735590</td>\n",
       "      <td>1.775576</td>\n",
       "      <td>-0.656037</td>\n",
       "    </tr>\n",
       "    <tr>\n",
       "      <th>7</th>\n",
       "      <td>0.515949</td>\n",
       "      <td>0.303407</td>\n",
       "      <td>0.964286</td>\n",
       "      <td>-0.000358</td>\n",
       "    </tr>\n",
       "    <tr>\n",
       "      <th>8</th>\n",
       "      <td>1.513108</td>\n",
       "      <td>-1.602605</td>\n",
       "      <td>-1.599625</td>\n",
       "      <td>-0.359803</td>\n",
       "    </tr>\n",
       "    <tr>\n",
       "      <th>9</th>\n",
       "      <td>0.577292</td>\n",
       "      <td>0.988923</td>\n",
       "      <td>-0.299880</td>\n",
       "      <td>0.071776</td>\n",
       "    </tr>\n",
       "  </tbody>\n",
       "</table>\n",
       "</div>"
      ],
      "text/plain": [
       "          0         1         2         3\n",
       "0 -0.215509  0.417795  0.789034 -0.043536\n",
       "1 -0.195021 -2.021001 -0.322865 -0.284389\n",
       "2 -1.210955  0.580911 -0.933978  1.125562\n",
       "3  1.791491  2.567313 -1.593875 -0.100652\n",
       "4 -0.690622 -1.441210  0.272323 -0.887890\n",
       "5 -0.662667  0.336728 -0.046616 -0.780930\n",
       "6  0.764532  0.735590  1.775576 -0.656037\n",
       "7  0.515949  0.303407  0.964286 -0.000358\n",
       "8  1.513108 -1.602605 -1.599625 -0.359803\n",
       "9  0.577292  0.988923 -0.299880  0.071776"
      ]
     },
     "execution_count": 88,
     "metadata": {},
     "output_type": "execute_result"
    }
   ],
   "source": [
    "df = pd.DataFrame(np.random.randn(10, 4))\n",
    "df"
   ]
  },
  {
   "cell_type": "code",
   "execution_count": 89,
   "metadata": {},
   "outputs": [
    {
     "data": {
      "text/plain": [
       "[          0         1         2         3\n",
       " 0 -0.215509  0.417795  0.789034 -0.043536\n",
       " 1 -0.195021 -2.021001 -0.322865 -0.284389\n",
       " 2 -1.210955  0.580911 -0.933978  1.125562,\n",
       "           0         1         2         3\n",
       " 4 -0.690622 -1.441210  0.272323 -0.887890\n",
       " 5 -0.662667  0.336728 -0.046616 -0.780930\n",
       " 6  0.764532  0.735590  1.775576 -0.656037,\n",
       "           0         1         2         3\n",
       " 8  1.513108 -1.602605 -1.599625 -0.359803\n",
       " 9  0.577292  0.988923 -0.299880  0.071776]"
      ]
     },
     "execution_count": 89,
     "metadata": {},
     "output_type": "execute_result"
    }
   ],
   "source": [
    "pieces = [df[:3], df[4:7], df[8:]]\n",
    "pieces"
   ]
  },
  {
   "cell_type": "code",
   "execution_count": 90,
   "metadata": {
    "scrolled": true
   },
   "outputs": [
    {
     "data": {
      "text/html": [
       "<div>\n",
       "<style>\n",
       "    .dataframe thead tr:only-child th {\n",
       "        text-align: right;\n",
       "    }\n",
       "\n",
       "    .dataframe thead th {\n",
       "        text-align: left;\n",
       "    }\n",
       "\n",
       "    .dataframe tbody tr th {\n",
       "        vertical-align: top;\n",
       "    }\n",
       "</style>\n",
       "<table border=\"1\" class=\"dataframe\">\n",
       "  <thead>\n",
       "    <tr style=\"text-align: right;\">\n",
       "      <th></th>\n",
       "      <th>0</th>\n",
       "      <th>1</th>\n",
       "      <th>2</th>\n",
       "      <th>3</th>\n",
       "    </tr>\n",
       "  </thead>\n",
       "  <tbody>\n",
       "    <tr>\n",
       "      <th>0</th>\n",
       "      <td>-0.215509</td>\n",
       "      <td>0.417795</td>\n",
       "      <td>0.789034</td>\n",
       "      <td>-0.043536</td>\n",
       "    </tr>\n",
       "    <tr>\n",
       "      <th>1</th>\n",
       "      <td>-0.195021</td>\n",
       "      <td>-2.021001</td>\n",
       "      <td>-0.322865</td>\n",
       "      <td>-0.284389</td>\n",
       "    </tr>\n",
       "    <tr>\n",
       "      <th>2</th>\n",
       "      <td>-1.210955</td>\n",
       "      <td>0.580911</td>\n",
       "      <td>-0.933978</td>\n",
       "      <td>1.125562</td>\n",
       "    </tr>\n",
       "    <tr>\n",
       "      <th>4</th>\n",
       "      <td>-0.690622</td>\n",
       "      <td>-1.441210</td>\n",
       "      <td>0.272323</td>\n",
       "      <td>-0.887890</td>\n",
       "    </tr>\n",
       "    <tr>\n",
       "      <th>5</th>\n",
       "      <td>-0.662667</td>\n",
       "      <td>0.336728</td>\n",
       "      <td>-0.046616</td>\n",
       "      <td>-0.780930</td>\n",
       "    </tr>\n",
       "    <tr>\n",
       "      <th>6</th>\n",
       "      <td>0.764532</td>\n",
       "      <td>0.735590</td>\n",
       "      <td>1.775576</td>\n",
       "      <td>-0.656037</td>\n",
       "    </tr>\n",
       "    <tr>\n",
       "      <th>8</th>\n",
       "      <td>1.513108</td>\n",
       "      <td>-1.602605</td>\n",
       "      <td>-1.599625</td>\n",
       "      <td>-0.359803</td>\n",
       "    </tr>\n",
       "    <tr>\n",
       "      <th>9</th>\n",
       "      <td>0.577292</td>\n",
       "      <td>0.988923</td>\n",
       "      <td>-0.299880</td>\n",
       "      <td>0.071776</td>\n",
       "    </tr>\n",
       "  </tbody>\n",
       "</table>\n",
       "</div>"
      ],
      "text/plain": [
       "          0         1         2         3\n",
       "0 -0.215509  0.417795  0.789034 -0.043536\n",
       "1 -0.195021 -2.021001 -0.322865 -0.284389\n",
       "2 -1.210955  0.580911 -0.933978  1.125562\n",
       "4 -0.690622 -1.441210  0.272323 -0.887890\n",
       "5 -0.662667  0.336728 -0.046616 -0.780930\n",
       "6  0.764532  0.735590  1.775576 -0.656037\n",
       "8  1.513108 -1.602605 -1.599625 -0.359803\n",
       "9  0.577292  0.988923 -0.299880  0.071776"
      ]
     },
     "execution_count": 90,
     "metadata": {},
     "output_type": "execute_result"
    }
   ],
   "source": [
    "# 列合併, 類似R的 rbind\n",
    "pd.concat(pieces)"
   ]
  },
  {
   "cell_type": "code",
   "execution_count": 91,
   "metadata": {
    "collapsed": true
   },
   "outputs": [],
   "source": [
    "# 5.6.2 Join, 執行SQL join"
   ]
  },
  {
   "cell_type": "code",
   "execution_count": 92,
   "metadata": {
    "collapsed": true
   },
   "outputs": [],
   "source": [
    "# 範例 1\n",
    "left = pd.DataFrame({'key': ['foo', 'foo'], 'lval': [1, 2]})\n",
    "right = pd.DataFrame({'key': ['foo', 'foo'], 'rval': [4, 5]})"
   ]
  },
  {
   "cell_type": "code",
   "execution_count": 93,
   "metadata": {},
   "outputs": [
    {
     "data": {
      "text/html": [
       "<div>\n",
       "<style>\n",
       "    .dataframe thead tr:only-child th {\n",
       "        text-align: right;\n",
       "    }\n",
       "\n",
       "    .dataframe thead th {\n",
       "        text-align: left;\n",
       "    }\n",
       "\n",
       "    .dataframe tbody tr th {\n",
       "        vertical-align: top;\n",
       "    }\n",
       "</style>\n",
       "<table border=\"1\" class=\"dataframe\">\n",
       "  <thead>\n",
       "    <tr style=\"text-align: right;\">\n",
       "      <th></th>\n",
       "      <th>key</th>\n",
       "      <th>lval</th>\n",
       "    </tr>\n",
       "  </thead>\n",
       "  <tbody>\n",
       "    <tr>\n",
       "      <th>0</th>\n",
       "      <td>foo</td>\n",
       "      <td>1</td>\n",
       "    </tr>\n",
       "    <tr>\n",
       "      <th>1</th>\n",
       "      <td>foo</td>\n",
       "      <td>2</td>\n",
       "    </tr>\n",
       "  </tbody>\n",
       "</table>\n",
       "</div>"
      ],
      "text/plain": [
       "   key  lval\n",
       "0  foo     1\n",
       "1  foo     2"
      ]
     },
     "execution_count": 93,
     "metadata": {},
     "output_type": "execute_result"
    }
   ],
   "source": [
    "left"
   ]
  },
  {
   "cell_type": "code",
   "execution_count": 94,
   "metadata": {},
   "outputs": [
    {
     "data": {
      "text/html": [
       "<div>\n",
       "<style>\n",
       "    .dataframe thead tr:only-child th {\n",
       "        text-align: right;\n",
       "    }\n",
       "\n",
       "    .dataframe thead th {\n",
       "        text-align: left;\n",
       "    }\n",
       "\n",
       "    .dataframe tbody tr th {\n",
       "        vertical-align: top;\n",
       "    }\n",
       "</style>\n",
       "<table border=\"1\" class=\"dataframe\">\n",
       "  <thead>\n",
       "    <tr style=\"text-align: right;\">\n",
       "      <th></th>\n",
       "      <th>key</th>\n",
       "      <th>rval</th>\n",
       "    </tr>\n",
       "  </thead>\n",
       "  <tbody>\n",
       "    <tr>\n",
       "      <th>0</th>\n",
       "      <td>foo</td>\n",
       "      <td>4</td>\n",
       "    </tr>\n",
       "    <tr>\n",
       "      <th>1</th>\n",
       "      <td>foo</td>\n",
       "      <td>5</td>\n",
       "    </tr>\n",
       "  </tbody>\n",
       "</table>\n",
       "</div>"
      ],
      "text/plain": [
       "   key  rval\n",
       "0  foo     4\n",
       "1  foo     5"
      ]
     },
     "execution_count": 94,
     "metadata": {},
     "output_type": "execute_result"
    }
   ],
   "source": [
    "right"
   ]
  },
  {
   "cell_type": "code",
   "execution_count": 95,
   "metadata": {},
   "outputs": [
    {
     "data": {
      "text/html": [
       "<div>\n",
       "<style>\n",
       "    .dataframe thead tr:only-child th {\n",
       "        text-align: right;\n",
       "    }\n",
       "\n",
       "    .dataframe thead th {\n",
       "        text-align: left;\n",
       "    }\n",
       "\n",
       "    .dataframe tbody tr th {\n",
       "        vertical-align: top;\n",
       "    }\n",
       "</style>\n",
       "<table border=\"1\" class=\"dataframe\">\n",
       "  <thead>\n",
       "    <tr style=\"text-align: right;\">\n",
       "      <th></th>\n",
       "      <th>key</th>\n",
       "      <th>lval</th>\n",
       "      <th>rval</th>\n",
       "    </tr>\n",
       "  </thead>\n",
       "  <tbody>\n",
       "    <tr>\n",
       "      <th>0</th>\n",
       "      <td>foo</td>\n",
       "      <td>1</td>\n",
       "      <td>4</td>\n",
       "    </tr>\n",
       "    <tr>\n",
       "      <th>1</th>\n",
       "      <td>foo</td>\n",
       "      <td>1</td>\n",
       "      <td>5</td>\n",
       "    </tr>\n",
       "    <tr>\n",
       "      <th>2</th>\n",
       "      <td>foo</td>\n",
       "      <td>2</td>\n",
       "      <td>4</td>\n",
       "    </tr>\n",
       "    <tr>\n",
       "      <th>3</th>\n",
       "      <td>foo</td>\n",
       "      <td>2</td>\n",
       "      <td>5</td>\n",
       "    </tr>\n",
       "  </tbody>\n",
       "</table>\n",
       "</div>"
      ],
      "text/plain": [
       "   key  lval  rval\n",
       "0  foo     1     4\n",
       "1  foo     1     5\n",
       "2  foo     2     4\n",
       "3  foo     2     5"
      ]
     },
     "execution_count": 95,
     "metadata": {},
     "output_type": "execute_result"
    }
   ],
   "source": [
    "pd.merge(left, right, on='key')"
   ]
  },
  {
   "cell_type": "code",
   "execution_count": 96,
   "metadata": {
    "collapsed": true
   },
   "outputs": [],
   "source": [
    "# 範例 2\n",
    "left = pd.DataFrame({'key': ['foo', 'bar'], 'lval': [1, 2]})\n",
    "right = pd.DataFrame({'key': ['foo', 'bar'], 'rval': [4, 5]})"
   ]
  },
  {
   "cell_type": "code",
   "execution_count": 97,
   "metadata": {},
   "outputs": [
    {
     "data": {
      "text/html": [
       "<div>\n",
       "<style>\n",
       "    .dataframe thead tr:only-child th {\n",
       "        text-align: right;\n",
       "    }\n",
       "\n",
       "    .dataframe thead th {\n",
       "        text-align: left;\n",
       "    }\n",
       "\n",
       "    .dataframe tbody tr th {\n",
       "        vertical-align: top;\n",
       "    }\n",
       "</style>\n",
       "<table border=\"1\" class=\"dataframe\">\n",
       "  <thead>\n",
       "    <tr style=\"text-align: right;\">\n",
       "      <th></th>\n",
       "      <th>key</th>\n",
       "      <th>lval</th>\n",
       "    </tr>\n",
       "  </thead>\n",
       "  <tbody>\n",
       "    <tr>\n",
       "      <th>0</th>\n",
       "      <td>foo</td>\n",
       "      <td>1</td>\n",
       "    </tr>\n",
       "    <tr>\n",
       "      <th>1</th>\n",
       "      <td>bar</td>\n",
       "      <td>2</td>\n",
       "    </tr>\n",
       "  </tbody>\n",
       "</table>\n",
       "</div>"
      ],
      "text/plain": [
       "   key  lval\n",
       "0  foo     1\n",
       "1  bar     2"
      ]
     },
     "execution_count": 97,
     "metadata": {},
     "output_type": "execute_result"
    }
   ],
   "source": [
    "left"
   ]
  },
  {
   "cell_type": "code",
   "execution_count": 98,
   "metadata": {},
   "outputs": [
    {
     "data": {
      "text/html": [
       "<div>\n",
       "<style>\n",
       "    .dataframe thead tr:only-child th {\n",
       "        text-align: right;\n",
       "    }\n",
       "\n",
       "    .dataframe thead th {\n",
       "        text-align: left;\n",
       "    }\n",
       "\n",
       "    .dataframe tbody tr th {\n",
       "        vertical-align: top;\n",
       "    }\n",
       "</style>\n",
       "<table border=\"1\" class=\"dataframe\">\n",
       "  <thead>\n",
       "    <tr style=\"text-align: right;\">\n",
       "      <th></th>\n",
       "      <th>key</th>\n",
       "      <th>rval</th>\n",
       "    </tr>\n",
       "  </thead>\n",
       "  <tbody>\n",
       "    <tr>\n",
       "      <th>0</th>\n",
       "      <td>foo</td>\n",
       "      <td>4</td>\n",
       "    </tr>\n",
       "    <tr>\n",
       "      <th>1</th>\n",
       "      <td>bar</td>\n",
       "      <td>5</td>\n",
       "    </tr>\n",
       "  </tbody>\n",
       "</table>\n",
       "</div>"
      ],
      "text/plain": [
       "   key  rval\n",
       "0  foo     4\n",
       "1  bar     5"
      ]
     },
     "execution_count": 98,
     "metadata": {},
     "output_type": "execute_result"
    }
   ],
   "source": [
    "right"
   ]
  },
  {
   "cell_type": "code",
   "execution_count": 99,
   "metadata": {},
   "outputs": [
    {
     "data": {
      "text/html": [
       "<div>\n",
       "<style>\n",
       "    .dataframe thead tr:only-child th {\n",
       "        text-align: right;\n",
       "    }\n",
       "\n",
       "    .dataframe thead th {\n",
       "        text-align: left;\n",
       "    }\n",
       "\n",
       "    .dataframe tbody tr th {\n",
       "        vertical-align: top;\n",
       "    }\n",
       "</style>\n",
       "<table border=\"1\" class=\"dataframe\">\n",
       "  <thead>\n",
       "    <tr style=\"text-align: right;\">\n",
       "      <th></th>\n",
       "      <th>key</th>\n",
       "      <th>lval</th>\n",
       "      <th>rval</th>\n",
       "    </tr>\n",
       "  </thead>\n",
       "  <tbody>\n",
       "    <tr>\n",
       "      <th>0</th>\n",
       "      <td>foo</td>\n",
       "      <td>1</td>\n",
       "      <td>4</td>\n",
       "    </tr>\n",
       "    <tr>\n",
       "      <th>1</th>\n",
       "      <td>bar</td>\n",
       "      <td>2</td>\n",
       "      <td>5</td>\n",
       "    </tr>\n",
       "  </tbody>\n",
       "</table>\n",
       "</div>"
      ],
      "text/plain": [
       "   key  lval  rval\n",
       "0  foo     1     4\n",
       "1  bar     2     5"
      ]
     },
     "execution_count": 99,
     "metadata": {},
     "output_type": "execute_result"
    }
   ],
   "source": [
    "pd.merge(left, right, on='key')"
   ]
  },
  {
   "cell_type": "code",
   "execution_count": 100,
   "metadata": {
    "collapsed": true
   },
   "outputs": [],
   "source": [
    "# 5.6.3 Append 附加"
   ]
  },
  {
   "cell_type": "code",
   "execution_count": 101,
   "metadata": {},
   "outputs": [
    {
     "data": {
      "text/html": [
       "<div>\n",
       "<style>\n",
       "    .dataframe thead tr:only-child th {\n",
       "        text-align: right;\n",
       "    }\n",
       "\n",
       "    .dataframe thead th {\n",
       "        text-align: left;\n",
       "    }\n",
       "\n",
       "    .dataframe tbody tr th {\n",
       "        vertical-align: top;\n",
       "    }\n",
       "</style>\n",
       "<table border=\"1\" class=\"dataframe\">\n",
       "  <thead>\n",
       "    <tr style=\"text-align: right;\">\n",
       "      <th></th>\n",
       "      <th>A</th>\n",
       "      <th>B</th>\n",
       "      <th>C</th>\n",
       "      <th>D</th>\n",
       "    </tr>\n",
       "  </thead>\n",
       "  <tbody>\n",
       "    <tr>\n",
       "      <th>0</th>\n",
       "      <td>-0.364134</td>\n",
       "      <td>0.056509</td>\n",
       "      <td>0.170322</td>\n",
       "      <td>1.207889</td>\n",
       "    </tr>\n",
       "    <tr>\n",
       "      <th>1</th>\n",
       "      <td>-0.424444</td>\n",
       "      <td>-1.013397</td>\n",
       "      <td>0.892561</td>\n",
       "      <td>1.039707</td>\n",
       "    </tr>\n",
       "    <tr>\n",
       "      <th>2</th>\n",
       "      <td>-0.380774</td>\n",
       "      <td>-0.267094</td>\n",
       "      <td>0.242986</td>\n",
       "      <td>-1.445414</td>\n",
       "    </tr>\n",
       "    <tr>\n",
       "      <th>3</th>\n",
       "      <td>-0.366790</td>\n",
       "      <td>-1.505891</td>\n",
       "      <td>-1.342252</td>\n",
       "      <td>-2.447544</td>\n",
       "    </tr>\n",
       "    <tr>\n",
       "      <th>4</th>\n",
       "      <td>-0.003928</td>\n",
       "      <td>-0.186881</td>\n",
       "      <td>-0.978376</td>\n",
       "      <td>0.795876</td>\n",
       "    </tr>\n",
       "    <tr>\n",
       "      <th>5</th>\n",
       "      <td>-1.175802</td>\n",
       "      <td>-0.059690</td>\n",
       "      <td>-1.535292</td>\n",
       "      <td>0.681820</td>\n",
       "    </tr>\n",
       "    <tr>\n",
       "      <th>6</th>\n",
       "      <td>-0.703521</td>\n",
       "      <td>0.046707</td>\n",
       "      <td>3.224103</td>\n",
       "      <td>-0.881405</td>\n",
       "    </tr>\n",
       "    <tr>\n",
       "      <th>7</th>\n",
       "      <td>-1.031998</td>\n",
       "      <td>0.115154</td>\n",
       "      <td>-1.976058</td>\n",
       "      <td>2.505025</td>\n",
       "    </tr>\n",
       "  </tbody>\n",
       "</table>\n",
       "</div>"
      ],
      "text/plain": [
       "          A         B         C         D\n",
       "0 -0.364134  0.056509  0.170322  1.207889\n",
       "1 -0.424444 -1.013397  0.892561  1.039707\n",
       "2 -0.380774 -0.267094  0.242986 -1.445414\n",
       "3 -0.366790 -1.505891 -1.342252 -2.447544\n",
       "4 -0.003928 -0.186881 -0.978376  0.795876\n",
       "5 -1.175802 -0.059690 -1.535292  0.681820\n",
       "6 -0.703521  0.046707  3.224103 -0.881405\n",
       "7 -1.031998  0.115154 -1.976058  2.505025"
      ]
     },
     "execution_count": 101,
     "metadata": {},
     "output_type": "execute_result"
    }
   ],
   "source": [
    "df = pd.DataFrame(np.random.randn(8, 4), columns=['A','B','C','D'])\n",
    "df"
   ]
  },
  {
   "cell_type": "code",
   "execution_count": 102,
   "metadata": {},
   "outputs": [
    {
     "data": {
      "text/plain": [
       "A   -0.366790\n",
       "B   -1.505891\n",
       "C   -1.342252\n",
       "D   -2.447544\n",
       "Name: 3, dtype: float64"
      ]
     },
     "execution_count": 102,
     "metadata": {},
     "output_type": "execute_result"
    }
   ],
   "source": [
    "s = df.iloc[3]\n",
    "s"
   ]
  },
  {
   "cell_type": "code",
   "execution_count": 103,
   "metadata": {},
   "outputs": [
    {
     "data": {
      "text/html": [
       "<div>\n",
       "<style>\n",
       "    .dataframe thead tr:only-child th {\n",
       "        text-align: right;\n",
       "    }\n",
       "\n",
       "    .dataframe thead th {\n",
       "        text-align: left;\n",
       "    }\n",
       "\n",
       "    .dataframe tbody tr th {\n",
       "        vertical-align: top;\n",
       "    }\n",
       "</style>\n",
       "<table border=\"1\" class=\"dataframe\">\n",
       "  <thead>\n",
       "    <tr style=\"text-align: right;\">\n",
       "      <th></th>\n",
       "      <th>A</th>\n",
       "      <th>B</th>\n",
       "      <th>C</th>\n",
       "      <th>D</th>\n",
       "    </tr>\n",
       "  </thead>\n",
       "  <tbody>\n",
       "    <tr>\n",
       "      <th>0</th>\n",
       "      <td>-0.364134</td>\n",
       "      <td>0.056509</td>\n",
       "      <td>0.170322</td>\n",
       "      <td>1.207889</td>\n",
       "    </tr>\n",
       "    <tr>\n",
       "      <th>1</th>\n",
       "      <td>-0.424444</td>\n",
       "      <td>-1.013397</td>\n",
       "      <td>0.892561</td>\n",
       "      <td>1.039707</td>\n",
       "    </tr>\n",
       "    <tr>\n",
       "      <th>2</th>\n",
       "      <td>-0.380774</td>\n",
       "      <td>-0.267094</td>\n",
       "      <td>0.242986</td>\n",
       "      <td>-1.445414</td>\n",
       "    </tr>\n",
       "    <tr>\n",
       "      <th>3</th>\n",
       "      <td>-0.366790</td>\n",
       "      <td>-1.505891</td>\n",
       "      <td>-1.342252</td>\n",
       "      <td>-2.447544</td>\n",
       "    </tr>\n",
       "    <tr>\n",
       "      <th>4</th>\n",
       "      <td>-0.003928</td>\n",
       "      <td>-0.186881</td>\n",
       "      <td>-0.978376</td>\n",
       "      <td>0.795876</td>\n",
       "    </tr>\n",
       "    <tr>\n",
       "      <th>5</th>\n",
       "      <td>-1.175802</td>\n",
       "      <td>-0.059690</td>\n",
       "      <td>-1.535292</td>\n",
       "      <td>0.681820</td>\n",
       "    </tr>\n",
       "    <tr>\n",
       "      <th>6</th>\n",
       "      <td>-0.703521</td>\n",
       "      <td>0.046707</td>\n",
       "      <td>3.224103</td>\n",
       "      <td>-0.881405</td>\n",
       "    </tr>\n",
       "    <tr>\n",
       "      <th>7</th>\n",
       "      <td>-1.031998</td>\n",
       "      <td>0.115154</td>\n",
       "      <td>-1.976058</td>\n",
       "      <td>2.505025</td>\n",
       "    </tr>\n",
       "    <tr>\n",
       "      <th>8</th>\n",
       "      <td>-0.366790</td>\n",
       "      <td>-1.505891</td>\n",
       "      <td>-1.342252</td>\n",
       "      <td>-2.447544</td>\n",
       "    </tr>\n",
       "  </tbody>\n",
       "</table>\n",
       "</div>"
      ],
      "text/plain": [
       "          A         B         C         D\n",
       "0 -0.364134  0.056509  0.170322  1.207889\n",
       "1 -0.424444 -1.013397  0.892561  1.039707\n",
       "2 -0.380774 -0.267094  0.242986 -1.445414\n",
       "3 -0.366790 -1.505891 -1.342252 -2.447544\n",
       "4 -0.003928 -0.186881 -0.978376  0.795876\n",
       "5 -1.175802 -0.059690 -1.535292  0.681820\n",
       "6 -0.703521  0.046707  3.224103 -0.881405\n",
       "7 -1.031998  0.115154 -1.976058  2.505025\n",
       "8 -0.366790 -1.505891 -1.342252 -2.447544"
      ]
     },
     "execution_count": 103,
     "metadata": {},
     "output_type": "execute_result"
    }
   ],
   "source": [
    "df.append(s, ignore_index=True)"
   ]
  },
  {
   "cell_type": "markdown",
   "metadata": {},
   "source": [
    "# 5.7 Grouping 群組計算"
   ]
  },
  {
   "cell_type": "code",
   "execution_count": 104,
   "metadata": {
    "collapsed": true
   },
   "outputs": [],
   "source": [
    "df = pd.DataFrame({\n",
    "    'A' : ['foo', 'bar', 'foo', 'bar', 'foo', 'bar', 'foo', 'foo'],\n",
    "    'B' : ['one', 'one', 'two', 'three', 'two', 'two', 'one', 'three'],\n",
    "    'C' : np.random.randn(8),\n",
    "    'D' : np.random.randn(8)})"
   ]
  },
  {
   "cell_type": "code",
   "execution_count": 105,
   "metadata": {},
   "outputs": [
    {
     "data": {
      "text/html": [
       "<div>\n",
       "<style>\n",
       "    .dataframe thead tr:only-child th {\n",
       "        text-align: right;\n",
       "    }\n",
       "\n",
       "    .dataframe thead th {\n",
       "        text-align: left;\n",
       "    }\n",
       "\n",
       "    .dataframe tbody tr th {\n",
       "        vertical-align: top;\n",
       "    }\n",
       "</style>\n",
       "<table border=\"1\" class=\"dataframe\">\n",
       "  <thead>\n",
       "    <tr style=\"text-align: right;\">\n",
       "      <th></th>\n",
       "      <th>A</th>\n",
       "      <th>B</th>\n",
       "      <th>C</th>\n",
       "      <th>D</th>\n",
       "    </tr>\n",
       "  </thead>\n",
       "  <tbody>\n",
       "    <tr>\n",
       "      <th>0</th>\n",
       "      <td>foo</td>\n",
       "      <td>one</td>\n",
       "      <td>-0.301313</td>\n",
       "      <td>-2.612133</td>\n",
       "    </tr>\n",
       "    <tr>\n",
       "      <th>1</th>\n",
       "      <td>bar</td>\n",
       "      <td>one</td>\n",
       "      <td>-0.080906</td>\n",
       "      <td>0.163441</td>\n",
       "    </tr>\n",
       "    <tr>\n",
       "      <th>2</th>\n",
       "      <td>foo</td>\n",
       "      <td>two</td>\n",
       "      <td>-1.399412</td>\n",
       "      <td>-0.569261</td>\n",
       "    </tr>\n",
       "    <tr>\n",
       "      <th>3</th>\n",
       "      <td>bar</td>\n",
       "      <td>three</td>\n",
       "      <td>0.178976</td>\n",
       "      <td>0.425882</td>\n",
       "    </tr>\n",
       "    <tr>\n",
       "      <th>4</th>\n",
       "      <td>foo</td>\n",
       "      <td>two</td>\n",
       "      <td>-1.036691</td>\n",
       "      <td>0.028090</td>\n",
       "    </tr>\n",
       "    <tr>\n",
       "      <th>5</th>\n",
       "      <td>bar</td>\n",
       "      <td>two</td>\n",
       "      <td>1.558722</td>\n",
       "      <td>-1.404699</td>\n",
       "    </tr>\n",
       "    <tr>\n",
       "      <th>6</th>\n",
       "      <td>foo</td>\n",
       "      <td>one</td>\n",
       "      <td>1.307133</td>\n",
       "      <td>-0.574484</td>\n",
       "    </tr>\n",
       "    <tr>\n",
       "      <th>7</th>\n",
       "      <td>foo</td>\n",
       "      <td>three</td>\n",
       "      <td>0.075818</td>\n",
       "      <td>1.001239</td>\n",
       "    </tr>\n",
       "  </tbody>\n",
       "</table>\n",
       "</div>"
      ],
      "text/plain": [
       "     A      B         C         D\n",
       "0  foo    one -0.301313 -2.612133\n",
       "1  bar    one -0.080906  0.163441\n",
       "2  foo    two -1.399412 -0.569261\n",
       "3  bar  three  0.178976  0.425882\n",
       "4  foo    two -1.036691  0.028090\n",
       "5  bar    two  1.558722 -1.404699\n",
       "6  foo    one  1.307133 -0.574484\n",
       "7  foo  three  0.075818  1.001239"
      ]
     },
     "execution_count": 105,
     "metadata": {},
     "output_type": "execute_result"
    }
   ],
   "source": [
    "df"
   ]
  },
  {
   "cell_type": "code",
   "execution_count": 106,
   "metadata": {},
   "outputs": [
    {
     "data": {
      "text/html": [
       "<div>\n",
       "<style>\n",
       "    .dataframe thead tr:only-child th {\n",
       "        text-align: right;\n",
       "    }\n",
       "\n",
       "    .dataframe thead th {\n",
       "        text-align: left;\n",
       "    }\n",
       "\n",
       "    .dataframe tbody tr th {\n",
       "        vertical-align: top;\n",
       "    }\n",
       "</style>\n",
       "<table border=\"1\" class=\"dataframe\">\n",
       "  <thead>\n",
       "    <tr style=\"text-align: right;\">\n",
       "      <th></th>\n",
       "      <th>C</th>\n",
       "      <th>D</th>\n",
       "    </tr>\n",
       "    <tr>\n",
       "      <th>A</th>\n",
       "      <th></th>\n",
       "      <th></th>\n",
       "    </tr>\n",
       "  </thead>\n",
       "  <tbody>\n",
       "    <tr>\n",
       "      <th>bar</th>\n",
       "      <td>1.656792</td>\n",
       "      <td>-0.815376</td>\n",
       "    </tr>\n",
       "    <tr>\n",
       "      <th>foo</th>\n",
       "      <td>-1.354465</td>\n",
       "      <td>-2.726549</td>\n",
       "    </tr>\n",
       "  </tbody>\n",
       "</table>\n",
       "</div>"
      ],
      "text/plain": [
       "            C         D\n",
       "A                      \n",
       "bar  1.656792 -0.815376\n",
       "foo -1.354465 -2.726549"
      ]
     },
     "execution_count": 106,
     "metadata": {},
     "output_type": "execute_result"
    }
   ],
   "source": [
    "df.groupby('A').sum() # 類似 R- aggregate"
   ]
  },
  {
   "cell_type": "code",
   "execution_count": 107,
   "metadata": {},
   "outputs": [
    {
     "data": {
      "text/html": [
       "<div>\n",
       "<style>\n",
       "    .dataframe thead tr:only-child th {\n",
       "        text-align: right;\n",
       "    }\n",
       "\n",
       "    .dataframe thead th {\n",
       "        text-align: left;\n",
       "    }\n",
       "\n",
       "    .dataframe tbody tr th {\n",
       "        vertical-align: top;\n",
       "    }\n",
       "</style>\n",
       "<table border=\"1\" class=\"dataframe\">\n",
       "  <thead>\n",
       "    <tr style=\"text-align: right;\">\n",
       "      <th></th>\n",
       "      <th></th>\n",
       "      <th>C</th>\n",
       "      <th>D</th>\n",
       "    </tr>\n",
       "    <tr>\n",
       "      <th>A</th>\n",
       "      <th>B</th>\n",
       "      <th></th>\n",
       "      <th></th>\n",
       "    </tr>\n",
       "  </thead>\n",
       "  <tbody>\n",
       "    <tr>\n",
       "      <th rowspan=\"3\" valign=\"top\">bar</th>\n",
       "      <th>one</th>\n",
       "      <td>-0.080906</td>\n",
       "      <td>0.163441</td>\n",
       "    </tr>\n",
       "    <tr>\n",
       "      <th>three</th>\n",
       "      <td>0.178976</td>\n",
       "      <td>0.425882</td>\n",
       "    </tr>\n",
       "    <tr>\n",
       "      <th>two</th>\n",
       "      <td>1.558722</td>\n",
       "      <td>-1.404699</td>\n",
       "    </tr>\n",
       "    <tr>\n",
       "      <th rowspan=\"3\" valign=\"top\">foo</th>\n",
       "      <th>one</th>\n",
       "      <td>1.005820</td>\n",
       "      <td>-3.186617</td>\n",
       "    </tr>\n",
       "    <tr>\n",
       "      <th>three</th>\n",
       "      <td>0.075818</td>\n",
       "      <td>1.001239</td>\n",
       "    </tr>\n",
       "    <tr>\n",
       "      <th>two</th>\n",
       "      <td>-2.436103</td>\n",
       "      <td>-0.541171</td>\n",
       "    </tr>\n",
       "  </tbody>\n",
       "</table>\n",
       "</div>"
      ],
      "text/plain": [
       "                  C         D\n",
       "A   B                        \n",
       "bar one   -0.080906  0.163441\n",
       "    three  0.178976  0.425882\n",
       "    two    1.558722 -1.404699\n",
       "foo one    1.005820 -3.186617\n",
       "    three  0.075818  1.001239\n",
       "    two   -2.436103 -0.541171"
      ]
     },
     "execution_count": 107,
     "metadata": {},
     "output_type": "execute_result"
    }
   ],
   "source": [
    "df.groupby(['A','B']).sum()"
   ]
  },
  {
   "cell_type": "markdown",
   "metadata": {},
   "source": [
    "# 5.8 Reshaping 改變形狀(維度)"
   ]
  },
  {
   "cell_type": "code",
   "execution_count": 108,
   "metadata": {
    "collapsed": true
   },
   "outputs": [],
   "source": [
    "# 5.8.1 Stack"
   ]
  },
  {
   "cell_type": "code",
   "execution_count": 109,
   "metadata": {},
   "outputs": [
    {
     "data": {
      "text/plain": [
       "[('bar', 'one'),\n",
       " ('bar', 'two'),\n",
       " ('baz', 'one'),\n",
       " ('baz', 'two'),\n",
       " ('foo', 'one'),\n",
       " ('foo', 'two'),\n",
       " ('qux', 'one'),\n",
       " ('qux', 'two')]"
      ]
     },
     "execution_count": 109,
     "metadata": {},
     "output_type": "execute_result"
    }
   ],
   "source": [
    "tuples = list(zip(*[['bar', 'bar', 'baz', 'baz', 'foo', 'foo', 'qux', 'qux'],\n",
    "                    ['one', 'two', 'one', 'two', 'one', 'two', 'one', 'two']]))\n",
    "tuples"
   ]
  },
  {
   "cell_type": "code",
   "execution_count": 110,
   "metadata": {},
   "outputs": [
    {
     "data": {
      "text/plain": [
       "MultiIndex(levels=[['bar', 'baz', 'foo', 'qux'], ['one', 'two']],\n",
       "           labels=[[0, 0, 1, 1, 2, 2, 3, 3], [0, 1, 0, 1, 0, 1, 0, 1]],\n",
       "           names=['first', 'second'])"
      ]
     },
     "execution_count": 110,
     "metadata": {},
     "output_type": "execute_result"
    }
   ],
   "source": [
    "index = pd.MultiIndex.from_tuples(tuples, names=['first', 'second'])\n",
    "index"
   ]
  },
  {
   "cell_type": "code",
   "execution_count": 111,
   "metadata": {},
   "outputs": [
    {
     "data": {
      "text/html": [
       "<div>\n",
       "<style>\n",
       "    .dataframe thead tr:only-child th {\n",
       "        text-align: right;\n",
       "    }\n",
       "\n",
       "    .dataframe thead th {\n",
       "        text-align: left;\n",
       "    }\n",
       "\n",
       "    .dataframe tbody tr th {\n",
       "        vertical-align: top;\n",
       "    }\n",
       "</style>\n",
       "<table border=\"1\" class=\"dataframe\">\n",
       "  <thead>\n",
       "    <tr style=\"text-align: right;\">\n",
       "      <th></th>\n",
       "      <th></th>\n",
       "      <th>A</th>\n",
       "      <th>B</th>\n",
       "    </tr>\n",
       "    <tr>\n",
       "      <th>first</th>\n",
       "      <th>second</th>\n",
       "      <th></th>\n",
       "      <th></th>\n",
       "    </tr>\n",
       "  </thead>\n",
       "  <tbody>\n",
       "    <tr>\n",
       "      <th rowspan=\"2\" valign=\"top\">bar</th>\n",
       "      <th>one</th>\n",
       "      <td>0.340321</td>\n",
       "      <td>-0.191217</td>\n",
       "    </tr>\n",
       "    <tr>\n",
       "      <th>two</th>\n",
       "      <td>-0.103947</td>\n",
       "      <td>0.831397</td>\n",
       "    </tr>\n",
       "    <tr>\n",
       "      <th rowspan=\"2\" valign=\"top\">baz</th>\n",
       "      <th>one</th>\n",
       "      <td>0.379013</td>\n",
       "      <td>0.353713</td>\n",
       "    </tr>\n",
       "    <tr>\n",
       "      <th>two</th>\n",
       "      <td>-0.156503</td>\n",
       "      <td>-1.409973</td>\n",
       "    </tr>\n",
       "    <tr>\n",
       "      <th rowspan=\"2\" valign=\"top\">foo</th>\n",
       "      <th>one</th>\n",
       "      <td>0.723452</td>\n",
       "      <td>-1.009462</td>\n",
       "    </tr>\n",
       "    <tr>\n",
       "      <th>two</th>\n",
       "      <td>-1.353442</td>\n",
       "      <td>-0.401860</td>\n",
       "    </tr>\n",
       "    <tr>\n",
       "      <th rowspan=\"2\" valign=\"top\">qux</th>\n",
       "      <th>one</th>\n",
       "      <td>1.014253</td>\n",
       "      <td>-0.351062</td>\n",
       "    </tr>\n",
       "    <tr>\n",
       "      <th>two</th>\n",
       "      <td>1.446999</td>\n",
       "      <td>-0.336425</td>\n",
       "    </tr>\n",
       "  </tbody>\n",
       "</table>\n",
       "</div>"
      ],
      "text/plain": [
       "                     A         B\n",
       "first second                    \n",
       "bar   one     0.340321 -0.191217\n",
       "      two    -0.103947  0.831397\n",
       "baz   one     0.379013  0.353713\n",
       "      two    -0.156503 -1.409973\n",
       "foo   one     0.723452 -1.009462\n",
       "      two    -1.353442 -0.401860\n",
       "qux   one     1.014253 -0.351062\n",
       "      two     1.446999 -0.336425"
      ]
     },
     "execution_count": 111,
     "metadata": {},
     "output_type": "execute_result"
    }
   ],
   "source": [
    "df = pd.DataFrame(np.random.randn(8, 2), index=index, columns=['A', 'B'])\n",
    "df"
   ]
  },
  {
   "cell_type": "code",
   "execution_count": 112,
   "metadata": {},
   "outputs": [
    {
     "data": {
      "text/html": [
       "<div>\n",
       "<style>\n",
       "    .dataframe thead tr:only-child th {\n",
       "        text-align: right;\n",
       "    }\n",
       "\n",
       "    .dataframe thead th {\n",
       "        text-align: left;\n",
       "    }\n",
       "\n",
       "    .dataframe tbody tr th {\n",
       "        vertical-align: top;\n",
       "    }\n",
       "</style>\n",
       "<table border=\"1\" class=\"dataframe\">\n",
       "  <thead>\n",
       "    <tr style=\"text-align: right;\">\n",
       "      <th></th>\n",
       "      <th></th>\n",
       "      <th>A</th>\n",
       "      <th>B</th>\n",
       "    </tr>\n",
       "    <tr>\n",
       "      <th>first</th>\n",
       "      <th>second</th>\n",
       "      <th></th>\n",
       "      <th></th>\n",
       "    </tr>\n",
       "  </thead>\n",
       "  <tbody>\n",
       "    <tr>\n",
       "      <th rowspan=\"2\" valign=\"top\">bar</th>\n",
       "      <th>one</th>\n",
       "      <td>0.340321</td>\n",
       "      <td>-0.191217</td>\n",
       "    </tr>\n",
       "    <tr>\n",
       "      <th>two</th>\n",
       "      <td>-0.103947</td>\n",
       "      <td>0.831397</td>\n",
       "    </tr>\n",
       "    <tr>\n",
       "      <th rowspan=\"2\" valign=\"top\">baz</th>\n",
       "      <th>one</th>\n",
       "      <td>0.379013</td>\n",
       "      <td>0.353713</td>\n",
       "    </tr>\n",
       "    <tr>\n",
       "      <th>two</th>\n",
       "      <td>-0.156503</td>\n",
       "      <td>-1.409973</td>\n",
       "    </tr>\n",
       "  </tbody>\n",
       "</table>\n",
       "</div>"
      ],
      "text/plain": [
       "                     A         B\n",
       "first second                    \n",
       "bar   one     0.340321 -0.191217\n",
       "      two    -0.103947  0.831397\n",
       "baz   one     0.379013  0.353713\n",
       "      two    -0.156503 -1.409973"
      ]
     },
     "execution_count": 112,
     "metadata": {},
     "output_type": "execute_result"
    }
   ],
   "source": [
    "df2 = df[:4]\n",
    "df2"
   ]
  },
  {
   "cell_type": "code",
   "execution_count": 113,
   "metadata": {},
   "outputs": [
    {
     "data": {
      "text/plain": [
       "first  second   \n",
       "bar    one     A    0.340321\n",
       "               B   -0.191217\n",
       "       two     A   -0.103947\n",
       "               B    0.831397\n",
       "baz    one     A    0.379013\n",
       "               B    0.353713\n",
       "       two     A   -0.156503\n",
       "               B   -1.409973\n",
       "dtype: float64"
      ]
     },
     "execution_count": 113,
     "metadata": {},
     "output_type": "execute_result"
    }
   ],
   "source": [
    "# 類似 R - reshape2 套件\n",
    "stacked = df2.stack()\n",
    "stacked"
   ]
  },
  {
   "cell_type": "code",
   "execution_count": 114,
   "metadata": {},
   "outputs": [
    {
     "data": {
      "text/html": [
       "<div>\n",
       "<style>\n",
       "    .dataframe thead tr:only-child th {\n",
       "        text-align: right;\n",
       "    }\n",
       "\n",
       "    .dataframe thead th {\n",
       "        text-align: left;\n",
       "    }\n",
       "\n",
       "    .dataframe tbody tr th {\n",
       "        vertical-align: top;\n",
       "    }\n",
       "</style>\n",
       "<table border=\"1\" class=\"dataframe\">\n",
       "  <thead>\n",
       "    <tr style=\"text-align: right;\">\n",
       "      <th></th>\n",
       "      <th></th>\n",
       "      <th>A</th>\n",
       "      <th>B</th>\n",
       "    </tr>\n",
       "    <tr>\n",
       "      <th>first</th>\n",
       "      <th>second</th>\n",
       "      <th></th>\n",
       "      <th></th>\n",
       "    </tr>\n",
       "  </thead>\n",
       "  <tbody>\n",
       "    <tr>\n",
       "      <th rowspan=\"2\" valign=\"top\">bar</th>\n",
       "      <th>one</th>\n",
       "      <td>0.340321</td>\n",
       "      <td>-0.191217</td>\n",
       "    </tr>\n",
       "    <tr>\n",
       "      <th>two</th>\n",
       "      <td>-0.103947</td>\n",
       "      <td>0.831397</td>\n",
       "    </tr>\n",
       "    <tr>\n",
       "      <th rowspan=\"2\" valign=\"top\">baz</th>\n",
       "      <th>one</th>\n",
       "      <td>0.379013</td>\n",
       "      <td>0.353713</td>\n",
       "    </tr>\n",
       "    <tr>\n",
       "      <th>two</th>\n",
       "      <td>-0.156503</td>\n",
       "      <td>-1.409973</td>\n",
       "    </tr>\n",
       "  </tbody>\n",
       "</table>\n",
       "</div>"
      ],
      "text/plain": [
       "                     A         B\n",
       "first second                    \n",
       "bar   one     0.340321 -0.191217\n",
       "      two    -0.103947  0.831397\n",
       "baz   one     0.379013  0.353713\n",
       "      two    -0.156503 -1.409973"
      ]
     },
     "execution_count": 114,
     "metadata": {},
     "output_type": "execute_result"
    }
   ],
   "source": [
    "stacked.unstack()"
   ]
  },
  {
   "cell_type": "code",
   "execution_count": 115,
   "metadata": {},
   "outputs": [
    {
     "data": {
      "text/html": [
       "<div>\n",
       "<style>\n",
       "    .dataframe thead tr:only-child th {\n",
       "        text-align: right;\n",
       "    }\n",
       "\n",
       "    .dataframe thead th {\n",
       "        text-align: left;\n",
       "    }\n",
       "\n",
       "    .dataframe tbody tr th {\n",
       "        vertical-align: top;\n",
       "    }\n",
       "</style>\n",
       "<table border=\"1\" class=\"dataframe\">\n",
       "  <thead>\n",
       "    <tr style=\"text-align: right;\">\n",
       "      <th></th>\n",
       "      <th>second</th>\n",
       "      <th>one</th>\n",
       "      <th>two</th>\n",
       "    </tr>\n",
       "    <tr>\n",
       "      <th>first</th>\n",
       "      <th></th>\n",
       "      <th></th>\n",
       "      <th></th>\n",
       "    </tr>\n",
       "  </thead>\n",
       "  <tbody>\n",
       "    <tr>\n",
       "      <th rowspan=\"2\" valign=\"top\">bar</th>\n",
       "      <th>A</th>\n",
       "      <td>0.340321</td>\n",
       "      <td>-0.103947</td>\n",
       "    </tr>\n",
       "    <tr>\n",
       "      <th>B</th>\n",
       "      <td>-0.191217</td>\n",
       "      <td>0.831397</td>\n",
       "    </tr>\n",
       "    <tr>\n",
       "      <th rowspan=\"2\" valign=\"top\">baz</th>\n",
       "      <th>A</th>\n",
       "      <td>0.379013</td>\n",
       "      <td>-0.156503</td>\n",
       "    </tr>\n",
       "    <tr>\n",
       "      <th>B</th>\n",
       "      <td>0.353713</td>\n",
       "      <td>-1.409973</td>\n",
       "    </tr>\n",
       "  </tbody>\n",
       "</table>\n",
       "</div>"
      ],
      "text/plain": [
       "second        one       two\n",
       "first                      \n",
       "bar   A  0.340321 -0.103947\n",
       "      B -0.191217  0.831397\n",
       "baz   A  0.379013 -0.156503\n",
       "      B  0.353713 -1.409973"
      ]
     },
     "execution_count": 115,
     "metadata": {},
     "output_type": "execute_result"
    }
   ],
   "source": [
    "stacked.unstack(1)"
   ]
  },
  {
   "cell_type": "code",
   "execution_count": 116,
   "metadata": {},
   "outputs": [
    {
     "data": {
      "text/html": [
       "<div>\n",
       "<style>\n",
       "    .dataframe thead tr:only-child th {\n",
       "        text-align: right;\n",
       "    }\n",
       "\n",
       "    .dataframe thead th {\n",
       "        text-align: left;\n",
       "    }\n",
       "\n",
       "    .dataframe tbody tr th {\n",
       "        vertical-align: top;\n",
       "    }\n",
       "</style>\n",
       "<table border=\"1\" class=\"dataframe\">\n",
       "  <thead>\n",
       "    <tr style=\"text-align: right;\">\n",
       "      <th></th>\n",
       "      <th>first</th>\n",
       "      <th>bar</th>\n",
       "      <th>baz</th>\n",
       "    </tr>\n",
       "    <tr>\n",
       "      <th>second</th>\n",
       "      <th></th>\n",
       "      <th></th>\n",
       "      <th></th>\n",
       "    </tr>\n",
       "  </thead>\n",
       "  <tbody>\n",
       "    <tr>\n",
       "      <th rowspan=\"2\" valign=\"top\">one</th>\n",
       "      <th>A</th>\n",
       "      <td>0.340321</td>\n",
       "      <td>0.379013</td>\n",
       "    </tr>\n",
       "    <tr>\n",
       "      <th>B</th>\n",
       "      <td>-0.191217</td>\n",
       "      <td>0.353713</td>\n",
       "    </tr>\n",
       "    <tr>\n",
       "      <th rowspan=\"2\" valign=\"top\">two</th>\n",
       "      <th>A</th>\n",
       "      <td>-0.103947</td>\n",
       "      <td>-0.156503</td>\n",
       "    </tr>\n",
       "    <tr>\n",
       "      <th>B</th>\n",
       "      <td>0.831397</td>\n",
       "      <td>-1.409973</td>\n",
       "    </tr>\n",
       "  </tbody>\n",
       "</table>\n",
       "</div>"
      ],
      "text/plain": [
       "first          bar       baz\n",
       "second                      \n",
       "one    A  0.340321  0.379013\n",
       "       B -0.191217  0.353713\n",
       "two    A -0.103947 -0.156503\n",
       "       B  0.831397 -1.409973"
      ]
     },
     "execution_count": 116,
     "metadata": {},
     "output_type": "execute_result"
    }
   ],
   "source": [
    "stacked.unstack(0)"
   ]
  },
  {
   "cell_type": "code",
   "execution_count": 117,
   "metadata": {
    "collapsed": true
   },
   "outputs": [],
   "source": [
    "# 5.8.2 Pivot Tables"
   ]
  },
  {
   "cell_type": "code",
   "execution_count": 118,
   "metadata": {
    "collapsed": true
   },
   "outputs": [],
   "source": [
    "df = pd.DataFrame({'A' : ['one', 'one', 'two', 'three'] * 3,\n",
    " 'B' : ['A', 'B', 'C'] * 4,\n",
    " 'C' : ['foo', 'foo', 'foo', 'bar', 'bar', 'bar'] * 2,\n",
    " 'D' : np.random.randn(12),\n",
    " 'E' : np.random.randn(12)})"
   ]
  },
  {
   "cell_type": "code",
   "execution_count": 119,
   "metadata": {},
   "outputs": [
    {
     "data": {
      "text/html": [
       "<div>\n",
       "<style>\n",
       "    .dataframe thead tr:only-child th {\n",
       "        text-align: right;\n",
       "    }\n",
       "\n",
       "    .dataframe thead th {\n",
       "        text-align: left;\n",
       "    }\n",
       "\n",
       "    .dataframe tbody tr th {\n",
       "        vertical-align: top;\n",
       "    }\n",
       "</style>\n",
       "<table border=\"1\" class=\"dataframe\">\n",
       "  <thead>\n",
       "    <tr style=\"text-align: right;\">\n",
       "      <th></th>\n",
       "      <th>A</th>\n",
       "      <th>B</th>\n",
       "      <th>C</th>\n",
       "      <th>D</th>\n",
       "      <th>E</th>\n",
       "    </tr>\n",
       "  </thead>\n",
       "  <tbody>\n",
       "    <tr>\n",
       "      <th>0</th>\n",
       "      <td>one</td>\n",
       "      <td>A</td>\n",
       "      <td>foo</td>\n",
       "      <td>-0.269688</td>\n",
       "      <td>-1.392674</td>\n",
       "    </tr>\n",
       "    <tr>\n",
       "      <th>1</th>\n",
       "      <td>one</td>\n",
       "      <td>B</td>\n",
       "      <td>foo</td>\n",
       "      <td>0.533017</td>\n",
       "      <td>-0.289428</td>\n",
       "    </tr>\n",
       "    <tr>\n",
       "      <th>2</th>\n",
       "      <td>two</td>\n",
       "      <td>C</td>\n",
       "      <td>foo</td>\n",
       "      <td>-0.121418</td>\n",
       "      <td>0.071261</td>\n",
       "    </tr>\n",
       "    <tr>\n",
       "      <th>3</th>\n",
       "      <td>three</td>\n",
       "      <td>A</td>\n",
       "      <td>bar</td>\n",
       "      <td>0.670471</td>\n",
       "      <td>-1.967208</td>\n",
       "    </tr>\n",
       "    <tr>\n",
       "      <th>4</th>\n",
       "      <td>one</td>\n",
       "      <td>B</td>\n",
       "      <td>bar</td>\n",
       "      <td>0.320224</td>\n",
       "      <td>-1.265239</td>\n",
       "    </tr>\n",
       "    <tr>\n",
       "      <th>5</th>\n",
       "      <td>one</td>\n",
       "      <td>C</td>\n",
       "      <td>bar</td>\n",
       "      <td>-2.022182</td>\n",
       "      <td>-0.575597</td>\n",
       "    </tr>\n",
       "    <tr>\n",
       "      <th>6</th>\n",
       "      <td>two</td>\n",
       "      <td>A</td>\n",
       "      <td>foo</td>\n",
       "      <td>0.552200</td>\n",
       "      <td>-1.194752</td>\n",
       "    </tr>\n",
       "    <tr>\n",
       "      <th>7</th>\n",
       "      <td>three</td>\n",
       "      <td>B</td>\n",
       "      <td>foo</td>\n",
       "      <td>0.230330</td>\n",
       "      <td>2.167130</td>\n",
       "    </tr>\n",
       "    <tr>\n",
       "      <th>8</th>\n",
       "      <td>one</td>\n",
       "      <td>C</td>\n",
       "      <td>foo</td>\n",
       "      <td>1.041621</td>\n",
       "      <td>1.141510</td>\n",
       "    </tr>\n",
       "    <tr>\n",
       "      <th>9</th>\n",
       "      <td>one</td>\n",
       "      <td>A</td>\n",
       "      <td>bar</td>\n",
       "      <td>-0.517706</td>\n",
       "      <td>0.611105</td>\n",
       "    </tr>\n",
       "    <tr>\n",
       "      <th>10</th>\n",
       "      <td>two</td>\n",
       "      <td>B</td>\n",
       "      <td>bar</td>\n",
       "      <td>2.486886</td>\n",
       "      <td>-0.129501</td>\n",
       "    </tr>\n",
       "    <tr>\n",
       "      <th>11</th>\n",
       "      <td>three</td>\n",
       "      <td>C</td>\n",
       "      <td>bar</td>\n",
       "      <td>0.167035</td>\n",
       "      <td>1.385677</td>\n",
       "    </tr>\n",
       "  </tbody>\n",
       "</table>\n",
       "</div>"
      ],
      "text/plain": [
       "        A  B    C         D         E\n",
       "0     one  A  foo -0.269688 -1.392674\n",
       "1     one  B  foo  0.533017 -0.289428\n",
       "2     two  C  foo -0.121418  0.071261\n",
       "3   three  A  bar  0.670471 -1.967208\n",
       "4     one  B  bar  0.320224 -1.265239\n",
       "5     one  C  bar -2.022182 -0.575597\n",
       "6     two  A  foo  0.552200 -1.194752\n",
       "7   three  B  foo  0.230330  2.167130\n",
       "8     one  C  foo  1.041621  1.141510\n",
       "9     one  A  bar -0.517706  0.611105\n",
       "10    two  B  bar  2.486886 -0.129501\n",
       "11  three  C  bar  0.167035  1.385677"
      ]
     },
     "execution_count": 119,
     "metadata": {},
     "output_type": "execute_result"
    }
   ],
   "source": [
    "df"
   ]
  },
  {
   "cell_type": "code",
   "execution_count": 120,
   "metadata": {},
   "outputs": [
    {
     "data": {
      "text/html": [
       "<div>\n",
       "<style>\n",
       "    .dataframe thead tr:only-child th {\n",
       "        text-align: right;\n",
       "    }\n",
       "\n",
       "    .dataframe thead th {\n",
       "        text-align: left;\n",
       "    }\n",
       "\n",
       "    .dataframe tbody tr th {\n",
       "        vertical-align: top;\n",
       "    }\n",
       "</style>\n",
       "<table border=\"1\" class=\"dataframe\">\n",
       "  <thead>\n",
       "    <tr style=\"text-align: right;\">\n",
       "      <th></th>\n",
       "      <th>C</th>\n",
       "      <th>bar</th>\n",
       "      <th>foo</th>\n",
       "    </tr>\n",
       "    <tr>\n",
       "      <th>A</th>\n",
       "      <th>B</th>\n",
       "      <th></th>\n",
       "      <th></th>\n",
       "    </tr>\n",
       "  </thead>\n",
       "  <tbody>\n",
       "    <tr>\n",
       "      <th rowspan=\"3\" valign=\"top\">one</th>\n",
       "      <th>A</th>\n",
       "      <td>-0.517706</td>\n",
       "      <td>-0.269688</td>\n",
       "    </tr>\n",
       "    <tr>\n",
       "      <th>B</th>\n",
       "      <td>0.320224</td>\n",
       "      <td>0.533017</td>\n",
       "    </tr>\n",
       "    <tr>\n",
       "      <th>C</th>\n",
       "      <td>-2.022182</td>\n",
       "      <td>1.041621</td>\n",
       "    </tr>\n",
       "    <tr>\n",
       "      <th rowspan=\"3\" valign=\"top\">three</th>\n",
       "      <th>A</th>\n",
       "      <td>0.670471</td>\n",
       "      <td>NaN</td>\n",
       "    </tr>\n",
       "    <tr>\n",
       "      <th>B</th>\n",
       "      <td>NaN</td>\n",
       "      <td>0.230330</td>\n",
       "    </tr>\n",
       "    <tr>\n",
       "      <th>C</th>\n",
       "      <td>0.167035</td>\n",
       "      <td>NaN</td>\n",
       "    </tr>\n",
       "    <tr>\n",
       "      <th rowspan=\"3\" valign=\"top\">two</th>\n",
       "      <th>A</th>\n",
       "      <td>NaN</td>\n",
       "      <td>0.552200</td>\n",
       "    </tr>\n",
       "    <tr>\n",
       "      <th>B</th>\n",
       "      <td>2.486886</td>\n",
       "      <td>NaN</td>\n",
       "    </tr>\n",
       "    <tr>\n",
       "      <th>C</th>\n",
       "      <td>NaN</td>\n",
       "      <td>-0.121418</td>\n",
       "    </tr>\n",
       "  </tbody>\n",
       "</table>\n",
       "</div>"
      ],
      "text/plain": [
       "C             bar       foo\n",
       "A     B                    \n",
       "one   A -0.517706 -0.269688\n",
       "      B  0.320224  0.533017\n",
       "      C -2.022182  1.041621\n",
       "three A  0.670471       NaN\n",
       "      B       NaN  0.230330\n",
       "      C  0.167035       NaN\n",
       "two   A       NaN  0.552200\n",
       "      B  2.486886       NaN\n",
       "      C       NaN -0.121418"
      ]
     },
     "execution_count": 120,
     "metadata": {},
     "output_type": "execute_result"
    }
   ],
   "source": [
    "pd.pivot_table(df, values='D', index=['A', 'B'], columns=['C'])"
   ]
  },
  {
   "cell_type": "markdown",
   "metadata": {},
   "source": [
    "# 5.9 Time Series 時間序列"
   ]
  },
  {
   "cell_type": "code",
   "execution_count": 121,
   "metadata": {},
   "outputs": [
    {
     "data": {
      "text/plain": [
       "DatetimeIndex(['2012-01-01 00:00:00', '2012-01-01 00:00:01',\n",
       "               '2012-01-01 00:00:02', '2012-01-01 00:00:03',\n",
       "               '2012-01-01 00:00:04', '2012-01-01 00:00:05',\n",
       "               '2012-01-01 00:00:06', '2012-01-01 00:00:07',\n",
       "               '2012-01-01 00:00:08', '2012-01-01 00:00:09',\n",
       "               '2012-01-01 00:00:10', '2012-01-01 00:00:11',\n",
       "               '2012-01-01 00:00:12', '2012-01-01 00:00:13',\n",
       "               '2012-01-01 00:00:14', '2012-01-01 00:00:15',\n",
       "               '2012-01-01 00:00:16', '2012-01-01 00:00:17',\n",
       "               '2012-01-01 00:00:18', '2012-01-01 00:00:19',\n",
       "               '2012-01-01 00:00:20', '2012-01-01 00:00:21',\n",
       "               '2012-01-01 00:00:22', '2012-01-01 00:00:23',\n",
       "               '2012-01-01 00:00:24', '2012-01-01 00:00:25',\n",
       "               '2012-01-01 00:00:26', '2012-01-01 00:00:27',\n",
       "               '2012-01-01 00:00:28', '2012-01-01 00:00:29',\n",
       "               '2012-01-01 00:00:30', '2012-01-01 00:00:31',\n",
       "               '2012-01-01 00:00:32', '2012-01-01 00:00:33',\n",
       "               '2012-01-01 00:00:34', '2012-01-01 00:00:35',\n",
       "               '2012-01-01 00:00:36', '2012-01-01 00:00:37',\n",
       "               '2012-01-01 00:00:38', '2012-01-01 00:00:39',\n",
       "               '2012-01-01 00:00:40', '2012-01-01 00:00:41',\n",
       "               '2012-01-01 00:00:42', '2012-01-01 00:00:43',\n",
       "               '2012-01-01 00:00:44', '2012-01-01 00:00:45',\n",
       "               '2012-01-01 00:00:46', '2012-01-01 00:00:47',\n",
       "               '2012-01-01 00:00:48', '2012-01-01 00:00:49',\n",
       "               '2012-01-01 00:00:50', '2012-01-01 00:00:51',\n",
       "               '2012-01-01 00:00:52', '2012-01-01 00:00:53',\n",
       "               '2012-01-01 00:00:54', '2012-01-01 00:00:55',\n",
       "               '2012-01-01 00:00:56', '2012-01-01 00:00:57',\n",
       "               '2012-01-01 00:00:58', '2012-01-01 00:00:59',\n",
       "               '2012-01-01 00:01:00', '2012-01-01 00:01:01',\n",
       "               '2012-01-01 00:01:02', '2012-01-01 00:01:03',\n",
       "               '2012-01-01 00:01:04', '2012-01-01 00:01:05',\n",
       "               '2012-01-01 00:01:06', '2012-01-01 00:01:07',\n",
       "               '2012-01-01 00:01:08', '2012-01-01 00:01:09',\n",
       "               '2012-01-01 00:01:10', '2012-01-01 00:01:11',\n",
       "               '2012-01-01 00:01:12', '2012-01-01 00:01:13',\n",
       "               '2012-01-01 00:01:14', '2012-01-01 00:01:15',\n",
       "               '2012-01-01 00:01:16', '2012-01-01 00:01:17',\n",
       "               '2012-01-01 00:01:18', '2012-01-01 00:01:19',\n",
       "               '2012-01-01 00:01:20', '2012-01-01 00:01:21',\n",
       "               '2012-01-01 00:01:22', '2012-01-01 00:01:23',\n",
       "               '2012-01-01 00:01:24', '2012-01-01 00:01:25',\n",
       "               '2012-01-01 00:01:26', '2012-01-01 00:01:27',\n",
       "               '2012-01-01 00:01:28', '2012-01-01 00:01:29',\n",
       "               '2012-01-01 00:01:30', '2012-01-01 00:01:31',\n",
       "               '2012-01-01 00:01:32', '2012-01-01 00:01:33',\n",
       "               '2012-01-01 00:01:34', '2012-01-01 00:01:35',\n",
       "               '2012-01-01 00:01:36', '2012-01-01 00:01:37',\n",
       "               '2012-01-01 00:01:38', '2012-01-01 00:01:39'],\n",
       "              dtype='datetime64[ns]', freq='S')"
      ]
     },
     "execution_count": 121,
     "metadata": {},
     "output_type": "execute_result"
    }
   ],
   "source": [
    "rng = pd.date_range('1/1/2012', periods=100, freq='S')\n",
    "rng"
   ]
  },
  {
   "cell_type": "code",
   "execution_count": 122,
   "metadata": {
    "collapsed": true
   },
   "outputs": [],
   "source": [
    "ts = pd.Series(np.random.randint(0, 500, len(rng)), index=rng)"
   ]
  },
  {
   "cell_type": "code",
   "execution_count": 123,
   "metadata": {},
   "outputs": [
    {
     "data": {
      "text/plain": [
       "2012-01-01 00:00:00    288\n",
       "2012-01-01 00:00:01    175\n",
       "2012-01-01 00:00:02    228\n",
       "2012-01-01 00:00:03    327\n",
       "2012-01-01 00:00:04    496\n",
       "2012-01-01 00:00:05    126\n",
       "2012-01-01 00:00:06    102\n",
       "2012-01-01 00:00:07    143\n",
       "2012-01-01 00:00:08    424\n",
       "2012-01-01 00:00:09    330\n",
       "2012-01-01 00:00:10    470\n",
       "2012-01-01 00:00:11    339\n",
       "2012-01-01 00:00:12    182\n",
       "2012-01-01 00:00:13    156\n",
       "2012-01-01 00:00:14    385\n",
       "2012-01-01 00:00:15     79\n",
       "2012-01-01 00:00:16    201\n",
       "2012-01-01 00:00:17      9\n",
       "2012-01-01 00:00:18    190\n",
       "2012-01-01 00:00:19     70\n",
       "2012-01-01 00:00:20    160\n",
       "2012-01-01 00:00:21    337\n",
       "2012-01-01 00:00:22    223\n",
       "2012-01-01 00:00:23    218\n",
       "2012-01-01 00:00:24    217\n",
       "2012-01-01 00:00:25    371\n",
       "2012-01-01 00:00:26      1\n",
       "2012-01-01 00:00:27    335\n",
       "2012-01-01 00:00:28    213\n",
       "2012-01-01 00:00:29    135\n",
       "                      ... \n",
       "2012-01-01 00:01:10    177\n",
       "2012-01-01 00:01:11    232\n",
       "2012-01-01 00:01:12    281\n",
       "2012-01-01 00:01:13    389\n",
       "2012-01-01 00:01:14    324\n",
       "2012-01-01 00:01:15    153\n",
       "2012-01-01 00:01:16    381\n",
       "2012-01-01 00:01:17    243\n",
       "2012-01-01 00:01:18    263\n",
       "2012-01-01 00:01:19     36\n",
       "2012-01-01 00:01:20    174\n",
       "2012-01-01 00:01:21    245\n",
       "2012-01-01 00:01:22    418\n",
       "2012-01-01 00:01:23     16\n",
       "2012-01-01 00:01:24     81\n",
       "2012-01-01 00:01:25    418\n",
       "2012-01-01 00:01:26    336\n",
       "2012-01-01 00:01:27    300\n",
       "2012-01-01 00:01:28    452\n",
       "2012-01-01 00:01:29    239\n",
       "2012-01-01 00:01:30     29\n",
       "2012-01-01 00:01:31    435\n",
       "2012-01-01 00:01:32    355\n",
       "2012-01-01 00:01:33    419\n",
       "2012-01-01 00:01:34     53\n",
       "2012-01-01 00:01:35    266\n",
       "2012-01-01 00:01:36    141\n",
       "2012-01-01 00:01:37     49\n",
       "2012-01-01 00:01:38     20\n",
       "2012-01-01 00:01:39    460\n",
       "Freq: S, Length: 100, dtype: int32"
      ]
     },
     "execution_count": 123,
     "metadata": {},
     "output_type": "execute_result"
    }
   ],
   "source": [
    "ts"
   ]
  },
  {
   "cell_type": "code",
   "execution_count": 124,
   "metadata": {},
   "outputs": [
    {
     "data": {
      "text/plain": [
       "2012-01-01    25128\n",
       "Freq: 5T, dtype: int32"
      ]
     },
     "execution_count": 124,
     "metadata": {},
     "output_type": "execute_result"
    }
   ],
   "source": [
    "ts.resample('5Min').sum()"
   ]
  },
  {
   "cell_type": "code",
   "execution_count": 125,
   "metadata": {},
   "outputs": [
    {
     "data": {
      "text/plain": [
       "DatetimeIndex(['2012-03-06', '2012-03-07', '2012-03-08', '2012-03-09',\n",
       "               '2012-03-10'],\n",
       "              dtype='datetime64[ns]', freq='D')"
      ]
     },
     "execution_count": 125,
     "metadata": {},
     "output_type": "execute_result"
    }
   ],
   "source": [
    "rng = pd.date_range('3/6/2012 00:00', periods=5, freq='D')\n",
    "rng"
   ]
  },
  {
   "cell_type": "code",
   "execution_count": 126,
   "metadata": {},
   "outputs": [
    {
     "data": {
      "text/plain": [
       "2012-03-06   -0.349157\n",
       "2012-03-07   -1.383406\n",
       "2012-03-08    0.901612\n",
       "2012-03-09    0.306660\n",
       "2012-03-10    0.489154\n",
       "Freq: D, dtype: float64"
      ]
     },
     "execution_count": 126,
     "metadata": {},
     "output_type": "execute_result"
    }
   ],
   "source": [
    "ts = pd.Series(np.random.randn(len(rng)), rng)\n",
    "ts"
   ]
  },
  {
   "cell_type": "code",
   "execution_count": 127,
   "metadata": {},
   "outputs": [
    {
     "data": {
      "text/plain": [
       "2012-03-06 00:00:00+00:00   -0.349157\n",
       "2012-03-07 00:00:00+00:00   -1.383406\n",
       "2012-03-08 00:00:00+00:00    0.901612\n",
       "2012-03-09 00:00:00+00:00    0.306660\n",
       "2012-03-10 00:00:00+00:00    0.489154\n",
       "Freq: D, dtype: float64"
      ]
     },
     "execution_count": 127,
     "metadata": {},
     "output_type": "execute_result"
    }
   ],
   "source": [
    "ts_utc = ts.tz_localize('UTC')\n",
    "ts_utc"
   ]
  },
  {
   "cell_type": "code",
   "execution_count": 128,
   "metadata": {},
   "outputs": [
    {
     "data": {
      "text/plain": [
       "DatetimeIndex(['2012-01-31', '2012-02-29', '2012-03-31', '2012-04-30',\n",
       "               '2012-05-31'],\n",
       "              dtype='datetime64[ns]', freq='M')"
      ]
     },
     "execution_count": 128,
     "metadata": {},
     "output_type": "execute_result"
    }
   ],
   "source": [
    "# 間隔一個月\n",
    "rng = pd.date_range('1/1/2012', periods=5, freq='M')\n",
    "rng"
   ]
  },
  {
   "cell_type": "code",
   "execution_count": 129,
   "metadata": {},
   "outputs": [
    {
     "data": {
      "text/plain": [
       "2012-01-31    1.403747\n",
       "2012-02-29   -0.303654\n",
       "2012-03-31   -0.275650\n",
       "2012-04-30   -0.149191\n",
       "2012-05-31    1.053628\n",
       "Freq: M, dtype: float64"
      ]
     },
     "execution_count": 129,
     "metadata": {},
     "output_type": "execute_result"
    }
   ],
   "source": [
    "ts = pd.Series(np.random.randn(len(rng)), index=rng)\n",
    "ts"
   ]
  },
  {
   "cell_type": "code",
   "execution_count": 130,
   "metadata": {},
   "outputs": [
    {
     "data": {
      "text/plain": [
       "2012-01    1.403747\n",
       "2012-02   -0.303654\n",
       "2012-03   -0.275650\n",
       "2012-04   -0.149191\n",
       "2012-05    1.053628\n",
       "Freq: M, dtype: float64"
      ]
     },
     "execution_count": 130,
     "metadata": {},
     "output_type": "execute_result"
    }
   ],
   "source": [
    "# to_period() 轉換為期間\n",
    "ps = ts.to_period()\n",
    "ps"
   ]
  },
  {
   "cell_type": "code",
   "execution_count": 131,
   "metadata": {
    "scrolled": true
   },
   "outputs": [
    {
     "data": {
      "text/plain": [
       "2012-01-01    1.403747\n",
       "2012-02-01   -0.303654\n",
       "2012-03-01   -0.275650\n",
       "2012-04-01   -0.149191\n",
       "2012-05-01    1.053628\n",
       "Freq: MS, dtype: float64"
      ]
     },
     "execution_count": 131,
     "metadata": {},
     "output_type": "execute_result"
    }
   ],
   "source": [
    "# to_timestamp 轉換為時間戳記\n",
    "ps.to_timestamp()"
   ]
  },
  {
   "cell_type": "markdown",
   "metadata": {},
   "source": [
    "# 5.10 Categoricals 類別資料型別"
   ]
  },
  {
   "cell_type": "code",
   "execution_count": 132,
   "metadata": {
    "collapsed": true
   },
   "outputs": [],
   "source": [
    "df = pd.DataFrame({\"id\":[1,2,3,4,5,6], \"raw_grade\":['a', 'b', 'b', 'a', 'a', 'e']})"
   ]
  },
  {
   "cell_type": "code",
   "execution_count": 133,
   "metadata": {},
   "outputs": [
    {
     "data": {
      "text/html": [
       "<div>\n",
       "<style>\n",
       "    .dataframe thead tr:only-child th {\n",
       "        text-align: right;\n",
       "    }\n",
       "\n",
       "    .dataframe thead th {\n",
       "        text-align: left;\n",
       "    }\n",
       "\n",
       "    .dataframe tbody tr th {\n",
       "        vertical-align: top;\n",
       "    }\n",
       "</style>\n",
       "<table border=\"1\" class=\"dataframe\">\n",
       "  <thead>\n",
       "    <tr style=\"text-align: right;\">\n",
       "      <th></th>\n",
       "      <th>id</th>\n",
       "      <th>raw_grade</th>\n",
       "    </tr>\n",
       "  </thead>\n",
       "  <tbody>\n",
       "    <tr>\n",
       "      <th>0</th>\n",
       "      <td>1</td>\n",
       "      <td>a</td>\n",
       "    </tr>\n",
       "    <tr>\n",
       "      <th>1</th>\n",
       "      <td>2</td>\n",
       "      <td>b</td>\n",
       "    </tr>\n",
       "    <tr>\n",
       "      <th>2</th>\n",
       "      <td>3</td>\n",
       "      <td>b</td>\n",
       "    </tr>\n",
       "    <tr>\n",
       "      <th>3</th>\n",
       "      <td>4</td>\n",
       "      <td>a</td>\n",
       "    </tr>\n",
       "    <tr>\n",
       "      <th>4</th>\n",
       "      <td>5</td>\n",
       "      <td>a</td>\n",
       "    </tr>\n",
       "    <tr>\n",
       "      <th>5</th>\n",
       "      <td>6</td>\n",
       "      <td>e</td>\n",
       "    </tr>\n",
       "  </tbody>\n",
       "</table>\n",
       "</div>"
      ],
      "text/plain": [
       "   id raw_grade\n",
       "0   1         a\n",
       "1   2         b\n",
       "2   3         b\n",
       "3   4         a\n",
       "4   5         a\n",
       "5   6         e"
      ]
     },
     "execution_count": 133,
     "metadata": {},
     "output_type": "execute_result"
    }
   ],
   "source": [
    "df"
   ]
  },
  {
   "cell_type": "code",
   "execution_count": 134,
   "metadata": {},
   "outputs": [
    {
     "data": {
      "text/plain": [
       "0    a\n",
       "1    b\n",
       "2    b\n",
       "3    a\n",
       "4    a\n",
       "5    e\n",
       "Name: grade, dtype: category\n",
       "Categories (3, object): [a, b, e]"
      ]
     },
     "execution_count": 134,
     "metadata": {},
     "output_type": "execute_result"
    }
   ],
   "source": [
    "# category 與 R - factor 類似\n",
    "df[\"grade\"] = df[\"raw_grade\"].astype(\"category\")\n",
    "df[\"grade\"]"
   ]
  },
  {
   "cell_type": "code",
   "execution_count": 135,
   "metadata": {},
   "outputs": [
    {
     "data": {
      "text/html": [
       "<div>\n",
       "<style>\n",
       "    .dataframe thead tr:only-child th {\n",
       "        text-align: right;\n",
       "    }\n",
       "\n",
       "    .dataframe thead th {\n",
       "        text-align: left;\n",
       "    }\n",
       "\n",
       "    .dataframe tbody tr th {\n",
       "        vertical-align: top;\n",
       "    }\n",
       "</style>\n",
       "<table border=\"1\" class=\"dataframe\">\n",
       "  <thead>\n",
       "    <tr style=\"text-align: right;\">\n",
       "      <th></th>\n",
       "      <th>id</th>\n",
       "      <th>raw_grade</th>\n",
       "      <th>grade</th>\n",
       "    </tr>\n",
       "  </thead>\n",
       "  <tbody>\n",
       "    <tr>\n",
       "      <th>0</th>\n",
       "      <td>1</td>\n",
       "      <td>a</td>\n",
       "      <td>1very good</td>\n",
       "    </tr>\n",
       "    <tr>\n",
       "      <th>1</th>\n",
       "      <td>2</td>\n",
       "      <td>b</td>\n",
       "      <td>2good</td>\n",
       "    </tr>\n",
       "    <tr>\n",
       "      <th>2</th>\n",
       "      <td>3</td>\n",
       "      <td>b</td>\n",
       "      <td>2good</td>\n",
       "    </tr>\n",
       "    <tr>\n",
       "      <th>3</th>\n",
       "      <td>4</td>\n",
       "      <td>a</td>\n",
       "      <td>1very good</td>\n",
       "    </tr>\n",
       "    <tr>\n",
       "      <th>4</th>\n",
       "      <td>5</td>\n",
       "      <td>a</td>\n",
       "      <td>1very good</td>\n",
       "    </tr>\n",
       "    <tr>\n",
       "      <th>5</th>\n",
       "      <td>6</td>\n",
       "      <td>e</td>\n",
       "      <td>3very bad</td>\n",
       "    </tr>\n",
       "  </tbody>\n",
       "</table>\n",
       "</div>"
      ],
      "text/plain": [
       "   id raw_grade       grade\n",
       "0   1         a  1very good\n",
       "1   2         b       2good\n",
       "2   3         b       2good\n",
       "3   4         a  1very good\n",
       "4   5         a  1very good\n",
       "5   6         e   3very bad"
      ]
     },
     "execution_count": 135,
     "metadata": {},
     "output_type": "execute_result"
    }
   ],
   "source": [
    "# 更改名稱\n",
    "df[\"grade\"].cat.categories = [\"1very good\", \"2good\", \"3very bad\"]\n",
    "df"
   ]
  },
  {
   "cell_type": "code",
   "execution_count": 136,
   "metadata": {},
   "outputs": [
    {
     "data": {
      "text/plain": [
       "0    1very good\n",
       "1         2good\n",
       "2         2good\n",
       "3    1very good\n",
       "4    1very good\n",
       "5     3very bad\n",
       "Name: grade, dtype: category\n",
       "Categories (3, object): [1very good, 2good, 3very bad]"
      ]
     },
     "execution_count": 136,
     "metadata": {},
     "output_type": "execute_result"
    }
   ],
   "source": [
    "s = df[\"grade\"]\n",
    "s"
   ]
  },
  {
   "cell_type": "code",
   "execution_count": 137,
   "metadata": {},
   "outputs": [
    {
     "data": {
      "text/plain": [
       "Index(['1very good', '2good', '3very bad'], dtype='object')"
      ]
     },
     "execution_count": 137,
     "metadata": {},
     "output_type": "execute_result"
    }
   ],
   "source": [
    "s.cat.categories"
   ]
  },
  {
   "cell_type": "code",
   "execution_count": 138,
   "metadata": {},
   "outputs": [
    {
     "data": {
      "text/plain": [
       "False"
      ]
     },
     "execution_count": 138,
     "metadata": {},
     "output_type": "execute_result"
    }
   ],
   "source": [
    "s.cat.ordered"
   ]
  },
  {
   "cell_type": "code",
   "execution_count": 139,
   "metadata": {
    "collapsed": true
   },
   "outputs": [],
   "source": [
    "# need to verify (原始:3個levels, 修改為5個levels)\n",
    "# df[\"grade\"] = df[\"grade\"].cat.set_categories([\"01very bad\", \"02bad\", \"03medium\", \"04good\", \"05very good\"])\n",
    "# df[\"grade\"]"
   ]
  },
  {
   "cell_type": "markdown",
   "metadata": {},
   "source": [
    "# Plotting 繪圖"
   ]
  },
  {
   "cell_type": "code",
   "execution_count": 140,
   "metadata": {
    "collapsed": true
   },
   "outputs": [],
   "source": [
    "ts = pd.Series(np.random.randn(1000), index=pd.date_range('1/1/2000', periods=1000))"
   ]
  },
  {
   "cell_type": "code",
   "execution_count": 141,
   "metadata": {
    "collapsed": true
   },
   "outputs": [],
   "source": [
    "ts = ts.cumsum()"
   ]
  },
  {
   "cell_type": "code",
   "execution_count": 142,
   "metadata": {},
   "outputs": [
    {
     "data": {
      "image/png": "[encoded data removed]",
      "text/plain": [
       "<matplotlib.figure.Figure at 0x2429e2ca2e8>"
      ]
     },
     "metadata": {},
     "output_type": "display_data"
    }
   ],
   "source": [
    "ts.plot()\n",
    "plt.show()"
   ]
  },
  {
   "cell_type": "code",
   "execution_count": 143,
   "metadata": {
    "collapsed": true
   },
   "outputs": [],
   "source": [
    "df = pd.DataFrame(np.random.randn(1000, 4), index=ts.index, columns=['A', 'B', 'C', 'D'])"
   ]
  },
  {
   "cell_type": "code",
   "execution_count": 144,
   "metadata": {
    "collapsed": true
   },
   "outputs": [],
   "source": [
    "df = df.cumsum()"
   ]
  },
  {
   "cell_type": "code",
   "execution_count": 145,
   "metadata": {},
   "outputs": [
    {
     "data": {
      "image/png": "[encoded data removed]",
      "text/plain": [
       "<matplotlib.figure.Figure at 0x2429e38e4a8>"
      ]
     },
     "metadata": {},
     "output_type": "display_data"
    }
   ],
   "source": [
    "df.plot(); plt.legend(loc='best');plt.show()"
   ]
  },
  {
   "cell_type": "markdown",
   "metadata": {},
   "source": [
    "# 5.12 Getting Data In/Out 輸入/輸出資料"
   ]
  },
  {
   "cell_type": "code",
   "execution_count": 146,
   "metadata": {
    "collapsed": true
   },
   "outputs": [],
   "source": [
    "# 5.12.1 CSV"
   ]
  },
  {
   "cell_type": "code",
   "execution_count": 147,
   "metadata": {
    "collapsed": true
   },
   "outputs": [],
   "source": [
    "df.to_csv('foo.csv')"
   ]
  },
  {
   "cell_type": "code",
   "execution_count": 148,
   "metadata": {},
   "outputs": [
    {
     "data": {
      "text/html": [
       "<div>\n",
       "<style>\n",
       "    .dataframe thead tr:only-child th {\n",
       "        text-align: right;\n",
       "    }\n",
       "\n",
       "    .dataframe thead th {\n",
       "        text-align: left;\n",
       "    }\n",
       "\n",
       "    .dataframe tbody tr th {\n",
       "        vertical-align: top;\n",
       "    }\n",
       "</style>\n",
       "<table border=\"1\" class=\"dataframe\">\n",
       "  <thead>\n",
       "    <tr style=\"text-align: right;\">\n",
       "      <th></th>\n",
       "      <th>Unnamed: 0</th>\n",
       "      <th>A</th>\n",
       "      <th>B</th>\n",
       "      <th>C</th>\n",
       "      <th>D</th>\n",
       "    </tr>\n",
       "  </thead>\n",
       "  <tbody>\n",
       "    <tr>\n",
       "      <th>0</th>\n",
       "      <td>2000-01-01</td>\n",
       "      <td>1.269000</td>\n",
       "      <td>-0.732474</td>\n",
       "      <td>-1.363885</td>\n",
       "      <td>1.372010</td>\n",
       "    </tr>\n",
       "    <tr>\n",
       "      <th>1</th>\n",
       "      <td>2000-01-02</td>\n",
       "      <td>0.346400</td>\n",
       "      <td>-0.234358</td>\n",
       "      <td>-3.058232</td>\n",
       "      <td>0.367005</td>\n",
       "    </tr>\n",
       "    <tr>\n",
       "      <th>2</th>\n",
       "      <td>2000-01-03</td>\n",
       "      <td>1.006875</td>\n",
       "      <td>-0.046362</td>\n",
       "      <td>-4.685272</td>\n",
       "      <td>0.144633</td>\n",
       "    </tr>\n",
       "    <tr>\n",
       "      <th>3</th>\n",
       "      <td>2000-01-04</td>\n",
       "      <td>1.605905</td>\n",
       "      <td>-0.001352</td>\n",
       "      <td>-3.684998</td>\n",
       "      <td>0.777244</td>\n",
       "    </tr>\n",
       "    <tr>\n",
       "      <th>4</th>\n",
       "      <td>2000-01-05</td>\n",
       "      <td>0.615125</td>\n",
       "      <td>-0.960320</td>\n",
       "      <td>-4.313167</td>\n",
       "      <td>-0.694653</td>\n",
       "    </tr>\n",
       "    <tr>\n",
       "      <th>5</th>\n",
       "      <td>2000-01-06</td>\n",
       "      <td>0.726276</td>\n",
       "      <td>-0.027878</td>\n",
       "      <td>-5.911535</td>\n",
       "      <td>-1.880557</td>\n",
       "    </tr>\n",
       "    <tr>\n",
       "      <th>6</th>\n",
       "      <td>2000-01-07</td>\n",
       "      <td>1.342345</td>\n",
       "      <td>0.427630</td>\n",
       "      <td>-6.429967</td>\n",
       "      <td>-3.492904</td>\n",
       "    </tr>\n",
       "    <tr>\n",
       "      <th>7</th>\n",
       "      <td>2000-01-08</td>\n",
       "      <td>1.437471</td>\n",
       "      <td>-0.708659</td>\n",
       "      <td>-6.453717</td>\n",
       "      <td>-4.147945</td>\n",
       "    </tr>\n",
       "    <tr>\n",
       "      <th>8</th>\n",
       "      <td>2000-01-09</td>\n",
       "      <td>-0.017387</td>\n",
       "      <td>-2.087043</td>\n",
       "      <td>-7.718066</td>\n",
       "      <td>-3.827057</td>\n",
       "    </tr>\n",
       "    <tr>\n",
       "      <th>9</th>\n",
       "      <td>2000-01-10</td>\n",
       "      <td>1.111285</td>\n",
       "      <td>-0.216736</td>\n",
       "      <td>-8.324189</td>\n",
       "      <td>-4.130144</td>\n",
       "    </tr>\n",
       "    <tr>\n",
       "      <th>10</th>\n",
       "      <td>2000-01-11</td>\n",
       "      <td>0.447322</td>\n",
       "      <td>-0.876857</td>\n",
       "      <td>-6.650148</td>\n",
       "      <td>-5.755439</td>\n",
       "    </tr>\n",
       "    <tr>\n",
       "      <th>11</th>\n",
       "      <td>2000-01-12</td>\n",
       "      <td>0.269772</td>\n",
       "      <td>-1.577317</td>\n",
       "      <td>-6.511338</td>\n",
       "      <td>-4.993784</td>\n",
       "    </tr>\n",
       "    <tr>\n",
       "      <th>12</th>\n",
       "      <td>2000-01-13</td>\n",
       "      <td>1.590963</td>\n",
       "      <td>-1.644238</td>\n",
       "      <td>-5.740657</td>\n",
       "      <td>-6.313649</td>\n",
       "    </tr>\n",
       "    <tr>\n",
       "      <th>13</th>\n",
       "      <td>2000-01-14</td>\n",
       "      <td>0.776797</td>\n",
       "      <td>-3.128370</td>\n",
       "      <td>-5.200803</td>\n",
       "      <td>-8.164991</td>\n",
       "    </tr>\n",
       "    <tr>\n",
       "      <th>14</th>\n",
       "      <td>2000-01-15</td>\n",
       "      <td>-0.989326</td>\n",
       "      <td>-3.528034</td>\n",
       "      <td>-5.631557</td>\n",
       "      <td>-8.357850</td>\n",
       "    </tr>\n",
       "    <tr>\n",
       "      <th>15</th>\n",
       "      <td>2000-01-16</td>\n",
       "      <td>-1.756663</td>\n",
       "      <td>-2.495869</td>\n",
       "      <td>-4.896412</td>\n",
       "      <td>-9.350270</td>\n",
       "    </tr>\n",
       "    <tr>\n",
       "      <th>16</th>\n",
       "      <td>2000-01-17</td>\n",
       "      <td>-1.070938</td>\n",
       "      <td>-2.796845</td>\n",
       "      <td>-3.894262</td>\n",
       "      <td>-10.740745</td>\n",
       "    </tr>\n",
       "    <tr>\n",
       "      <th>17</th>\n",
       "      <td>2000-01-18</td>\n",
       "      <td>-2.379507</td>\n",
       "      <td>-2.250951</td>\n",
       "      <td>-3.703513</td>\n",
       "      <td>-11.633648</td>\n",
       "    </tr>\n",
       "    <tr>\n",
       "      <th>18</th>\n",
       "      <td>2000-01-19</td>\n",
       "      <td>-2.726007</td>\n",
       "      <td>-2.952197</td>\n",
       "      <td>-4.652359</td>\n",
       "      <td>-11.834353</td>\n",
       "    </tr>\n",
       "    <tr>\n",
       "      <th>19</th>\n",
       "      <td>2000-01-20</td>\n",
       "      <td>-2.186426</td>\n",
       "      <td>-2.316165</td>\n",
       "      <td>-4.376137</td>\n",
       "      <td>-12.760676</td>\n",
       "    </tr>\n",
       "    <tr>\n",
       "      <th>20</th>\n",
       "      <td>2000-01-21</td>\n",
       "      <td>-3.250655</td>\n",
       "      <td>-2.935361</td>\n",
       "      <td>-4.556809</td>\n",
       "      <td>-13.194172</td>\n",
       "    </tr>\n",
       "    <tr>\n",
       "      <th>21</th>\n",
       "      <td>2000-01-22</td>\n",
       "      <td>-1.718552</td>\n",
       "      <td>-1.854469</td>\n",
       "      <td>-4.908630</td>\n",
       "      <td>-14.485757</td>\n",
       "    </tr>\n",
       "    <tr>\n",
       "      <th>22</th>\n",
       "      <td>2000-01-23</td>\n",
       "      <td>-3.776882</td>\n",
       "      <td>-3.954964</td>\n",
       "      <td>-3.413873</td>\n",
       "      <td>-14.003048</td>\n",
       "    </tr>\n",
       "    <tr>\n",
       "      <th>23</th>\n",
       "      <td>2000-01-24</td>\n",
       "      <td>-2.646925</td>\n",
       "      <td>-4.219828</td>\n",
       "      <td>-2.339498</td>\n",
       "      <td>-15.112157</td>\n",
       "    </tr>\n",
       "    <tr>\n",
       "      <th>24</th>\n",
       "      <td>2000-01-25</td>\n",
       "      <td>-2.820156</td>\n",
       "      <td>-4.751851</td>\n",
       "      <td>-0.095490</td>\n",
       "      <td>-14.093149</td>\n",
       "    </tr>\n",
       "    <tr>\n",
       "      <th>25</th>\n",
       "      <td>2000-01-26</td>\n",
       "      <td>-0.791084</td>\n",
       "      <td>-4.356534</td>\n",
       "      <td>-0.600638</td>\n",
       "      <td>-16.515435</td>\n",
       "    </tr>\n",
       "    <tr>\n",
       "      <th>26</th>\n",
       "      <td>2000-01-27</td>\n",
       "      <td>0.153760</td>\n",
       "      <td>-2.914609</td>\n",
       "      <td>0.000111</td>\n",
       "      <td>-15.141755</td>\n",
       "    </tr>\n",
       "    <tr>\n",
       "      <th>27</th>\n",
       "      <td>2000-01-28</td>\n",
       "      <td>1.755629</td>\n",
       "      <td>-3.405897</td>\n",
       "      <td>0.034025</td>\n",
       "      <td>-15.711836</td>\n",
       "    </tr>\n",
       "    <tr>\n",
       "      <th>28</th>\n",
       "      <td>2000-01-29</td>\n",
       "      <td>2.090201</td>\n",
       "      <td>-3.374964</td>\n",
       "      <td>1.804968</td>\n",
       "      <td>-15.200817</td>\n",
       "    </tr>\n",
       "    <tr>\n",
       "      <th>29</th>\n",
       "      <td>2000-01-30</td>\n",
       "      <td>2.521692</td>\n",
       "      <td>-3.251785</td>\n",
       "      <td>2.834411</td>\n",
       "      <td>-15.227202</td>\n",
       "    </tr>\n",
       "    <tr>\n",
       "      <th>...</th>\n",
       "      <td>...</td>\n",
       "      <td>...</td>\n",
       "      <td>...</td>\n",
       "      <td>...</td>\n",
       "      <td>...</td>\n",
       "    </tr>\n",
       "    <tr>\n",
       "      <th>970</th>\n",
       "      <td>2002-08-28</td>\n",
       "      <td>11.518190</td>\n",
       "      <td>15.421332</td>\n",
       "      <td>-29.516813</td>\n",
       "      <td>-18.593091</td>\n",
       "    </tr>\n",
       "    <tr>\n",
       "      <th>971</th>\n",
       "      <td>2002-08-29</td>\n",
       "      <td>10.829898</td>\n",
       "      <td>15.960488</td>\n",
       "      <td>-30.925446</td>\n",
       "      <td>-18.195720</td>\n",
       "    </tr>\n",
       "    <tr>\n",
       "      <th>972</th>\n",
       "      <td>2002-08-30</td>\n",
       "      <td>11.257815</td>\n",
       "      <td>15.048344</td>\n",
       "      <td>-31.784188</td>\n",
       "      <td>-17.214908</td>\n",
       "    </tr>\n",
       "    <tr>\n",
       "      <th>973</th>\n",
       "      <td>2002-08-31</td>\n",
       "      <td>10.161113</td>\n",
       "      <td>14.988795</td>\n",
       "      <td>-32.468614</td>\n",
       "      <td>-16.070249</td>\n",
       "    </tr>\n",
       "    <tr>\n",
       "      <th>974</th>\n",
       "      <td>2002-09-01</td>\n",
       "      <td>10.769252</td>\n",
       "      <td>13.331163</td>\n",
       "      <td>-31.718765</td>\n",
       "      <td>-15.530023</td>\n",
       "    </tr>\n",
       "    <tr>\n",
       "      <th>975</th>\n",
       "      <td>2002-09-02</td>\n",
       "      <td>11.315725</td>\n",
       "      <td>13.484899</td>\n",
       "      <td>-31.449378</td>\n",
       "      <td>-16.259502</td>\n",
       "    </tr>\n",
       "    <tr>\n",
       "      <th>976</th>\n",
       "      <td>2002-09-03</td>\n",
       "      <td>10.094458</td>\n",
       "      <td>14.493224</td>\n",
       "      <td>-32.070594</td>\n",
       "      <td>-15.073331</td>\n",
       "    </tr>\n",
       "    <tr>\n",
       "      <th>977</th>\n",
       "      <td>2002-09-04</td>\n",
       "      <td>10.234147</td>\n",
       "      <td>13.416558</td>\n",
       "      <td>-31.679071</td>\n",
       "      <td>-16.574925</td>\n",
       "    </tr>\n",
       "    <tr>\n",
       "      <th>978</th>\n",
       "      <td>2002-09-05</td>\n",
       "      <td>10.089801</td>\n",
       "      <td>13.799832</td>\n",
       "      <td>-32.353290</td>\n",
       "      <td>-15.978073</td>\n",
       "    </tr>\n",
       "    <tr>\n",
       "      <th>979</th>\n",
       "      <td>2002-09-06</td>\n",
       "      <td>9.165600</td>\n",
       "      <td>13.789743</td>\n",
       "      <td>-33.764148</td>\n",
       "      <td>-14.976548</td>\n",
       "    </tr>\n",
       "    <tr>\n",
       "      <th>980</th>\n",
       "      <td>2002-09-07</td>\n",
       "      <td>10.045925</td>\n",
       "      <td>14.248619</td>\n",
       "      <td>-33.904458</td>\n",
       "      <td>-15.197537</td>\n",
       "    </tr>\n",
       "    <tr>\n",
       "      <th>981</th>\n",
       "      <td>2002-09-08</td>\n",
       "      <td>9.428247</td>\n",
       "      <td>13.522564</td>\n",
       "      <td>-34.073562</td>\n",
       "      <td>-14.306700</td>\n",
       "    </tr>\n",
       "    <tr>\n",
       "      <th>982</th>\n",
       "      <td>2002-09-09</td>\n",
       "      <td>10.095615</td>\n",
       "      <td>13.030110</td>\n",
       "      <td>-33.115773</td>\n",
       "      <td>-14.383878</td>\n",
       "    </tr>\n",
       "    <tr>\n",
       "      <th>983</th>\n",
       "      <td>2002-09-10</td>\n",
       "      <td>10.242243</td>\n",
       "      <td>13.495024</td>\n",
       "      <td>-32.380722</td>\n",
       "      <td>-14.905190</td>\n",
       "    </tr>\n",
       "    <tr>\n",
       "      <th>984</th>\n",
       "      <td>2002-09-11</td>\n",
       "      <td>11.459304</td>\n",
       "      <td>12.704401</td>\n",
       "      <td>-32.263970</td>\n",
       "      <td>-15.482183</td>\n",
       "    </tr>\n",
       "    <tr>\n",
       "      <th>985</th>\n",
       "      <td>2002-09-12</td>\n",
       "      <td>11.008645</td>\n",
       "      <td>12.473708</td>\n",
       "      <td>-31.896829</td>\n",
       "      <td>-16.110906</td>\n",
       "    </tr>\n",
       "    <tr>\n",
       "      <th>986</th>\n",
       "      <td>2002-09-13</td>\n",
       "      <td>10.664636</td>\n",
       "      <td>14.063707</td>\n",
       "      <td>-31.872418</td>\n",
       "      <td>-17.369567</td>\n",
       "    </tr>\n",
       "    <tr>\n",
       "      <th>987</th>\n",
       "      <td>2002-09-14</td>\n",
       "      <td>10.154178</td>\n",
       "      <td>12.863828</td>\n",
       "      <td>-30.372357</td>\n",
       "      <td>-16.559976</td>\n",
       "    </tr>\n",
       "    <tr>\n",
       "      <th>988</th>\n",
       "      <td>2002-09-15</td>\n",
       "      <td>10.909126</td>\n",
       "      <td>13.750181</td>\n",
       "      <td>-29.600189</td>\n",
       "      <td>-15.041868</td>\n",
       "    </tr>\n",
       "    <tr>\n",
       "      <th>989</th>\n",
       "      <td>2002-09-16</td>\n",
       "      <td>10.172471</td>\n",
       "      <td>12.714905</td>\n",
       "      <td>-29.667845</td>\n",
       "      <td>-15.687661</td>\n",
       "    </tr>\n",
       "    <tr>\n",
       "      <th>990</th>\n",
       "      <td>2002-09-17</td>\n",
       "      <td>9.895457</td>\n",
       "      <td>12.742862</td>\n",
       "      <td>-29.352716</td>\n",
       "      <td>-15.719220</td>\n",
       "    </tr>\n",
       "    <tr>\n",
       "      <th>991</th>\n",
       "      <td>2002-09-18</td>\n",
       "      <td>10.639503</td>\n",
       "      <td>11.992938</td>\n",
       "      <td>-25.433416</td>\n",
       "      <td>-15.315797</td>\n",
       "    </tr>\n",
       "    <tr>\n",
       "      <th>992</th>\n",
       "      <td>2002-09-19</td>\n",
       "      <td>11.074649</td>\n",
       "      <td>11.417012</td>\n",
       "      <td>-25.368708</td>\n",
       "      <td>-13.934458</td>\n",
       "    </tr>\n",
       "    <tr>\n",
       "      <th>993</th>\n",
       "      <td>2002-09-20</td>\n",
       "      <td>11.134682</td>\n",
       "      <td>9.907876</td>\n",
       "      <td>-24.146791</td>\n",
       "      <td>-14.995904</td>\n",
       "    </tr>\n",
       "    <tr>\n",
       "      <th>994</th>\n",
       "      <td>2002-09-21</td>\n",
       "      <td>13.464543</td>\n",
       "      <td>8.874336</td>\n",
       "      <td>-23.153202</td>\n",
       "      <td>-14.059317</td>\n",
       "    </tr>\n",
       "    <tr>\n",
       "      <th>995</th>\n",
       "      <td>2002-09-22</td>\n",
       "      <td>15.328672</td>\n",
       "      <td>10.541876</td>\n",
       "      <td>-21.624574</td>\n",
       "      <td>-14.479165</td>\n",
       "    </tr>\n",
       "    <tr>\n",
       "      <th>996</th>\n",
       "      <td>2002-09-23</td>\n",
       "      <td>14.491666</td>\n",
       "      <td>9.649930</td>\n",
       "      <td>-21.822965</td>\n",
       "      <td>-13.821721</td>\n",
       "    </tr>\n",
       "    <tr>\n",
       "      <th>997</th>\n",
       "      <td>2002-09-24</td>\n",
       "      <td>14.225918</td>\n",
       "      <td>10.091252</td>\n",
       "      <td>-21.458805</td>\n",
       "      <td>-14.347324</td>\n",
       "    </tr>\n",
       "    <tr>\n",
       "      <th>998</th>\n",
       "      <td>2002-09-25</td>\n",
       "      <td>15.555576</td>\n",
       "      <td>10.517895</td>\n",
       "      <td>-20.644050</td>\n",
       "      <td>-13.733016</td>\n",
       "    </tr>\n",
       "    <tr>\n",
       "      <th>999</th>\n",
       "      <td>2002-09-26</td>\n",
       "      <td>15.284848</td>\n",
       "      <td>9.962087</td>\n",
       "      <td>-20.784955</td>\n",
       "      <td>-13.236119</td>\n",
       "    </tr>\n",
       "  </tbody>\n",
       "</table>\n",
       "<p>1000 rows × 5 columns</p>\n",
       "</div>"
      ],
      "text/plain": [
       "     Unnamed: 0          A          B          C          D\n",
       "0    2000-01-01   1.269000  -0.732474  -1.363885   1.372010\n",
       "1    2000-01-02   0.346400  -0.234358  -3.058232   0.367005\n",
       "2    2000-01-03   1.006875  -0.046362  -4.685272   0.144633\n",
       "3    2000-01-04   1.605905  -0.001352  -3.684998   0.777244\n",
       "4    2000-01-05   0.615125  -0.960320  -4.313167  -0.694653\n",
       "5    2000-01-06   0.726276  -0.027878  -5.911535  -1.880557\n",
       "6    2000-01-07   1.342345   0.427630  -6.429967  -3.492904\n",
       "7    2000-01-08   1.437471  -0.708659  -6.453717  -4.147945\n",
       "8    2000-01-09  -0.017387  -2.087043  -7.718066  -3.827057\n",
       "9    2000-01-10   1.111285  -0.216736  -8.324189  -4.130144\n",
       "10   2000-01-11   0.447322  -0.876857  -6.650148  -5.755439\n",
       "11   2000-01-12   0.269772  -1.577317  -6.511338  -4.993784\n",
       "12   2000-01-13   1.590963  -1.644238  -5.740657  -6.313649\n",
       "13   2000-01-14   0.776797  -3.128370  -5.200803  -8.164991\n",
       "14   2000-01-15  -0.989326  -3.528034  -5.631557  -8.357850\n",
       "15   2000-01-16  -1.756663  -2.495869  -4.896412  -9.350270\n",
       "16   2000-01-17  -1.070938  -2.796845  -3.894262 -10.740745\n",
       "17   2000-01-18  -2.379507  -2.250951  -3.703513 -11.633648\n",
       "18   2000-01-19  -2.726007  -2.952197  -4.652359 -11.834353\n",
       "19   2000-01-20  -2.186426  -2.316165  -4.376137 -12.760676\n",
       "20   2000-01-21  -3.250655  -2.935361  -4.556809 -13.194172\n",
       "21   2000-01-22  -1.718552  -1.854469  -4.908630 -14.485757\n",
       "22   2000-01-23  -3.776882  -3.954964  -3.413873 -14.003048\n",
       "23   2000-01-24  -2.646925  -4.219828  -2.339498 -15.112157\n",
       "24   2000-01-25  -2.820156  -4.751851  -0.095490 -14.093149\n",
       "25   2000-01-26  -0.791084  -4.356534  -0.600638 -16.515435\n",
       "26   2000-01-27   0.153760  -2.914609   0.000111 -15.141755\n",
       "27   2000-01-28   1.755629  -3.405897   0.034025 -15.711836\n",
       "28   2000-01-29   2.090201  -3.374964   1.804968 -15.200817\n",
       "29   2000-01-30   2.521692  -3.251785   2.834411 -15.227202\n",
       "..          ...        ...        ...        ...        ...\n",
       "970  2002-08-28  11.518190  15.421332 -29.516813 -18.593091\n",
       "971  2002-08-29  10.829898  15.960488 -30.925446 -18.195720\n",
       "972  2002-08-30  11.257815  15.048344 -31.784188 -17.214908\n",
       "973  2002-08-31  10.161113  14.988795 -32.468614 -16.070249\n",
       "974  2002-09-01  10.769252  13.331163 -31.718765 -15.530023\n",
       "975  2002-09-02  11.315725  13.484899 -31.449378 -16.259502\n",
       "976  2002-09-03  10.094458  14.493224 -32.070594 -15.073331\n",
       "977  2002-09-04  10.234147  13.416558 -31.679071 -16.574925\n",
       "978  2002-09-05  10.089801  13.799832 -32.353290 -15.978073\n",
       "979  2002-09-06   9.165600  13.789743 -33.764148 -14.976548\n",
       "980  2002-09-07  10.045925  14.248619 -33.904458 -15.197537\n",
       "981  2002-09-08   9.428247  13.522564 -34.073562 -14.306700\n",
       "982  2002-09-09  10.095615  13.030110 -33.115773 -14.383878\n",
       "983  2002-09-10  10.242243  13.495024 -32.380722 -14.905190\n",
       "984  2002-09-11  11.459304  12.704401 -32.263970 -15.482183\n",
       "985  2002-09-12  11.008645  12.473708 -31.896829 -16.110906\n",
       "986  2002-09-13  10.664636  14.063707 -31.872418 -17.369567\n",
       "987  2002-09-14  10.154178  12.863828 -30.372357 -16.559976\n",
       "988  2002-09-15  10.909126  13.750181 -29.600189 -15.041868\n",
       "989  2002-09-16  10.172471  12.714905 -29.667845 -15.687661\n",
       "990  2002-09-17   9.895457  12.742862 -29.352716 -15.719220\n",
       "991  2002-09-18  10.639503  11.992938 -25.433416 -15.315797\n",
       "992  2002-09-19  11.074649  11.417012 -25.368708 -13.934458\n",
       "993  2002-09-20  11.134682   9.907876 -24.146791 -14.995904\n",
       "994  2002-09-21  13.464543   8.874336 -23.153202 -14.059317\n",
       "995  2002-09-22  15.328672  10.541876 -21.624574 -14.479165\n",
       "996  2002-09-23  14.491666   9.649930 -21.822965 -13.821721\n",
       "997  2002-09-24  14.225918  10.091252 -21.458805 -14.347324\n",
       "998  2002-09-25  15.555576  10.517895 -20.644050 -13.733016\n",
       "999  2002-09-26  15.284848   9.962087 -20.784955 -13.236119\n",
       "\n",
       "[1000 rows x 5 columns]"
      ]
     },
     "execution_count": 148,
     "metadata": {},
     "output_type": "execute_result"
    }
   ],
   "source": [
    "pd.read_csv('foo.csv')"
   ]
  },
  {
   "cell_type": "code",
   "execution_count": 149,
   "metadata": {
    "collapsed": true
   },
   "outputs": [],
   "source": [
    "# 5.12.2 HDF5"
   ]
  },
  {
   "cell_type": "code",
   "execution_count": 150,
   "metadata": {
    "collapsed": true
   },
   "outputs": [],
   "source": [
    "df.to_hdf('foo.h5','df')"
   ]
  },
  {
   "cell_type": "code",
   "execution_count": 151,
   "metadata": {
    "scrolled": true
   },
   "outputs": [
    {
     "data": {
      "text/html": [
       "<div>\n",
       "<style>\n",
       "    .dataframe thead tr:only-child th {\n",
       "        text-align: right;\n",
       "    }\n",
       "\n",
       "    .dataframe thead th {\n",
       "        text-align: left;\n",
       "    }\n",
       "\n",
       "    .dataframe tbody tr th {\n",
       "        vertical-align: top;\n",
       "    }\n",
       "</style>\n",
       "<table border=\"1\" class=\"dataframe\">\n",
       "  <thead>\n",
       "    <tr style=\"text-align: right;\">\n",
       "      <th></th>\n",
       "      <th>A</th>\n",
       "      <th>B</th>\n",
       "      <th>C</th>\n",
       "      <th>D</th>\n",
       "    </tr>\n",
       "  </thead>\n",
       "  <tbody>\n",
       "    <tr>\n",
       "      <th>2000-01-01</th>\n",
       "      <td>1.269000</td>\n",
       "      <td>-0.732474</td>\n",
       "      <td>-1.363885</td>\n",
       "      <td>1.372010</td>\n",
       "    </tr>\n",
       "    <tr>\n",
       "      <th>2000-01-02</th>\n",
       "      <td>0.346400</td>\n",
       "      <td>-0.234358</td>\n",
       "      <td>-3.058232</td>\n",
       "      <td>0.367005</td>\n",
       "    </tr>\n",
       "    <tr>\n",
       "      <th>2000-01-03</th>\n",
       "      <td>1.006875</td>\n",
       "      <td>-0.046362</td>\n",
       "      <td>-4.685272</td>\n",
       "      <td>0.144633</td>\n",
       "    </tr>\n",
       "    <tr>\n",
       "      <th>2000-01-04</th>\n",
       "      <td>1.605905</td>\n",
       "      <td>-0.001352</td>\n",
       "      <td>-3.684998</td>\n",
       "      <td>0.777244</td>\n",
       "    </tr>\n",
       "    <tr>\n",
       "      <th>2000-01-05</th>\n",
       "      <td>0.615125</td>\n",
       "      <td>-0.960320</td>\n",
       "      <td>-4.313167</td>\n",
       "      <td>-0.694653</td>\n",
       "    </tr>\n",
       "    <tr>\n",
       "      <th>2000-01-06</th>\n",
       "      <td>0.726276</td>\n",
       "      <td>-0.027878</td>\n",
       "      <td>-5.911535</td>\n",
       "      <td>-1.880557</td>\n",
       "    </tr>\n",
       "    <tr>\n",
       "      <th>2000-01-07</th>\n",
       "      <td>1.342345</td>\n",
       "      <td>0.427630</td>\n",
       "      <td>-6.429967</td>\n",
       "      <td>-3.492904</td>\n",
       "    </tr>\n",
       "    <tr>\n",
       "      <th>2000-01-08</th>\n",
       "      <td>1.437471</td>\n",
       "      <td>-0.708659</td>\n",
       "      <td>-6.453717</td>\n",
       "      <td>-4.147945</td>\n",
       "    </tr>\n",
       "    <tr>\n",
       "      <th>2000-01-09</th>\n",
       "      <td>-0.017387</td>\n",
       "      <td>-2.087043</td>\n",
       "      <td>-7.718066</td>\n",
       "      <td>-3.827057</td>\n",
       "    </tr>\n",
       "    <tr>\n",
       "      <th>2000-01-10</th>\n",
       "      <td>1.111285</td>\n",
       "      <td>-0.216736</td>\n",
       "      <td>-8.324189</td>\n",
       "      <td>-4.130144</td>\n",
       "    </tr>\n",
       "    <tr>\n",
       "      <th>2000-01-11</th>\n",
       "      <td>0.447322</td>\n",
       "      <td>-0.876857</td>\n",
       "      <td>-6.650148</td>\n",
       "      <td>-5.755439</td>\n",
       "    </tr>\n",
       "    <tr>\n",
       "      <th>2000-01-12</th>\n",
       "      <td>0.269772</td>\n",
       "      <td>-1.577317</td>\n",
       "      <td>-6.511338</td>\n",
       "      <td>-4.993784</td>\n",
       "    </tr>\n",
       "    <tr>\n",
       "      <th>2000-01-13</th>\n",
       "      <td>1.590963</td>\n",
       "      <td>-1.644238</td>\n",
       "      <td>-5.740657</td>\n",
       "      <td>-6.313649</td>\n",
       "    </tr>\n",
       "    <tr>\n",
       "      <th>2000-01-14</th>\n",
       "      <td>0.776797</td>\n",
       "      <td>-3.128370</td>\n",
       "      <td>-5.200803</td>\n",
       "      <td>-8.164991</td>\n",
       "    </tr>\n",
       "    <tr>\n",
       "      <th>2000-01-15</th>\n",
       "      <td>-0.989326</td>\n",
       "      <td>-3.528034</td>\n",
       "      <td>-5.631557</td>\n",
       "      <td>-8.357850</td>\n",
       "    </tr>\n",
       "    <tr>\n",
       "      <th>2000-01-16</th>\n",
       "      <td>-1.756663</td>\n",
       "      <td>-2.495869</td>\n",
       "      <td>-4.896412</td>\n",
       "      <td>-9.350270</td>\n",
       "    </tr>\n",
       "    <tr>\n",
       "      <th>2000-01-17</th>\n",
       "      <td>-1.070938</td>\n",
       "      <td>-2.796845</td>\n",
       "      <td>-3.894262</td>\n",
       "      <td>-10.740745</td>\n",
       "    </tr>\n",
       "    <tr>\n",
       "      <th>2000-01-18</th>\n",
       "      <td>-2.379507</td>\n",
       "      <td>-2.250951</td>\n",
       "      <td>-3.703513</td>\n",
       "      <td>-11.633648</td>\n",
       "    </tr>\n",
       "    <tr>\n",
       "      <th>2000-01-19</th>\n",
       "      <td>-2.726007</td>\n",
       "      <td>-2.952197</td>\n",
       "      <td>-4.652359</td>\n",
       "      <td>-11.834353</td>\n",
       "    </tr>\n",
       "    <tr>\n",
       "      <th>2000-01-20</th>\n",
       "      <td>-2.186426</td>\n",
       "      <td>-2.316165</td>\n",
       "      <td>-4.376137</td>\n",
       "      <td>-12.760676</td>\n",
       "    </tr>\n",
       "    <tr>\n",
       "      <th>2000-01-21</th>\n",
       "      <td>-3.250655</td>\n",
       "      <td>-2.935361</td>\n",
       "      <td>-4.556809</td>\n",
       "      <td>-13.194172</td>\n",
       "    </tr>\n",
       "    <tr>\n",
       "      <th>2000-01-22</th>\n",
       "      <td>-1.718552</td>\n",
       "      <td>-1.854469</td>\n",
       "      <td>-4.908630</td>\n",
       "      <td>-14.485757</td>\n",
       "    </tr>\n",
       "    <tr>\n",
       "      <th>2000-01-23</th>\n",
       "      <td>-3.776882</td>\n",
       "      <td>-3.954964</td>\n",
       "      <td>-3.413873</td>\n",
       "      <td>-14.003048</td>\n",
       "    </tr>\n",
       "    <tr>\n",
       "      <th>2000-01-24</th>\n",
       "      <td>-2.646925</td>\n",
       "      <td>-4.219828</td>\n",
       "      <td>-2.339498</td>\n",
       "      <td>-15.112157</td>\n",
       "    </tr>\n",
       "    <tr>\n",
       "      <th>2000-01-25</th>\n",
       "      <td>-2.820156</td>\n",
       "      <td>-4.751851</td>\n",
       "      <td>-0.095490</td>\n",
       "      <td>-14.093149</td>\n",
       "    </tr>\n",
       "    <tr>\n",
       "      <th>2000-01-26</th>\n",
       "      <td>-0.791084</td>\n",
       "      <td>-4.356534</td>\n",
       "      <td>-0.600638</td>\n",
       "      <td>-16.515435</td>\n",
       "    </tr>\n",
       "    <tr>\n",
       "      <th>2000-01-27</th>\n",
       "      <td>0.153760</td>\n",
       "      <td>-2.914609</td>\n",
       "      <td>0.000111</td>\n",
       "      <td>-15.141755</td>\n",
       "    </tr>\n",
       "    <tr>\n",
       "      <th>2000-01-28</th>\n",
       "      <td>1.755629</td>\n",
       "      <td>-3.405897</td>\n",
       "      <td>0.034025</td>\n",
       "      <td>-15.711836</td>\n",
       "    </tr>\n",
       "    <tr>\n",
       "      <th>2000-01-29</th>\n",
       "      <td>2.090201</td>\n",
       "      <td>-3.374964</td>\n",
       "      <td>1.804968</td>\n",
       "      <td>-15.200817</td>\n",
       "    </tr>\n",
       "    <tr>\n",
       "      <th>2000-01-30</th>\n",
       "      <td>2.521692</td>\n",
       "      <td>-3.251785</td>\n",
       "      <td>2.834411</td>\n",
       "      <td>-15.227202</td>\n",
       "    </tr>\n",
       "    <tr>\n",
       "      <th>...</th>\n",
       "      <td>...</td>\n",
       "      <td>...</td>\n",
       "      <td>...</td>\n",
       "      <td>...</td>\n",
       "    </tr>\n",
       "    <tr>\n",
       "      <th>2002-08-28</th>\n",
       "      <td>11.518190</td>\n",
       "      <td>15.421332</td>\n",
       "      <td>-29.516813</td>\n",
       "      <td>-18.593091</td>\n",
       "    </tr>\n",
       "    <tr>\n",
       "      <th>2002-08-29</th>\n",
       "      <td>10.829898</td>\n",
       "      <td>15.960488</td>\n",
       "      <td>-30.925446</td>\n",
       "      <td>-18.195720</td>\n",
       "    </tr>\n",
       "    <tr>\n",
       "      <th>2002-08-30</th>\n",
       "      <td>11.257815</td>\n",
       "      <td>15.048344</td>\n",
       "      <td>-31.784188</td>\n",
       "      <td>-17.214908</td>\n",
       "    </tr>\n",
       "    <tr>\n",
       "      <th>2002-08-31</th>\n",
       "      <td>10.161113</td>\n",
       "      <td>14.988795</td>\n",
       "      <td>-32.468614</td>\n",
       "      <td>-16.070249</td>\n",
       "    </tr>\n",
       "    <tr>\n",
       "      <th>2002-09-01</th>\n",
       "      <td>10.769252</td>\n",
       "      <td>13.331163</td>\n",
       "      <td>-31.718765</td>\n",
       "      <td>-15.530023</td>\n",
       "    </tr>\n",
       "    <tr>\n",
       "      <th>2002-09-02</th>\n",
       "      <td>11.315725</td>\n",
       "      <td>13.484899</td>\n",
       "      <td>-31.449378</td>\n",
       "      <td>-16.259502</td>\n",
       "    </tr>\n",
       "    <tr>\n",
       "      <th>2002-09-03</th>\n",
       "      <td>10.094458</td>\n",
       "      <td>14.493224</td>\n",
       "      <td>-32.070594</td>\n",
       "      <td>-15.073331</td>\n",
       "    </tr>\n",
       "    <tr>\n",
       "      <th>2002-09-04</th>\n",
       "      <td>10.234147</td>\n",
       "      <td>13.416558</td>\n",
       "      <td>-31.679071</td>\n",
       "      <td>-16.574925</td>\n",
       "    </tr>\n",
       "    <tr>\n",
       "      <th>2002-09-05</th>\n",
       "      <td>10.089801</td>\n",
       "      <td>13.799832</td>\n",
       "      <td>-32.353290</td>\n",
       "      <td>-15.978073</td>\n",
       "    </tr>\n",
       "    <tr>\n",
       "      <th>2002-09-06</th>\n",
       "      <td>9.165600</td>\n",
       "      <td>13.789743</td>\n",
       "      <td>-33.764148</td>\n",
       "      <td>-14.976548</td>\n",
       "    </tr>\n",
       "    <tr>\n",
       "      <th>2002-09-07</th>\n",
       "      <td>10.045925</td>\n",
       "      <td>14.248619</td>\n",
       "      <td>-33.904458</td>\n",
       "      <td>-15.197537</td>\n",
       "    </tr>\n",
       "    <tr>\n",
       "      <th>2002-09-08</th>\n",
       "      <td>9.428247</td>\n",
       "      <td>13.522564</td>\n",
       "      <td>-34.073562</td>\n",
       "      <td>-14.306700</td>\n",
       "    </tr>\n",
       "    <tr>\n",
       "      <th>2002-09-09</th>\n",
       "      <td>10.095615</td>\n",
       "      <td>13.030110</td>\n",
       "      <td>-33.115773</td>\n",
       "      <td>-14.383878</td>\n",
       "    </tr>\n",
       "    <tr>\n",
       "      <th>2002-09-10</th>\n",
       "      <td>10.242243</td>\n",
       "      <td>13.495024</td>\n",
       "      <td>-32.380722</td>\n",
       "      <td>-14.905190</td>\n",
       "    </tr>\n",
       "    <tr>\n",
       "      <th>2002-09-11</th>\n",
       "      <td>11.459304</td>\n",
       "      <td>12.704401</td>\n",
       "      <td>-32.263970</td>\n",
       "      <td>-15.482183</td>\n",
       "    </tr>\n",
       "    <tr>\n",
       "      <th>2002-09-12</th>\n",
       "      <td>11.008645</td>\n",
       "      <td>12.473708</td>\n",
       "      <td>-31.896829</td>\n",
       "      <td>-16.110906</td>\n",
       "    </tr>\n",
       "    <tr>\n",
       "      <th>2002-09-13</th>\n",
       "      <td>10.664636</td>\n",
       "      <td>14.063707</td>\n",
       "      <td>-31.872418</td>\n",
       "      <td>-17.369567</td>\n",
       "    </tr>\n",
       "    <tr>\n",
       "      <th>2002-09-14</th>\n",
       "      <td>10.154178</td>\n",
       "      <td>12.863828</td>\n",
       "      <td>-30.372357</td>\n",
       "      <td>-16.559976</td>\n",
       "    </tr>\n",
       "    <tr>\n",
       "      <th>2002-09-15</th>\n",
       "      <td>10.909126</td>\n",
       "      <td>13.750181</td>\n",
       "      <td>-29.600189</td>\n",
       "      <td>-15.041868</td>\n",
       "    </tr>\n",
       "    <tr>\n",
       "      <th>2002-09-16</th>\n",
       "      <td>10.172471</td>\n",
       "      <td>12.714905</td>\n",
       "      <td>-29.667845</td>\n",
       "      <td>-15.687661</td>\n",
       "    </tr>\n",
       "    <tr>\n",
       "      <th>2002-09-17</th>\n",
       "      <td>9.895457</td>\n",
       "      <td>12.742862</td>\n",
       "      <td>-29.352716</td>\n",
       "      <td>-15.719220</td>\n",
       "    </tr>\n",
       "    <tr>\n",
       "      <th>2002-09-18</th>\n",
       "      <td>10.639503</td>\n",
       "      <td>11.992938</td>\n",
       "      <td>-25.433416</td>\n",
       "      <td>-15.315797</td>\n",
       "    </tr>\n",
       "    <tr>\n",
       "      <th>2002-09-19</th>\n",
       "      <td>11.074649</td>\n",
       "      <td>11.417012</td>\n",
       "      <td>-25.368708</td>\n",
       "      <td>-13.934458</td>\n",
       "    </tr>\n",
       "    <tr>\n",
       "      <th>2002-09-20</th>\n",
       "      <td>11.134682</td>\n",
       "      <td>9.907876</td>\n",
       "      <td>-24.146791</td>\n",
       "      <td>-14.995904</td>\n",
       "    </tr>\n",
       "    <tr>\n",
       "      <th>2002-09-21</th>\n",
       "      <td>13.464543</td>\n",
       "      <td>8.874336</td>\n",
       "      <td>-23.153202</td>\n",
       "      <td>-14.059317</td>\n",
       "    </tr>\n",
       "    <tr>\n",
       "      <th>2002-09-22</th>\n",
       "      <td>15.328672</td>\n",
       "      <td>10.541876</td>\n",
       "      <td>-21.624574</td>\n",
       "      <td>-14.479165</td>\n",
       "    </tr>\n",
       "    <tr>\n",
       "      <th>2002-09-23</th>\n",
       "      <td>14.491666</td>\n",
       "      <td>9.649930</td>\n",
       "      <td>-21.822965</td>\n",
       "      <td>-13.821721</td>\n",
       "    </tr>\n",
       "    <tr>\n",
       "      <th>2002-09-24</th>\n",
       "      <td>14.225918</td>\n",
       "      <td>10.091252</td>\n",
       "      <td>-21.458805</td>\n",
       "      <td>-14.347324</td>\n",
       "    </tr>\n",
       "    <tr>\n",
       "      <th>2002-09-25</th>\n",
       "      <td>15.555576</td>\n",
       "      <td>10.517895</td>\n",
       "      <td>-20.644050</td>\n",
       "      <td>-13.733016</td>\n",
       "    </tr>\n",
       "    <tr>\n",
       "      <th>2002-09-26</th>\n",
       "      <td>15.284848</td>\n",
       "      <td>9.962087</td>\n",
       "      <td>-20.784955</td>\n",
       "      <td>-13.236119</td>\n",
       "    </tr>\n",
       "  </tbody>\n",
       "</table>\n",
       "<p>1000 rows × 4 columns</p>\n",
       "</div>"
      ],
      "text/plain": [
       "                    A          B          C          D\n",
       "2000-01-01   1.269000  -0.732474  -1.363885   1.372010\n",
       "2000-01-02   0.346400  -0.234358  -3.058232   0.367005\n",
       "2000-01-03   1.006875  -0.046362  -4.685272   0.144633\n",
       "2000-01-04   1.605905  -0.001352  -3.684998   0.777244\n",
       "2000-01-05   0.615125  -0.960320  -4.313167  -0.694653\n",
       "2000-01-06   0.726276  -0.027878  -5.911535  -1.880557\n",
       "2000-01-07   1.342345   0.427630  -6.429967  -3.492904\n",
       "2000-01-08   1.437471  -0.708659  -6.453717  -4.147945\n",
       "2000-01-09  -0.017387  -2.087043  -7.718066  -3.827057\n",
       "2000-01-10   1.111285  -0.216736  -8.324189  -4.130144\n",
       "2000-01-11   0.447322  -0.876857  -6.650148  -5.755439\n",
       "2000-01-12   0.269772  -1.577317  -6.511338  -4.993784\n",
       "2000-01-13   1.590963  -1.644238  -5.740657  -6.313649\n",
       "2000-01-14   0.776797  -3.128370  -5.200803  -8.164991\n",
       "2000-01-15  -0.989326  -3.528034  -5.631557  -8.357850\n",
       "2000-01-16  -1.756663  -2.495869  -4.896412  -9.350270\n",
       "2000-01-17  -1.070938  -2.796845  -3.894262 -10.740745\n",
       "2000-01-18  -2.379507  -2.250951  -3.703513 -11.633648\n",
       "2000-01-19  -2.726007  -2.952197  -4.652359 -11.834353\n",
       "2000-01-20  -2.186426  -2.316165  -4.376137 -12.760676\n",
       "2000-01-21  -3.250655  -2.935361  -4.556809 -13.194172\n",
       "2000-01-22  -1.718552  -1.854469  -4.908630 -14.485757\n",
       "2000-01-23  -3.776882  -3.954964  -3.413873 -14.003048\n",
       "2000-01-24  -2.646925  -4.219828  -2.339498 -15.112157\n",
       "2000-01-25  -2.820156  -4.751851  -0.095490 -14.093149\n",
       "2000-01-26  -0.791084  -4.356534  -0.600638 -16.515435\n",
       "2000-01-27   0.153760  -2.914609   0.000111 -15.141755\n",
       "2000-01-28   1.755629  -3.405897   0.034025 -15.711836\n",
       "2000-01-29   2.090201  -3.374964   1.804968 -15.200817\n",
       "2000-01-30   2.521692  -3.251785   2.834411 -15.227202\n",
       "...               ...        ...        ...        ...\n",
       "2002-08-28  11.518190  15.421332 -29.516813 -18.593091\n",
       "2002-08-29  10.829898  15.960488 -30.925446 -18.195720\n",
       "2002-08-30  11.257815  15.048344 -31.784188 -17.214908\n",
       "2002-08-31  10.161113  14.988795 -32.468614 -16.070249\n",
       "2002-09-01  10.769252  13.331163 -31.718765 -15.530023\n",
       "2002-09-02  11.315725  13.484899 -31.449378 -16.259502\n",
       "2002-09-03  10.094458  14.493224 -32.070594 -15.073331\n",
       "2002-09-04  10.234147  13.416558 -31.679071 -16.574925\n",
       "2002-09-05  10.089801  13.799832 -32.353290 -15.978073\n",
       "2002-09-06   9.165600  13.789743 -33.764148 -14.976548\n",
       "2002-09-07  10.045925  14.248619 -33.904458 -15.197537\n",
       "2002-09-08   9.428247  13.522564 -34.073562 -14.306700\n",
       "2002-09-09  10.095615  13.030110 -33.115773 -14.383878\n",
       "2002-09-10  10.242243  13.495024 -32.380722 -14.905190\n",
       "2002-09-11  11.459304  12.704401 -32.263970 -15.482183\n",
       "2002-09-12  11.008645  12.473708 -31.896829 -16.110906\n",
       "2002-09-13  10.664636  14.063707 -31.872418 -17.369567\n",
       "2002-09-14  10.154178  12.863828 -30.372357 -16.559976\n",
       "2002-09-15  10.909126  13.750181 -29.600189 -15.041868\n",
       "2002-09-16  10.172471  12.714905 -29.667845 -15.687661\n",
       "2002-09-17   9.895457  12.742862 -29.352716 -15.719220\n",
       "2002-09-18  10.639503  11.992938 -25.433416 -15.315797\n",
       "2002-09-19  11.074649  11.417012 -25.368708 -13.934458\n",
       "2002-09-20  11.134682   9.907876 -24.146791 -14.995904\n",
       "2002-09-21  13.464543   8.874336 -23.153202 -14.059317\n",
       "2002-09-22  15.328672  10.541876 -21.624574 -14.479165\n",
       "2002-09-23  14.491666   9.649930 -21.822965 -13.821721\n",
       "2002-09-24  14.225918  10.091252 -21.458805 -14.347324\n",
       "2002-09-25  15.555576  10.517895 -20.644050 -13.733016\n",
       "2002-09-26  15.284848   9.962087 -20.784955 -13.236119\n",
       "\n",
       "[1000 rows x 4 columns]"
      ]
     },
     "execution_count": 151,
     "metadata": {},
     "output_type": "execute_result"
    }
   ],
   "source": [
    "pd.read_hdf('foo.h5','df')"
   ]
  },
  {
   "cell_type": "code",
   "execution_count": 152,
   "metadata": {
    "collapsed": true
   },
   "outputs": [],
   "source": [
    "# 5.12.3 Excel"
   ]
  },
  {
   "cell_type": "code",
   "execution_count": 153,
   "metadata": {
    "collapsed": true
   },
   "outputs": [],
   "source": [
    "df.to_excel('foo.xlsx', sheet_name='Sheet1')"
   ]
  },
  {
   "cell_type": "code",
   "execution_count": 154,
   "metadata": {},
   "outputs": [
    {
     "data": {
      "text/html": [
       "<div>\n",
       "<style>\n",
       "    .dataframe thead tr:only-child th {\n",
       "        text-align: right;\n",
       "    }\n",
       "\n",
       "    .dataframe thead th {\n",
       "        text-align: left;\n",
       "    }\n",
       "\n",
       "    .dataframe tbody tr th {\n",
       "        vertical-align: top;\n",
       "    }\n",
       "</style>\n",
       "<table border=\"1\" class=\"dataframe\">\n",
       "  <thead>\n",
       "    <tr style=\"text-align: right;\">\n",
       "      <th></th>\n",
       "      <th>A</th>\n",
       "      <th>B</th>\n",
       "      <th>C</th>\n",
       "      <th>D</th>\n",
       "    </tr>\n",
       "  </thead>\n",
       "  <tbody>\n",
       "    <tr>\n",
       "      <th>2000-01-01</th>\n",
       "      <td>1.269000</td>\n",
       "      <td>-0.732474</td>\n",
       "      <td>-1.363885</td>\n",
       "      <td>1.372010</td>\n",
       "    </tr>\n",
       "    <tr>\n",
       "      <th>2000-01-02</th>\n",
       "      <td>0.346400</td>\n",
       "      <td>-0.234358</td>\n",
       "      <td>-3.058232</td>\n",
       "      <td>0.367005</td>\n",
       "    </tr>\n",
       "    <tr>\n",
       "      <th>2000-01-03</th>\n",
       "      <td>1.006875</td>\n",
       "      <td>-0.046362</td>\n",
       "      <td>-4.685272</td>\n",
       "      <td>0.144633</td>\n",
       "    </tr>\n",
       "    <tr>\n",
       "      <th>2000-01-04</th>\n",
       "      <td>1.605905</td>\n",
       "      <td>-0.001352</td>\n",
       "      <td>-3.684998</td>\n",
       "      <td>0.777244</td>\n",
       "    </tr>\n",
       "    <tr>\n",
       "      <th>2000-01-05</th>\n",
       "      <td>0.615125</td>\n",
       "      <td>-0.960320</td>\n",
       "      <td>-4.313167</td>\n",
       "      <td>-0.694653</td>\n",
       "    </tr>\n",
       "    <tr>\n",
       "      <th>2000-01-06</th>\n",
       "      <td>0.726276</td>\n",
       "      <td>-0.027878</td>\n",
       "      <td>-5.911535</td>\n",
       "      <td>-1.880557</td>\n",
       "    </tr>\n",
       "    <tr>\n",
       "      <th>2000-01-07</th>\n",
       "      <td>1.342345</td>\n",
       "      <td>0.427630</td>\n",
       "      <td>-6.429967</td>\n",
       "      <td>-3.492904</td>\n",
       "    </tr>\n",
       "    <tr>\n",
       "      <th>2000-01-08</th>\n",
       "      <td>1.437471</td>\n",
       "      <td>-0.708659</td>\n",
       "      <td>-6.453717</td>\n",
       "      <td>-4.147945</td>\n",
       "    </tr>\n",
       "    <tr>\n",
       "      <th>2000-01-09</th>\n",
       "      <td>-0.017387</td>\n",
       "      <td>-2.087043</td>\n",
       "      <td>-7.718066</td>\n",
       "      <td>-3.827057</td>\n",
       "    </tr>\n",
       "    <tr>\n",
       "      <th>2000-01-10</th>\n",
       "      <td>1.111285</td>\n",
       "      <td>-0.216736</td>\n",
       "      <td>-8.324189</td>\n",
       "      <td>-4.130144</td>\n",
       "    </tr>\n",
       "    <tr>\n",
       "      <th>2000-01-11</th>\n",
       "      <td>0.447322</td>\n",
       "      <td>-0.876857</td>\n",
       "      <td>-6.650148</td>\n",
       "      <td>-5.755439</td>\n",
       "    </tr>\n",
       "    <tr>\n",
       "      <th>2000-01-12</th>\n",
       "      <td>0.269772</td>\n",
       "      <td>-1.577317</td>\n",
       "      <td>-6.511338</td>\n",
       "      <td>-4.993784</td>\n",
       "    </tr>\n",
       "    <tr>\n",
       "      <th>2000-01-13</th>\n",
       "      <td>1.590963</td>\n",
       "      <td>-1.644238</td>\n",
       "      <td>-5.740657</td>\n",
       "      <td>-6.313649</td>\n",
       "    </tr>\n",
       "    <tr>\n",
       "      <th>2000-01-14</th>\n",
       "      <td>0.776797</td>\n",
       "      <td>-3.128370</td>\n",
       "      <td>-5.200803</td>\n",
       "      <td>-8.164991</td>\n",
       "    </tr>\n",
       "    <tr>\n",
       "      <th>2000-01-15</th>\n",
       "      <td>-0.989326</td>\n",
       "      <td>-3.528034</td>\n",
       "      <td>-5.631557</td>\n",
       "      <td>-8.357850</td>\n",
       "    </tr>\n",
       "    <tr>\n",
       "      <th>2000-01-16</th>\n",
       "      <td>-1.756663</td>\n",
       "      <td>-2.495869</td>\n",
       "      <td>-4.896412</td>\n",
       "      <td>-9.350270</td>\n",
       "    </tr>\n",
       "    <tr>\n",
       "      <th>2000-01-17</th>\n",
       "      <td>-1.070938</td>\n",
       "      <td>-2.796845</td>\n",
       "      <td>-3.894262</td>\n",
       "      <td>-10.740745</td>\n",
       "    </tr>\n",
       "    <tr>\n",
       "      <th>2000-01-18</th>\n",
       "      <td>-2.379507</td>\n",
       "      <td>-2.250951</td>\n",
       "      <td>-3.703513</td>\n",
       "      <td>-11.633648</td>\n",
       "    </tr>\n",
       "    <tr>\n",
       "      <th>2000-01-19</th>\n",
       "      <td>-2.726007</td>\n",
       "      <td>-2.952197</td>\n",
       "      <td>-4.652359</td>\n",
       "      <td>-11.834353</td>\n",
       "    </tr>\n",
       "    <tr>\n",
       "      <th>2000-01-20</th>\n",
       "      <td>-2.186426</td>\n",
       "      <td>-2.316165</td>\n",
       "      <td>-4.376137</td>\n",
       "      <td>-12.760676</td>\n",
       "    </tr>\n",
       "    <tr>\n",
       "      <th>2000-01-21</th>\n",
       "      <td>-3.250655</td>\n",
       "      <td>-2.935361</td>\n",
       "      <td>-4.556809</td>\n",
       "      <td>-13.194172</td>\n",
       "    </tr>\n",
       "    <tr>\n",
       "      <th>2000-01-22</th>\n",
       "      <td>-1.718552</td>\n",
       "      <td>-1.854469</td>\n",
       "      <td>-4.908630</td>\n",
       "      <td>-14.485757</td>\n",
       "    </tr>\n",
       "    <tr>\n",
       "      <th>2000-01-23</th>\n",
       "      <td>-3.776882</td>\n",
       "      <td>-3.954964</td>\n",
       "      <td>-3.413873</td>\n",
       "      <td>-14.003048</td>\n",
       "    </tr>\n",
       "    <tr>\n",
       "      <th>2000-01-24</th>\n",
       "      <td>-2.646925</td>\n",
       "      <td>-4.219828</td>\n",
       "      <td>-2.339498</td>\n",
       "      <td>-15.112157</td>\n",
       "    </tr>\n",
       "    <tr>\n",
       "      <th>2000-01-25</th>\n",
       "      <td>-2.820156</td>\n",
       "      <td>-4.751851</td>\n",
       "      <td>-0.095490</td>\n",
       "      <td>-14.093149</td>\n",
       "    </tr>\n",
       "    <tr>\n",
       "      <th>2000-01-26</th>\n",
       "      <td>-0.791084</td>\n",
       "      <td>-4.356534</td>\n",
       "      <td>-0.600638</td>\n",
       "      <td>-16.515435</td>\n",
       "    </tr>\n",
       "    <tr>\n",
       "      <th>2000-01-27</th>\n",
       "      <td>0.153760</td>\n",
       "      <td>-2.914609</td>\n",
       "      <td>0.000111</td>\n",
       "      <td>-15.141755</td>\n",
       "    </tr>\n",
       "    <tr>\n",
       "      <th>2000-01-28</th>\n",
       "      <td>1.755629</td>\n",
       "      <td>-3.405897</td>\n",
       "      <td>0.034025</td>\n",
       "      <td>-15.711836</td>\n",
       "    </tr>\n",
       "    <tr>\n",
       "      <th>2000-01-29</th>\n",
       "      <td>2.090201</td>\n",
       "      <td>-3.374964</td>\n",
       "      <td>1.804968</td>\n",
       "      <td>-15.200817</td>\n",
       "    </tr>\n",
       "    <tr>\n",
       "      <th>2000-01-30</th>\n",
       "      <td>2.521692</td>\n",
       "      <td>-3.251785</td>\n",
       "      <td>2.834411</td>\n",
       "      <td>-15.227202</td>\n",
       "    </tr>\n",
       "    <tr>\n",
       "      <th>...</th>\n",
       "      <td>...</td>\n",
       "      <td>...</td>\n",
       "      <td>...</td>\n",
       "      <td>...</td>\n",
       "    </tr>\n",
       "    <tr>\n",
       "      <th>2002-08-28</th>\n",
       "      <td>11.518190</td>\n",
       "      <td>15.421332</td>\n",
       "      <td>-29.516813</td>\n",
       "      <td>-18.593091</td>\n",
       "    </tr>\n",
       "    <tr>\n",
       "      <th>2002-08-29</th>\n",
       "      <td>10.829898</td>\n",
       "      <td>15.960488</td>\n",
       "      <td>-30.925446</td>\n",
       "      <td>-18.195720</td>\n",
       "    </tr>\n",
       "    <tr>\n",
       "      <th>2002-08-30</th>\n",
       "      <td>11.257815</td>\n",
       "      <td>15.048344</td>\n",
       "      <td>-31.784188</td>\n",
       "      <td>-17.214908</td>\n",
       "    </tr>\n",
       "    <tr>\n",
       "      <th>2002-08-31</th>\n",
       "      <td>10.161113</td>\n",
       "      <td>14.988795</td>\n",
       "      <td>-32.468614</td>\n",
       "      <td>-16.070249</td>\n",
       "    </tr>\n",
       "    <tr>\n",
       "      <th>2002-09-01</th>\n",
       "      <td>10.769252</td>\n",
       "      <td>13.331163</td>\n",
       "      <td>-31.718765</td>\n",
       "      <td>-15.530023</td>\n",
       "    </tr>\n",
       "    <tr>\n",
       "      <th>2002-09-02</th>\n",
       "      <td>11.315725</td>\n",
       "      <td>13.484899</td>\n",
       "      <td>-31.449378</td>\n",
       "      <td>-16.259502</td>\n",
       "    </tr>\n",
       "    <tr>\n",
       "      <th>2002-09-03</th>\n",
       "      <td>10.094458</td>\n",
       "      <td>14.493224</td>\n",
       "      <td>-32.070594</td>\n",
       "      <td>-15.073331</td>\n",
       "    </tr>\n",
       "    <tr>\n",
       "      <th>2002-09-04</th>\n",
       "      <td>10.234147</td>\n",
       "      <td>13.416558</td>\n",
       "      <td>-31.679071</td>\n",
       "      <td>-16.574925</td>\n",
       "    </tr>\n",
       "    <tr>\n",
       "      <th>2002-09-05</th>\n",
       "      <td>10.089801</td>\n",
       "      <td>13.799832</td>\n",
       "      <td>-32.353290</td>\n",
       "      <td>-15.978073</td>\n",
       "    </tr>\n",
       "    <tr>\n",
       "      <th>2002-09-06</th>\n",
       "      <td>9.165600</td>\n",
       "      <td>13.789743</td>\n",
       "      <td>-33.764148</td>\n",
       "      <td>-14.976548</td>\n",
       "    </tr>\n",
       "    <tr>\n",
       "      <th>2002-09-07</th>\n",
       "      <td>10.045925</td>\n",
       "      <td>14.248619</td>\n",
       "      <td>-33.904458</td>\n",
       "      <td>-15.197537</td>\n",
       "    </tr>\n",
       "    <tr>\n",
       "      <th>2002-09-08</th>\n",
       "      <td>9.428247</td>\n",
       "      <td>13.522564</td>\n",
       "      <td>-34.073562</td>\n",
       "      <td>-14.306700</td>\n",
       "    </tr>\n",
       "    <tr>\n",
       "      <th>2002-09-09</th>\n",
       "      <td>10.095615</td>\n",
       "      <td>13.030110</td>\n",
       "      <td>-33.115773</td>\n",
       "      <td>-14.383878</td>\n",
       "    </tr>\n",
       "    <tr>\n",
       "      <th>2002-09-10</th>\n",
       "      <td>10.242243</td>\n",
       "      <td>13.495024</td>\n",
       "      <td>-32.380722</td>\n",
       "      <td>-14.905190</td>\n",
       "    </tr>\n",
       "    <tr>\n",
       "      <th>2002-09-11</th>\n",
       "      <td>11.459304</td>\n",
       "      <td>12.704401</td>\n",
       "      <td>-32.263970</td>\n",
       "      <td>-15.482183</td>\n",
       "    </tr>\n",
       "    <tr>\n",
       "      <th>2002-09-12</th>\n",
       "      <td>11.008645</td>\n",
       "      <td>12.473708</td>\n",
       "      <td>-31.896829</td>\n",
       "      <td>-16.110906</td>\n",
       "    </tr>\n",
       "    <tr>\n",
       "      <th>2002-09-13</th>\n",
       "      <td>10.664636</td>\n",
       "      <td>14.063707</td>\n",
       "      <td>-31.872418</td>\n",
       "      <td>-17.369567</td>\n",
       "    </tr>\n",
       "    <tr>\n",
       "      <th>2002-09-14</th>\n",
       "      <td>10.154178</td>\n",
       "      <td>12.863828</td>\n",
       "      <td>-30.372357</td>\n",
       "      <td>-16.559976</td>\n",
       "    </tr>\n",
       "    <tr>\n",
       "      <th>2002-09-15</th>\n",
       "      <td>10.909126</td>\n",
       "      <td>13.750181</td>\n",
       "      <td>-29.600189</td>\n",
       "      <td>-15.041868</td>\n",
       "    </tr>\n",
       "    <tr>\n",
       "      <th>2002-09-16</th>\n",
       "      <td>10.172471</td>\n",
       "      <td>12.714905</td>\n",
       "      <td>-29.667845</td>\n",
       "      <td>-15.687661</td>\n",
       "    </tr>\n",
       "    <tr>\n",
       "      <th>2002-09-17</th>\n",
       "      <td>9.895457</td>\n",
       "      <td>12.742862</td>\n",
       "      <td>-29.352716</td>\n",
       "      <td>-15.719220</td>\n",
       "    </tr>\n",
       "    <tr>\n",
       "      <th>2002-09-18</th>\n",
       "      <td>10.639503</td>\n",
       "      <td>11.992938</td>\n",
       "      <td>-25.433416</td>\n",
       "      <td>-15.315797</td>\n",
       "    </tr>\n",
       "    <tr>\n",
       "      <th>2002-09-19</th>\n",
       "      <td>11.074649</td>\n",
       "      <td>11.417012</td>\n",
       "      <td>-25.368708</td>\n",
       "      <td>-13.934458</td>\n",
       "    </tr>\n",
       "    <tr>\n",
       "      <th>2002-09-20</th>\n",
       "      <td>11.134682</td>\n",
       "      <td>9.907876</td>\n",
       "      <td>-24.146791</td>\n",
       "      <td>-14.995904</td>\n",
       "    </tr>\n",
       "    <tr>\n",
       "      <th>2002-09-21</th>\n",
       "      <td>13.464543</td>\n",
       "      <td>8.874336</td>\n",
       "      <td>-23.153202</td>\n",
       "      <td>-14.059317</td>\n",
       "    </tr>\n",
       "    <tr>\n",
       "      <th>2002-09-22</th>\n",
       "      <td>15.328672</td>\n",
       "      <td>10.541876</td>\n",
       "      <td>-21.624574</td>\n",
       "      <td>-14.479165</td>\n",
       "    </tr>\n",
       "    <tr>\n",
       "      <th>2002-09-23</th>\n",
       "      <td>14.491666</td>\n",
       "      <td>9.649930</td>\n",
       "      <td>-21.822965</td>\n",
       "      <td>-13.821721</td>\n",
       "    </tr>\n",
       "    <tr>\n",
       "      <th>2002-09-24</th>\n",
       "      <td>14.225918</td>\n",
       "      <td>10.091252</td>\n",
       "      <td>-21.458805</td>\n",
       "      <td>-14.347324</td>\n",
       "    </tr>\n",
       "    <tr>\n",
       "      <th>2002-09-25</th>\n",
       "      <td>15.555576</td>\n",
       "      <td>10.517895</td>\n",
       "      <td>-20.644050</td>\n",
       "      <td>-13.733016</td>\n",
       "    </tr>\n",
       "    <tr>\n",
       "      <th>2002-09-26</th>\n",
       "      <td>15.284848</td>\n",
       "      <td>9.962087</td>\n",
       "      <td>-20.784955</td>\n",
       "      <td>-13.236119</td>\n",
       "    </tr>\n",
       "  </tbody>\n",
       "</table>\n",
       "<p>1000 rows × 4 columns</p>\n",
       "</div>"
      ],
      "text/plain": [
       "                    A          B          C          D\n",
       "2000-01-01   1.269000  -0.732474  -1.363885   1.372010\n",
       "2000-01-02   0.346400  -0.234358  -3.058232   0.367005\n",
       "2000-01-03   1.006875  -0.046362  -4.685272   0.144633\n",
       "2000-01-04   1.605905  -0.001352  -3.684998   0.777244\n",
       "2000-01-05   0.615125  -0.960320  -4.313167  -0.694653\n",
       "2000-01-06   0.726276  -0.027878  -5.911535  -1.880557\n",
       "2000-01-07   1.342345   0.427630  -6.429967  -3.492904\n",
       "2000-01-08   1.437471  -0.708659  -6.453717  -4.147945\n",
       "2000-01-09  -0.017387  -2.087043  -7.718066  -3.827057\n",
       "2000-01-10   1.111285  -0.216736  -8.324189  -4.130144\n",
       "2000-01-11   0.447322  -0.876857  -6.650148  -5.755439\n",
       "2000-01-12   0.269772  -1.577317  -6.511338  -4.993784\n",
       "2000-01-13   1.590963  -1.644238  -5.740657  -6.313649\n",
       "2000-01-14   0.776797  -3.128370  -5.200803  -8.164991\n",
       "2000-01-15  -0.989326  -3.528034  -5.631557  -8.357850\n",
       "2000-01-16  -1.756663  -2.495869  -4.896412  -9.350270\n",
       "2000-01-17  -1.070938  -2.796845  -3.894262 -10.740745\n",
       "2000-01-18  -2.379507  -2.250951  -3.703513 -11.633648\n",
       "2000-01-19  -2.726007  -2.952197  -4.652359 -11.834353\n",
       "2000-01-20  -2.186426  -2.316165  -4.376137 -12.760676\n",
       "2000-01-21  -3.250655  -2.935361  -4.556809 -13.194172\n",
       "2000-01-22  -1.718552  -1.854469  -4.908630 -14.485757\n",
       "2000-01-23  -3.776882  -3.954964  -3.413873 -14.003048\n",
       "2000-01-24  -2.646925  -4.219828  -2.339498 -15.112157\n",
       "2000-01-25  -2.820156  -4.751851  -0.095490 -14.093149\n",
       "2000-01-26  -0.791084  -4.356534  -0.600638 -16.515435\n",
       "2000-01-27   0.153760  -2.914609   0.000111 -15.141755\n",
       "2000-01-28   1.755629  -3.405897   0.034025 -15.711836\n",
       "2000-01-29   2.090201  -3.374964   1.804968 -15.200817\n",
       "2000-01-30   2.521692  -3.251785   2.834411 -15.227202\n",
       "...               ...        ...        ...        ...\n",
       "2002-08-28  11.518190  15.421332 -29.516813 -18.593091\n",
       "2002-08-29  10.829898  15.960488 -30.925446 -18.195720\n",
       "2002-08-30  11.257815  15.048344 -31.784188 -17.214908\n",
       "2002-08-31  10.161113  14.988795 -32.468614 -16.070249\n",
       "2002-09-01  10.769252  13.331163 -31.718765 -15.530023\n",
       "2002-09-02  11.315725  13.484899 -31.449378 -16.259502\n",
       "2002-09-03  10.094458  14.493224 -32.070594 -15.073331\n",
       "2002-09-04  10.234147  13.416558 -31.679071 -16.574925\n",
       "2002-09-05  10.089801  13.799832 -32.353290 -15.978073\n",
       "2002-09-06   9.165600  13.789743 -33.764148 -14.976548\n",
       "2002-09-07  10.045925  14.248619 -33.904458 -15.197537\n",
       "2002-09-08   9.428247  13.522564 -34.073562 -14.306700\n",
       "2002-09-09  10.095615  13.030110 -33.115773 -14.383878\n",
       "2002-09-10  10.242243  13.495024 -32.380722 -14.905190\n",
       "2002-09-11  11.459304  12.704401 -32.263970 -15.482183\n",
       "2002-09-12  11.008645  12.473708 -31.896829 -16.110906\n",
       "2002-09-13  10.664636  14.063707 -31.872418 -17.369567\n",
       "2002-09-14  10.154178  12.863828 -30.372357 -16.559976\n",
       "2002-09-15  10.909126  13.750181 -29.600189 -15.041868\n",
       "2002-09-16  10.172471  12.714905 -29.667845 -15.687661\n",
       "2002-09-17   9.895457  12.742862 -29.352716 -15.719220\n",
       "2002-09-18  10.639503  11.992938 -25.433416 -15.315797\n",
       "2002-09-19  11.074649  11.417012 -25.368708 -13.934458\n",
       "2002-09-20  11.134682   9.907876 -24.146791 -14.995904\n",
       "2002-09-21  13.464543   8.874336 -23.153202 -14.059317\n",
       "2002-09-22  15.328672  10.541876 -21.624574 -14.479165\n",
       "2002-09-23  14.491666   9.649930 -21.822965 -13.821721\n",
       "2002-09-24  14.225918  10.091252 -21.458805 -14.347324\n",
       "2002-09-25  15.555576  10.517895 -20.644050 -13.733016\n",
       "2002-09-26  15.284848   9.962087 -20.784955 -13.236119\n",
       "\n",
       "[1000 rows x 4 columns]"
      ]
     },
     "execution_count": 154,
     "metadata": {},
     "output_type": "execute_result"
    }
   ],
   "source": [
    "pd.read_excel('foo.xlsx', 'Sheet1', index_col=None, na_values=['NA'])"
   ]
  },
  {
   "cell_type": "code",
   "execution_count": 155,
   "metadata": {
    "collapsed": true
   },
   "outputs": [],
   "source": [
    "# end"
   ]
  }
 ],
 "metadata": {
  "kernelspec": {
   "display_name": "Python 3",
   "language": "python",
   "name": "python3"
  },
  "language_info": {
   "codemirror_mode": {
    "name": "ipython",
    "version": 3
   },
   "file_extension": ".py",
   "mimetype": "text/x-python",
   "name": "python",
   "nbconvert_exporter": "python",
   "pygments_lexer": "ipython3",
   "version": "3.7.3"
  }
 },
 "nbformat": 4,
 "nbformat_minor": 2
}
